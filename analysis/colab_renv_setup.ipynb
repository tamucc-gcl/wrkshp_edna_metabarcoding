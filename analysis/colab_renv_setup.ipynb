{
  "cells": [
    {
      "cell_type": "markdown",
      "metadata": {
        "id": "view-in-github",
        "colab_type": "text"
      },
      "source": [
        "<a href=\"https://colab.research.google.com/github/tamucc-gcl/wrkshp_edna_metabarcoding/blob/main/analysis/colab_renv_setup.ipynb\" target=\"_parent\"><img src=\"https://colab.research.google.com/assets/colab-badge.svg\" alt=\"Open In Colab\"/></a>"
      ]
    },
    {
      "cell_type": "markdown",
      "metadata": {
        "id": "B8JlmtFMBjs9"
      },
      "source": [
        "# R in Colab with renv Persisted on Google Drive\n",
        "\n",
        "This notebook will:\n",
        "1. Mount Google Drive and clone your GitHub project.\n",
        "2. Restore your `renv` environment into a Drive-backed library so package installs persist across Colab sessions.\n",
        "3. Run example R code to verify setup.\n"
      ],
      "id": "B8JlmtFMBjs9"
    },
    {
      "cell_type": "code",
      "execution_count": null,
      "metadata": {
        "id": "AO9bQLvlBjs_",
        "outputId": "e1cc8523-e615-4feb-e6fc-4c104388dd73",
        "colab": {
          "base_uri": "https://localhost:8080/"
        }
      },
      "outputs": [
        {
          "output_type": "stream",
          "name": "stderr",
          "text": [
            "Installing package into ‘/usr/local/lib/R/site-library’\n",
            "(as ‘lib’ is unspecified)\n",
            "\n",
            "also installing the dependencies ‘RcppTOML’, ‘here’, ‘png’\n",
            "\n",
            "\n"
          ]
        }
      ],
      "source": [
        "# Install reticulate for Python interop\n",
        "if (!requireNamespace(\"reticulate\", quietly = TRUE)) install.packages(\"reticulate\")\n",
        "library(reticulate)\n",
        "\n",
        "# Mount Google Drive\n",
        "drive <- import(\"google.colab.drive\")\n",
        "drive$mount(\"/content/drive\")\n",
        "\n",
        "# Signal that we're in Colab\n",
        "Sys.setenv(COLAB = \"TRUE\")\n",
        "\n",
        "# Clone your GitHub project (only once)\n",
        "project_dir <- \"/content/your-project\"\n",
        "if (!dir.exists(project_dir)) {\n",
        "  system(paste(\"git clone git@github.com:tamucc-gcl/wrkshp_edna_metabarcoding.git\", project_dir))\n",
        "}\n"
      ],
      "id": "AO9bQLvlBjs_"
    },
    {
      "cell_type": "code",
      "execution_count": null,
      "metadata": {
        "id": "B2uGdLNUBjtA"
      },
      "outputs": [],
      "source": [
        "# Change to project directory\n",
        "setwd(\"/content/your-project\")\n",
        "\n",
        "# Install and restore renv\n",
        "if (!requireNamespace(\"renv\", quietly = TRUE)) install.packages(\"renv\")\n",
        "library(renv)\n",
        "renv::restore(prompt = FALSE)\n",
        "\n",
        "# Load your packages\n",
        "library(tidyverse)\n",
        "library(ipyrad)\n",
        "\n",
        "# Example code: List ipyrad functions\n",
        "print(ls(\"package:ipyrad\"))\n"
      ],
      "id": "B2uGdLNUBjtA"
    }
  ],
  "metadata": {
    "kernelspec": {
      "name": "ir",
      "display_name": "R"
    },
    "language_info": {
      "name": "R"
    },
    "colab": {
      "provenance": [],
      "include_colab_link": true
    }
  },
  "nbformat": 4,
  "nbformat_minor": 5
}