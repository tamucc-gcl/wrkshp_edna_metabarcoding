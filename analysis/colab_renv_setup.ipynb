{
  "cells": [
    {
      "cell_type": "markdown",
      "metadata": {
        "id": "view-in-github",
        "colab_type": "text"
      },
      "source": [
        "<a href=\"https://colab.research.google.com/github/tamucc-gcl/wrkshp_edna_metabarcoding/blob/main/analysis/colab_renv_setup.ipynb\" target=\"_parent\"><img src=\"https://colab.research.google.com/assets/colab-badge.svg\" alt=\"Open In Colab\"/></a>"
      ]
    },
    {
      "cell_type": "markdown",
      "metadata": {
        "id": "B8JlmtFMBjs9"
      },
      "source": [
        "# R in Colab with renv Persisted on Google Drive\n",
        "\n",
        "This notebook will:\n",
        "1. Mount Google Drive and clone your GitHub project via a Python cell.\n",
        "2. Use an R cell to set up a Drive-backed library, restore `renv`, and load packages.\n",
        "3. Run example R code to verify setup.\n"
      ]
    },
    {
      "cell_type": "code",
      "execution_count": null,
      "metadata": {
        "language": "python"
      },
      "outputs": [],
      "source": [
        "# 1\ufe0f\u20e3 Mount Google Drive\n",
        "from google.colab import drive\n",
        "drive.mount('/content/drive')\n",
        "\n",
        "# 2\ufe0f\u20e3 Clone your GitHub project (only once)\n",
        "import os\n",
        "repo_url = 'https://github.com/YOUR-ORG/YOUR-REPO.git'\n",
        "project_dir = '/content/your-project'\n",
        "if not os.path.isdir(project_dir):\n",
        "    !git clone {repo_url} {project_dir}\n"
      ]
    },
    {
      "cell_type": "code",
      "execution_count": null,
      "metadata": {
        "language": "R"
      },
      "outputs": [],
      "source": [
        "# 3\ufe0f\u20e3 Set up a Drive-backed R library\n",
        "drive_lib <- '/content/drive/My Drive/colab_renv/library'\n",
        "dir.create(drive_lib, recursive = TRUE, showWarnings = FALSE)\n",
        ".libPaths(c(drive_lib, .libPaths()))\n",
        "\n",
        "# 4\ufe0f\u20e3 Install and restore renv in that library\n",
        "if (!requireNamespace('renv', quietly = TRUE)) install.packages('renv', lib = drive_lib)\n",
        "library(renv)\n",
        "renv::restore(prompt = FALSE)\n",
        "\n",
        "# 5\ufe0f\u20e3 Load required packages\n",
        "pkgs <- c('tidyverse', 'data.table', 'ipyrad')\n",
        "lapply(pkgs, require, character.only = TRUE)\n",
        "\n",
        "# 6\ufe0f\u20e3 Example smoke test\n",
        "print(ls('package:ipyrad'))\n"
      ]
    }
  ],
  "metadata": {
    "kernelspec": {
      "name": "ir",
      "display_name": "R"
    },
    "language_info": {
      "name": "R"
    }
  },
  "nbformat": 4,
  "nbformat_minor": 5
}