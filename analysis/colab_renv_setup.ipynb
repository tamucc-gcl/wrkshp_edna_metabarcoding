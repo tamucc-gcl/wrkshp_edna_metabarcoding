{
  "cells": [
    {
      "cell_type": "markdown",
      "id": "c9ddd111",
      "metadata": {
        "colab_type": "text",
        "id": "view-in-github"
      },
      "source": [
        "<a href=\"https://colab.research.google.com/github/tamucc-gcl/wrkshp_edna_metabarcoding/blob/main/analysis/colab_renv_setup.ipynb\" target=\"_parent\"><img src=\"https://colab.research.google.com/assets/colab-badge.svg\" alt=\"Open In Colab\"/></a>"
      ]
    },
    {
      "cell_type": "markdown",
      "id": "B8JlmtFMBjs9",
      "metadata": {
        "id": "B8JlmtFMBjs9"
      },
      "source": [
        "# R in Colab with renv Persisted on Google Drive\n",
        "\n",
        "This notebook will:\n",
        "1. Mount Google Drive and clone your GitHub project.\n",
        "2. Restore your `renv` environment into a Drive-backed library so package installs persist across Colab sessions.\n",
        "3. Run example R code to verify setup.\n"
      ]
    },
    {
      "cell_type": "code",
      "execution_count": null,
      "id": "AO9bQLvlBjs_",
      "metadata": {
        "colab": {
          "base_uri": "https://localhost:8080/"
        },
        "id": "AO9bQLvlBjs_",
        "outputId": "e1cc8523-e615-4feb-e6fc-4c104388dd73",
        "vscode": {
          "languageId": "r"
        }
      },
      "outputs": [],
      "source": [
        "# 1️⃣ Create and prepend a Drive-backed R library\n",
        "drive_lib <- \"/content/drive/My Drive/colab_renv/library\"\n",
        "dir.create(drive_lib, recursive = TRUE, showWarnings = FALSE)\n",
        ".libPaths(c(drive_lib, .libPaths()))\n",
        "\n",
        "# 2️⃣ Configure reticulate to use Colab's Python\n",
        "Sys.setenv(RETICULATE_PYTHON = \"/usr/bin/python3\")\n",
        "if (!requireNamespace(\"reticulate\", quietly = TRUE)) install.packages(\"reticulate\")\n",
        "library(reticulate)\n",
        "\n",
        "# 3️⃣ Mount Google Drive and clone your repo\n",
        "drive <- import(\"google.colab.drive\")\n",
        "drive$mount(\"/content/drive\")\n",
        "project_dir <- \"/content/your-project\"\n",
        "if (!dir.exists(project_dir)) {\n",
        "  system2(\"git\", c(\"clone\", \"https://github.com/YOUR-ORG/YOUR-REPO.git\", project_dir))\n",
        "}\n",
        "\n",
        "# 4️⃣ Restore renv and load packages\n",
        "setwd(project_dir)\n",
        "if (!requireNamespace(\"renv\", quietly = TRUE)) install.packages(\"renv\")\n",
        "library(renv)\n",
        "renv::restore(prompt = FALSE)\n",
        "pkgs <- c(\"tidyverse\", \"data.table\", \"ipyrad\")\n",
        "lapply(pkgs, library, character.only = TRUE)\n",
        "\n",
        "# 5️⃣ Example smoke test\n",
        "print(ls(\"package:ipyrad\"))\n"
      ]
    }
  ],
  "metadata": {
    "colab": {
      "include_colab_link": true,
      "provenance": []
    },
    "kernelspec": {
      "display_name": "R",
      "name": "ir"
    },
    "language_info": {
      "name": "R"
    }
  },
  "nbformat": 4,
  "nbformat_minor": 5
}
