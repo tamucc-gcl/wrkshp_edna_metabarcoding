{
  "cells": [
    {
      "cell_type": "markdown",
      "metadata": {},
      "source": [
        "# R in Colab with renv Persisted on Google Drive\n",
        "\n",
        "This notebook will:\n",
        "1. Mount Google Drive and clone your GitHub project.\n",
        "2. Restore your `renv` environment into a Drive-backed library so package installs persist across Colab sessions.\n",
        "3. Run example R code to verify setup.\n"
      ]
    },
    {
      "cell_type": "code",
      "execution_count": null,
      "metadata": {},
      "outputs": [],
      "source": [
        "# Install reticulate for Python interop\n",
        "if (!requireNamespace(\"reticulate\", quietly = TRUE)) install.packages(\"reticulate\")\n",
        "library(reticulate)\n",
        "\n",
        "# Mount Google Drive\n",
        "drive <- import(\"google.colab.drive\")\n",
        "drive$mount(\"/content/drive\")\n",
        "\n",
        "# Signal that we're in Colab\n",
        "Sys.setenv(COLAB = \"TRUE\")\n",
        "\n",
        "# Clone your GitHub project (only once)\n",
        "project_dir <- \"/content/your-project\"\n",
        "if (!dir.exists(project_dir)) {\n",
        "  system(paste(\"git clone https://github.com/YOUR-ORG/YOUR-REPO.git\", project_dir))\n",
        "}\n"
      ]
    },
    {
      "cell_type": "code",
      "execution_count": null,
      "metadata": {},
      "outputs": [],
      "source": [
        "# Change to project directory\n",
        "setwd(\"/content/your-project\")\n",
        "\n",
        "# Install and restore renv\n",
        "if (!requireNamespace(\"renv\", quietly = TRUE)) install.packages(\"renv\")\n",
        "library(renv)\n",
        "renv::restore(prompt = FALSE)\n",
        "\n",
        "# Load your packages\n",
        "library(tidyverse)\n",
        "library(ipyrad)\n",
        "\n",
        "# Example code: List ipyrad functions\n",
        "print(ls(\"package:ipyrad\"))\n"
      ]
    }
  ],
  "metadata": {
    "kernelspec": {
      "name": "ir",
      "display_name": "R"
    },
    "language_info": {
      "name": "R"
    }
  },
  "nbformat": 4,
  "nbformat_minor": 5
}