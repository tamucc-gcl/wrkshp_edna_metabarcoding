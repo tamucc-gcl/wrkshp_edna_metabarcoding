{
  "cells": [
    {
      "cell_type": "markdown",
      "metadata": {
        "id": "view-in-github",
        "colab_type": "text"
      },
      "source": [
        "<a href=\"https://colab.research.google.com/github/tamucc-gcl/wrkshp_edna_metabarcoding/blob/main/analysis/colab_renv_setup.ipynb\" target=\"_parent\"><img src=\"https://colab.research.google.com/assets/colab-badge.svg\" alt=\"Open In Colab\"/></a>"
      ]
    },
    {
      "cell_type": "markdown",
      "id": "B8JlmtFMBjs9",
      "metadata": {
        "id": "B8JlmtFMBjs9"
      },
      "source": [
        "# R in Colab with renv Persisted on Google Drive\n",
        "\n",
        "This notebook will:\n",
        "1. Mount Google Drive and clone your GitHub project.\n",
        "2. Restore your `renv` environment into a Drive-backed library so package installs persist across Colab sessions.\n",
        "3. Run example R code to verify setup.\n"
      ]
    },
    {
      "cell_type": "code",
      "source": [
        "from google.colab import drive\n",
        "import os\n",
        "drive.mount('/content/drive')\n",
        "os.environ['COLAB'] = 'TRUE'\n",
        "\n",
        "%reload_ext rpy2.ipython"
      ],
      "metadata": {
        "id": "G0FnmIJ3G-7P",
        "colab": {
          "base_uri": "https://localhost:8080/"
        },
        "outputId": "b9a680ab-7931-4a6b-9321-b67dd245e54b"
      },
      "id": "G0FnmIJ3G-7P",
      "execution_count": 1,
      "outputs": [
        {
          "output_type": "stream",
          "name": "stdout",
          "text": [
            "Mounted at /content/drive\n"
          ]
        }
      ]
    },
    {
      "cell_type": "markdown",
      "source": [
        "Creating a GitHub PAT Token: (Only needed while repo is private)\n",
        "\n",
        "1. In a seperate window navigate to the github setting (click profile picture in top right corner then click settings with the gear icon)\n",
        "2. Scroll all the way down to \"Developer settings\" in the left hand menu\n",
        "3. Click \"Personal access tokens\" dropdown and select the \"Fine-grained tokens\" option\n",
        "4. Click \"Generate new token\" (top middle-right)\n",
        "5. Name the token something meaningful.\n",
        "6. Select 'tamucc-gcl' under the \"Resource owner\" dropdown.\n",
        "7. Select \"Only select repositories\" and select \"wrkshp_edna_metabarcoding\" from the dropdown\n",
        "8. Expand the \"Repository permissions\" menu\n",
        "9. Change 'Contents\" to \"Read-only\"\n",
        "10. Click \"Generate token\"\n",
        "11. Copy token to clipboard\n",
        "12. Run below code block and paste token when requested\n"
      ],
      "metadata": {
        "id": "DqKDPm1J17rZ"
      },
      "id": "DqKDPm1J17rZ"
    },
    {
      "cell_type": "code",
      "source": [
        "from getpass import getpass\n",
        "import os\n",
        "\n",
        "# ask you (securely) for your PAT\n",
        "token = getpass(\"GitHub PAT: \")\n",
        "\n",
        "# build the clone URL\n",
        "local_path = '/content/edna_workshop'\n",
        "repo  = \"tamucc-gcl/wrkshp_edna_metabarcoding\"\n",
        "url   = f\"https://{token}@github.com/{repo}.git\"\n",
        "\n",
        "# clone into /content\n",
        "!git clone {url} {local_path}\n",
        "\n",
        "# (optionally) remove token from memory\n",
        "del token\n",
        "\n",
        "print(\"Repo is at:\", local_path)"
      ],
      "metadata": {
        "id": "tl-RdQZiVMRT",
        "outputId": "e1fc506c-55ed-4953-eaf3-1895f667a288",
        "colab": {
          "base_uri": "https://localhost:8080/"
        }
      },
      "id": "tl-RdQZiVMRT",
      "execution_count": 2,
      "outputs": [
        {
          "output_type": "stream",
          "name": "stdout",
          "text": [
            "GitHub PAT: ··········\n",
            "Cloning into '/content/edna_workshop'...\n",
            "remote: Enumerating objects: 211, done.\u001b[K\n",
            "remote: Counting objects: 100% (211/211), done.\u001b[K\n",
            "remote: Compressing objects: 100% (177/177), done.\u001b[K\n",
            "remote: Total 211 (delta 66), reused 158 (delta 26), pack-reused 0 (from 0)\u001b[K\n",
            "Receiving objects: 100% (211/211), 15.82 MiB | 18.78 MiB/s, done.\n",
            "Resolving deltas: 100% (66/66), done.\n",
            "Repo is at: /content/edna_workshop\n"
          ]
        }
      ]
    },
    {
      "cell_type": "code",
      "source": [
        "%%R\n",
        "# 1️⃣ Point R at your Drive-backed library\n",
        "drive_lib <- \"/content/drive/MyDrive/edna_libraries\"\n",
        "dir.create(drive_lib, recursive = TRUE, showWarnings = FALSE)\n",
        ".libPaths(c(drive_lib, .libPaths()))\n",
        "setwd('/content/edna_workshop')\n"
      ],
      "metadata": {
        "id": "N3uZ6R1lHhaB",
        "colab": {
          "base_uri": "https://localhost:8080/"
        },
        "outputId": "79959b02-7829-40d8-a7d2-aee85b96325f"
      },
      "id": "N3uZ6R1lHhaB",
      "execution_count": 3,
      "outputs": [
        {
          "output_type": "stream",
          "name": "stdout",
          "text": [
            "[1] \"/content/drive/MyDrive/edna_libraries\"\n",
            "[2] \"/usr/local/lib/R/site-library\"        \n",
            "[3] \"/usr/lib/R/site-library\"              \n",
            "[4] \"/usr/lib/R/library\"                   \n"
          ]
        }
      ]
    },
    {
      "cell_type": "code",
      "source": [
        "%%R\n",
        "if (!requireNamespace(\"renv\", quietly = TRUE)) {\n",
        "  install.packages(\"renv\", lib = drive_lib)\n",
        "}\n",
        "renv::restore(prompt = FALSE)"
      ],
      "metadata": {
        "id": "659mjh1jZhPY"
      },
      "id": "659mjh1jZhPY",
      "execution_count": 4,
      "outputs": []
    },
    {
      "cell_type": "code",
      "source": [
        "%%R\n",
        "library(vegan)\n",
        "data(dune)\n",
        "sol <- metaMDS(dune)\n",
        "sol\n",
        "plot(sol, type=\"t\")"
      ],
      "metadata": {
        "id": "xJADpZOX2s12",
        "outputId": "d8e730c8-363c-4a67-f6f3-dfaeb7ed0603",
        "colab": {
          "base_uri": "https://localhost:8080/",
          "height": 1000
        }
      },
      "id": "xJADpZOX2s12",
      "execution_count": 10,
      "outputs": [
        {
          "output_type": "stream",
          "name": "stdout",
          "text": [
            "Run 0 stress 0.1192678 \n",
            "Run 1 stress 0.1192678 \n",
            "... Procrustes: rmse 1.487973e-05  max resid 4.535196e-05 \n",
            "... Similar to previous best\n",
            "Run 2 stress 0.1192678 \n",
            "... Procrustes: rmse 2.354209e-06  max resid 4.467607e-06 \n",
            "... Similar to previous best\n",
            "Run 3 stress 0.1183186 \n",
            "... New best solution\n",
            "... Procrustes: rmse 0.02027188  max resid 0.06496894 \n",
            "Run 4 stress 0.1183186 \n",
            "... New best solution\n",
            "... Procrustes: rmse 1.832268e-05  max resid 5.580524e-05 \n",
            "... Similar to previous best\n",
            "Run 5 stress 0.1192678 \n",
            "Run 6 stress 0.1183186 \n",
            "... New best solution\n",
            "... Procrustes: rmse 3.346462e-06  max resid 1.130241e-05 \n",
            "... Similar to previous best\n",
            "Run 7 stress 0.1192678 \n",
            "Run 8 stress 0.1192679 \n",
            "Run 9 stress 0.1183186 \n",
            "... Procrustes: rmse 5.021523e-06  max resid 1.281926e-05 \n",
            "... Similar to previous best\n",
            "Run 10 stress 0.1183186 \n",
            "... Procrustes: rmse 5.692478e-06  max resid 1.733563e-05 \n",
            "... Similar to previous best\n",
            "Run 11 stress 0.1183186 \n",
            "... Procrustes: rmse 4.56624e-06  max resid 1.481569e-05 \n",
            "... Similar to previous best\n",
            "Run 12 stress 0.1809261 \n",
            "Run 13 stress 0.1192678 \n",
            "Run 14 stress 0.1808911 \n",
            "Run 15 stress 0.1183186 \n",
            "... Procrustes: rmse 3.847737e-05  max resid 0.0001101317 \n",
            "... Similar to previous best\n",
            "Run 16 stress 0.1192679 \n",
            "Run 17 stress 0.1183186 \n",
            "... New best solution\n",
            "... Procrustes: rmse 5.641659e-06  max resid 1.497809e-05 \n",
            "... Similar to previous best\n",
            "Run 18 stress 0.2365791 \n",
            "Run 19 stress 0.1192678 \n",
            "Run 20 stress 0.1183186 \n",
            "... Procrustes: rmse 2.601802e-06  max resid 8.939333e-06 \n",
            "... Similar to previous best\n",
            "*** Best solution repeated 2 times\n"
          ]
        },
        {
          "output_type": "display_data",
          "data": {
            "image/png": "[encoded data removed]",
            "text/plain": [
              "<IPython.core.display.Image object>"
            ]
          },
          "metadata": {}
        }
      ]
    },
    {
      "cell_type": "markdown",
      "source": [
        "Below is extra troubleshooting code"
      ],
      "metadata": {
        "id": "mq5hpAa_2yau"
      },
      "id": "mq5hpAa_2yau"
    },
    {
      "cell_type": "code",
      "source": [
        "drive.flush_and_unmount()"
      ],
      "metadata": {
        "id": "YmHvfm71Q28d"
      },
      "id": "YmHvfm71Q28d",
      "execution_count": null,
      "outputs": []
    },
    {
      "cell_type": "code",
      "source": [
        "import shutil\n",
        "shutil.rmtree('/content/edna_workshop')\n"
      ],
      "metadata": {
        "id": "irB_4ED9Sn0I",
        "outputId": "f5599890-a048-4d63-cd72-40ece566f085",
        "colab": {
          "base_uri": "https://localhost:8080/",
          "height": 311
        }
      },
      "id": "irB_4ED9Sn0I",
      "execution_count": null,
      "outputs": [
        {
          "output_type": "error",
          "ename": "OSError",
          "evalue": "[Errno 107] Transport endpoint is not connected: '/content/edna_workshop'",
          "traceback": [
            "\u001b[0;31m---------------------------------------------------------------------------\u001b[0m",
            "\u001b[0;31mOSError\u001b[0m                                   Traceback (most recent call last)",
            "\u001b[0;32m<ipython-input-15-c9a07263fc70>\u001b[0m in \u001b[0;36m<cell line: 0>\u001b[0;34m()\u001b[0m\n\u001b[1;32m      1\u001b[0m \u001b[0;32mimport\u001b[0m \u001b[0mshutil\u001b[0m\u001b[0;34m\u001b[0m\u001b[0;34m\u001b[0m\u001b[0m\n\u001b[0;32m----> 2\u001b[0;31m \u001b[0mshutil\u001b[0m\u001b[0;34m.\u001b[0m\u001b[0mrmtree\u001b[0m\u001b[0;34m(\u001b[0m\u001b[0;34m'/content/edna_workshop'\u001b[0m\u001b[0;34m)\u001b[0m\u001b[0;34m\u001b[0m\u001b[0;34m\u001b[0m\u001b[0m\n\u001b[0m",
            "\u001b[0;32m/usr/lib/python3.11/shutil.py\u001b[0m in \u001b[0;36mrmtree\u001b[0;34m(path, ignore_errors, onerror, dir_fd)\u001b[0m\n\u001b[1;32m    740\u001b[0m             \u001b[0morig_st\u001b[0m \u001b[0;34m=\u001b[0m \u001b[0mos\u001b[0m\u001b[0;34m.\u001b[0m\u001b[0mlstat\u001b[0m\u001b[0;34m(\u001b[0m\u001b[0mpath\u001b[0m\u001b[0;34m,\u001b[0m \u001b[0mdir_fd\u001b[0m\u001b[0;34m=\u001b[0m\u001b[0mdir_fd\u001b[0m\u001b[0;34m)\u001b[0m\u001b[0;34m\u001b[0m\u001b[0;34m\u001b[0m\u001b[0m\n\u001b[1;32m    741\u001b[0m         \u001b[0;32mexcept\u001b[0m \u001b[0mException\u001b[0m\u001b[0;34m:\u001b[0m\u001b[0;34m\u001b[0m\u001b[0;34m\u001b[0m\u001b[0m\n\u001b[0;32m--> 742\u001b[0;31m             \u001b[0monerror\u001b[0m\u001b[0;34m(\u001b[0m\u001b[0mos\u001b[0m\u001b[0;34m.\u001b[0m\u001b[0mlstat\u001b[0m\u001b[0;34m,\u001b[0m \u001b[0mpath\u001b[0m\u001b[0;34m,\u001b[0m \u001b[0msys\u001b[0m\u001b[0;34m.\u001b[0m\u001b[0mexc_info\u001b[0m\u001b[0;34m(\u001b[0m\u001b[0;34m)\u001b[0m\u001b[0;34m)\u001b[0m\u001b[0;34m\u001b[0m\u001b[0;34m\u001b[0m\u001b[0m\n\u001b[0m\u001b[1;32m    743\u001b[0m             \u001b[0;32mreturn\u001b[0m\u001b[0;34m\u001b[0m\u001b[0;34m\u001b[0m\u001b[0m\n\u001b[1;32m    744\u001b[0m         \u001b[0;32mtry\u001b[0m\u001b[0;34m:\u001b[0m\u001b[0;34m\u001b[0m\u001b[0;34m\u001b[0m\u001b[0m\n",
            "\u001b[0;32m/usr/lib/python3.11/shutil.py\u001b[0m in \u001b[0;36mrmtree\u001b[0;34m(path, ignore_errors, onerror, dir_fd)\u001b[0m\n\u001b[1;32m    738\u001b[0m         \u001b[0;31m# lstat()/open()/fstat() trick.\u001b[0m\u001b[0;34m\u001b[0m\u001b[0;34m\u001b[0m\u001b[0m\n\u001b[1;32m    739\u001b[0m         \u001b[0;32mtry\u001b[0m\u001b[0;34m:\u001b[0m\u001b[0;34m\u001b[0m\u001b[0;34m\u001b[0m\u001b[0m\n\u001b[0;32m--> 740\u001b[0;31m             \u001b[0morig_st\u001b[0m \u001b[0;34m=\u001b[0m \u001b[0mos\u001b[0m\u001b[0;34m.\u001b[0m\u001b[0mlstat\u001b[0m\u001b[0;34m(\u001b[0m\u001b[0mpath\u001b[0m\u001b[0;34m,\u001b[0m \u001b[0mdir_fd\u001b[0m\u001b[0;34m=\u001b[0m\u001b[0mdir_fd\u001b[0m\u001b[0;34m)\u001b[0m\u001b[0;34m\u001b[0m\u001b[0;34m\u001b[0m\u001b[0m\n\u001b[0m\u001b[1;32m    741\u001b[0m         \u001b[0;32mexcept\u001b[0m \u001b[0mException\u001b[0m\u001b[0;34m:\u001b[0m\u001b[0;34m\u001b[0m\u001b[0;34m\u001b[0m\u001b[0m\n\u001b[1;32m    742\u001b[0m             \u001b[0monerror\u001b[0m\u001b[0;34m(\u001b[0m\u001b[0mos\u001b[0m\u001b[0;34m.\u001b[0m\u001b[0mlstat\u001b[0m\u001b[0;34m,\u001b[0m \u001b[0mpath\u001b[0m\u001b[0;34m,\u001b[0m \u001b[0msys\u001b[0m\u001b[0;34m.\u001b[0m\u001b[0mexc_info\u001b[0m\u001b[0;34m(\u001b[0m\u001b[0;34m)\u001b[0m\u001b[0;34m)\u001b[0m\u001b[0;34m\u001b[0m\u001b[0;34m\u001b[0m\u001b[0m\n",
            "\u001b[0;31mOSError\u001b[0m: [Errno 107] Transport endpoint is not connected: '/content/edna_workshop'"
          ]
        }
      ]
    },
    {
      "cell_type": "code",
      "source": [],
      "metadata": {
        "id": "p2IQPEo_I_Pk"
      },
      "id": "p2IQPEo_I_Pk",
      "execution_count": null,
      "outputs": []
    }
  ],
  "metadata": {
    "colab": {
      "provenance": [],
      "include_colab_link": true
    },
    "kernelspec": {
      "display_name": "Python 3",
      "name": "python3"
    },
    "language_info": {
      "name": "python"
    }
  },
  "nbformat": 4,
  "nbformat_minor": 5
}