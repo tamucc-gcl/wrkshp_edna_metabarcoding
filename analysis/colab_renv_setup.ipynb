{
  "cells": [
    {
      "cell_type": "markdown",
      "metadata": {
        "id": "view-in-github",
        "colab_type": "text"
      },
      "source": [
        "<a href=\"https://colab.research.google.com/github/tamucc-gcl/wrkshp_edna_metabarcoding/blob/main/analysis/colab_renv_setup.ipynb\" target=\"_parent\"><img src=\"https://colab.research.google.com/assets/colab-badge.svg\" alt=\"Open In Colab\"/></a>"
      ]
    },
    {
      "cell_type": "markdown",
      "id": "B8JlmtFMBjs9",
      "metadata": {
        "id": "B8JlmtFMBjs9"
      },
      "source": [
        "# R in Colab with renv Persisted on Google Drive\n",
        "\n",
        "This notebook will:\n",
        "1. Mount Google Drive and clone your GitHub project.\n",
        "2. Restore your `renv` environment into a Drive-backed library so package installs persist across Colab sessions.\n",
        "3. Run example R code to verify setup.\n"
      ]
    },
    {
      "cell_type": "code",
      "source": [
        "from google.colab import drive\n",
        "drive.mount('/content/edna_workshop')\n",
        "%reload_ext rpy2.ipython"
      ],
      "metadata": {
        "id": "G0FnmIJ3G-7P",
        "outputId": "6a62c69c-d6ce-42ad-ae1a-d3ad46dfd26f",
        "colab": {
          "base_uri": "https://localhost:8080/"
        }
      },
      "id": "G0FnmIJ3G-7P",
      "execution_count": 2,
      "outputs": [
        {
          "output_type": "stream",
          "name": "stdout",
          "text": [
            "Drive already mounted at /content/edna_workshop; to attempt to forcibly remount, call drive.mount(\"/content/edna_workshop\", force_remount=True).\n"
          ]
        }
      ]
    },
    {
      "cell_type": "code",
      "source": [
        "%%R\n",
        "# 1️⃣ Point R at your Drive-backed library\n",
        "drive_lib <- \"/content/edna_workshop/library\"\n",
        "dir.create(drive_lib, recursive = TRUE, showWarnings = FALSE)\n",
        ".libPaths(c(drive_lib, .libPaths()))\n",
        "list.dirs(\"/content/edna_workshop\")\n"
      ],
      "metadata": {
        "id": "N3uZ6R1lHhaB"
      },
      "id": "N3uZ6R1lHhaB",
      "execution_count": null,
      "outputs": []
    },
    {
      "cell_type": "code",
      "source": [
        "%%R\n",
        "# 2️⃣ Restore your renv environment\n",
        "setwd(\"/content/edna_workshop\")   # or wherever you’ve cloned\n",
        "if (!requireNamespace(\"renv\", quietly = TRUE)) {\n",
        "  install.packages(\"renv\", lib = drive_lib)\n",
        "}\n",
        "\n",
        "renv::restore(prompt = FALSE)\n",
        "\n",
        "# 3️⃣ Load your packages & smoke test\n",
        "pkgs <- c(\"tidyverse\",\"data.table\")\n",
        "lapply(pkgs, library, character.only = TRUE)\n",
        "print(ls(\"package:ipyrad\"))\n"
      ],
      "metadata": {
        "id": "_2nMGcSDI9Zh",
        "outputId": "1aa35f67-5812-4331-c3ad-d325bbde9486",
        "colab": {
          "base_uri": "https://localhost:8080/"
        }
      },
      "id": "_2nMGcSDI9Zh",
      "execution_count": 9,
      "outputs": [
        {
          "output_type": "stream",
          "name": "stderr",
          "text": [
            "UsageError: Cell magic `%%R#` not found.\n"
          ]
        }
      ]
    },
    {
      "cell_type": "code",
      "source": [],
      "metadata": {
        "id": "p2IQPEo_I_Pk"
      },
      "id": "p2IQPEo_I_Pk",
      "execution_count": null,
      "outputs": []
    }
  ],
  "metadata": {
    "colab": {
      "provenance": [],
      "include_colab_link": true
    },
    "kernelspec": {
      "display_name": "Python 3",
      "name": "python3"
    },
    "language_info": {
      "name": "python"
    }
  },
  "nbformat": 4,
  "nbformat_minor": 5
}