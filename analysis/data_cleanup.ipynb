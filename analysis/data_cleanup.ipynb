{
  "cells": [
    {
      "cell_type": "markdown",
      "metadata": {
        "id": "view-in-github",
        "colab_type": "text"
      },
      "source": [
        "<a href=\"https://colab.research.google.com/github/tamucc-gcl/wrkshp_edna_metabarcoding/blob/main/analysis/data_cleanup.ipynb\" target=\"_parent\"><img src=\"https://colab.research.google.com/assets/colab-badge.svg\" alt=\"Open In Colab\"/></a>"
      ]
    },
    {
      "cell_type": "markdown",
      "id": "B8JlmtFMBjs9",
      "metadata": {
        "id": "B8JlmtFMBjs9"
      },
      "source": [
        "# Post-Bioionformatic Data Processing\n",
        "\n",
        "This notebook will:\n",
        "\n"
      ]
    },
    {
      "cell_type": "markdown",
      "source": [
        "---\n",
        "## Initialize Environment"
      ],
      "metadata": {
        "id": "ltzoYG-KATXP"
      },
      "id": "ltzoYG-KATXP"
    },
    {
      "cell_type": "code",
      "source": [
        "#Set-up Computing Environment - Python\n",
        "\n",
        "## Mount Google Drive\n",
        "from google.colab import drive\n",
        "import os\n",
        "drive.mount('/content/drive')\n",
        "os.environ['COLAB'] = 'TRUE'\n",
        "\n",
        "## Install Linux programs needed\n",
        "!apt install libfribidi-dev libglpk-dev libharfbuzz-dev pandoc\n",
        "\n",
        "## Clone GitHub Repo and move into that repo\n",
        "local_path = '/content/edna_workshop'\n",
        "repo  = \"tamucc-gcl/wrkshp_edna_metabarcoding\"\n",
        "url = f\"https://github.com/{repo}.git\"\n",
        "!git clone {url} {local_path}\n",
        "\n",
        "## Setup R and move to local directory\n",
        "os.chdir(local_path)\n",
        "%reload_ext rpy2.ipython"
      ],
      "metadata": {
        "id": "G0FnmIJ3G-7P",
        "collapsed": true
      },
      "id": "G0FnmIJ3G-7P",
      "execution_count": null,
      "outputs": []
    },
    {
      "cell_type": "code",
      "source": [
        "#Set-up Computing Environment - R\n",
        "%%R -i local_path\n",
        "# Point R at your Drive-backed library\n",
        "drive_lib <- \"/content/drive/MyDrive/edna_libraries\"\n",
        "dir.create(drive_lib, recursive = TRUE, showWarnings = FALSE)\n",
        ".libPaths(c(drive_lib, .libPaths()))\n",
        "\n",
        "#Install renv if it isn't already\n",
        "if (!require(\"renv\", lib.loc = drive_lib, quietly = TRUE, warn.conflicts = FALSE)) {\n",
        "  install.packages(\"renv\", lib = drive_lib,\n",
        "                   quietly = TRUE, warn.conflicts = FALSE)\n",
        "}\n",
        "\n",
        "#Install required libraries into google drive if they aren't already\n",
        "renv::restore(library = drive_lib,\n",
        "              lockfile = paste0(local_path, '/renv.lock'),\n",
        "              prompt = FALSE)"
      ],
      "metadata": {
        "id": "N3uZ6R1lHhaB",
        "collapsed": true
      },
      "id": "N3uZ6R1lHhaB",
      "execution_count": null,
      "outputs": []
    },
    {
      "cell_type": "markdown",
      "source": [
        "---\n",
        "## Parameter Setting"
      ],
      "metadata": {
        "id": "w42DRnn4_Xm2"
      },
      "id": "w42DRnn4_Xm2"
    },
    {
      "cell_type": "code",
      "source": [
        "%%R\n",
        "min_read_count <- 1000 #Minimum number of reads in a sample to keep it"
      ],
      "metadata": {
        "id": "ggTnXKtZiQbs"
      },
      "id": "ggTnXKtZiQbs",
      "execution_count": 3,
      "outputs": []
    },
    {
      "cell_type": "markdown",
      "source": [
        "---\n",
        "## Libraries"
      ],
      "metadata": {
        "id": "QJzM8arZiVYL"
      },
      "id": "QJzM8arZiVYL"
    },
    {
      "cell_type": "code",
      "source": [
        "%%R\n",
        "library(janitor)\n",
        "library(tidyverse)\n",
        "library(rfishbase)\n",
        "library(bold)\n",
        "library(taxize)\n",
        "library(ggtext)\n",
        "library(ggrepel)\n",
        "library(patchwork)"
      ],
      "metadata": {
        "collapsed": true,
        "id": "WKdxi-h0iV8w",
        "outputId": "870be65c-5d22-4184-876a-affd9121f6ef",
        "colab": {
          "base_uri": "https://localhost:8080/",
          "height": 475
        }
      },
      "id": "WKdxi-h0iV8w",
      "execution_count": 4,
      "outputs": [
        {
          "output_type": "stream",
          "name": "stdout",
          "text": [
            "── Attaching core tidyverse packages ──────────────────────── tidyverse 2.0.0 ──\n",
            "✔ dplyr     1.1.4     ✔ readr     2.1.5\n",
            "✔ forcats   1.0.0     ✔ stringr   1.5.1\n",
            "✔ ggplot2   3.5.2     ✔ tibble    3.2.1\n",
            "✔ lubridate 1.9.4     ✔ tidyr     1.3.1\n",
            "✔ purrr     1.0.4     \n",
            "── Conflicts ────────────────────────────────────────── tidyverse_conflicts() ──\n",
            "✖ dplyr::filter() masks stats::filter()\n",
            "✖ dplyr::lag()    masks stats::lag()\n",
            "✖ purrr::modify() masks renv::modify()\n",
            "ℹ Use the conflicted package (<http://conflicted.r-lib.org/>) to force all conflicts to become errors\n"
          ]
        },
        {
          "output_type": "display_data",
          "data": {
            "text/plain": [
              "\n",
              "Attaching package: ‘janitor’\n",
              "\n",
              "The following objects are masked from ‘package:stats’:\n",
              "\n",
              "    chisq.test, fisher.test\n",
              "\n",
              "\n",
              "Attaching package: ‘taxize’\n",
              "\n",
              "The following object is masked from ‘package:rfishbase’:\n",
              "\n",
              "    synonyms\n",
              "\n"
            ]
          },
          "metadata": {}
        }
      ]
    },
    {
      "cell_type": "markdown",
      "source": [
        "---\n",
        "## Read in Data"
      ],
      "metadata": {
        "id": "EuDsGt4t_jhC"
      },
      "id": "EuDsGt4t_jhC"
    },
    {
      "cell_type": "code",
      "source": [
        "%%R\n",
        "samples_with_barcodes <- read_tsv(str_c(here::here(),\n",
        "               'data/rb_input_barcode.txt',\n",
        "               sep = '/'),\n",
        "               show_col_types = FALSE) %>%\n",
        "  select(sample) %>%\n",
        "  separate_wider_delim(cols = sample,\n",
        "                       names = c(\"pool\", \"sample_id\"),\n",
        "                       delim = \"_\")\n",
        "\n",
        "sampling_metadata <- read_tsv(str_c(here::here(),\n",
        "                                    'data/Simons_MasterSheet_2017-11-10_2.tsv',\n",
        "                                   sep = '/'),\n",
        "                             show_col_types = FALSE, na = c('NA', '?', '')) %>%\n",
        "  clean_names() %>%\n",
        "  mutate(sample_id = str_replace_all(vial_label, '-', ''),\n",
        "         .keep = 'unused') %>%\n",
        "  inner_join(samples_with_barcodes,\n",
        "             by = 'sample_id') %>%\n",
        "  mutate(predator_species_name = if_else(predator_species_name == 'Ophidion welshi',\n",
        "                                         \"Ophidion josephi\", predator_species_name))\n",
        "\n",
        "\n",
        "#there are two samples with sequencing (in abundance matrix/samples_with_barcodes) without any info in the metadata: 1949E & 1751A\n",
        "\n",
        "abundance_matrix <- read_csv(str_c(here::here(),\n",
        "                                   'output/rainbow_bridge/zotu_table.csv',\n",
        "                                   sep = '/'),\n",
        "                             show_col_types = FALSE)\n",
        "\n",
        "zotu_sequences <- Biostrings::readDNAStringSet(str_c(here::here(),\n",
        "                                   'output/rainbow_bridge/zotu_sequences.fasta',\n",
        "                                   sep = '/'))\n",
        "\n",
        "zotu_taxonomy <- abundance_matrix %>%\n",
        "  select(zotu, domain:species, taxid_rank) %>%\n",
        "  distinct()\n"
      ],
      "metadata": {
        "id": "MgBWJWXC_gAX",
        "outputId": "4fdf752e-b031-41c3-b0c9-8c0067178d79",
        "colab": {
          "base_uri": "https://localhost:8080/"
        }
      },
      "id": "MgBWJWXC_gAX",
      "execution_count": 6,
      "outputs": [
        {
          "output_type": "stream",
          "name": "stdout",
          "text": [
            "New names:\n",
            "• `Primer.Plate` -> `Primer.Plate...18`\n",
            "• `Band` -> `Band...22`\n",
            "• `Primer.Dimer` -> `Primer.Dimer...23`\n",
            "• `Smear` -> `Smear...24`\n",
            "• `Non.Specific.Product` -> `Non.Specific.Product...25`\n",
            "• `Primer.Plate` -> `Primer.Plate...28`\n",
            "• `Band` -> `Band...30`\n",
            "• `Primer.Dimer` -> `Primer.Dimer...31`\n",
            "• `Smear` -> `Smear...32`\n",
            "• `Non.Specific.Product` -> `Non.Specific.Product...33`\n"
          ]
        }
      ]
    },
    {
      "cell_type": "markdown",
      "source": [
        "---\n",
        "## Join Data"
      ],
      "metadata": {
        "id": "mpQHeFoojqgx"
      },
      "id": "mpQHeFoojqgx"
    },
    {
      "cell_type": "code",
      "source": [
        "%%R\n",
        "joined_zotu_data <- abundance_matrix %>%\n",
        "  select(zotu, species, starts_with(\"Simons\")) %>%\n",
        "  pivot_longer(cols = starts_with(\"Simons\"),\n",
        "               names_to = c('pool', 'sample_id'),\n",
        "               names_pattern = '(.*)_(.*)',\n",
        "               values_to = 'n_reads') %>%\n",
        "  inner_join(select(sampling_metadata,\n",
        "                    pool, sample_id,\n",
        "                    predator_species_name),\n",
        "             by = c('pool', 'sample_id')) %>%\n",
        "  filter(n_reads > 0)"
      ],
      "metadata": {
        "id": "aNnG043PjrTp"
      },
      "id": "aNnG043PjrTp",
      "execution_count": 7,
      "outputs": []
    },
    {
      "cell_type": "markdown",
      "source": [
        "---\n",
        "## Data Summary"
      ],
      "metadata": {
        "id": "MRsV8AvPBi-Q"
      },
      "id": "MRsV8AvPBi-Q"
    },
    {
      "cell_type": "code",
      "source": [
        "%%R\n",
        "font_size <- 2\n",
        "plot_nzotu_nsamples <- joined_zotu_data %>%\n",
        "  summarise(n_samples = n_distinct(sample_id),\n",
        "            n_zotus = n_distinct(zotu),\n",
        "            n_reads = sum(n_reads),\n",
        "            .by = c(predator_species_name)) %>%\n",
        "  ggplot(aes(x = n_samples,\n",
        "             y= n_zotus)) +\n",
        "  geom_point() +\n",
        "  geom_text_repel(aes(label = predator_species_name),\n",
        "                  size = font_size,\n",
        "                  max.overlaps = 30,\n",
        "                  fontface=\"italic\") +\n",
        "  scale_x_continuous(transform = scales::log10_trans()) +\n",
        "  scale_y_continuous(transform = scales::log10_trans()) +\n",
        "  annotation_logticks() +\n",
        "  labs(x = \"No. of Samples (log<sub>10</sub>-scale)\",\n",
        "       y = \"No. of zOTUs (log<sub>10</sub>-scale)\",\n",
        "       subtitle = \"Number of zOTUs as a function of number of samples\") +\n",
        "  theme_classic(base_size = 10) +\n",
        "  theme(axis.title = element_markdown(),\n",
        "        panel.background = element_rect(colour = 'black'))\n",
        "\n",
        "plot_nreads_nsamples <- joined_zotu_data %>%\n",
        "  summarise(n_samples = n_distinct(sample_id),\n",
        "            n_zotus = n_distinct(zotu),\n",
        "            n_reads = sum(n_reads),\n",
        "            .by = c(predator_species_name)) %>%\n",
        "  ggplot(aes(x = n_samples,\n",
        "             y= n_reads)) +\n",
        "  geom_point() +\n",
        "  geom_text_repel(aes(label = predator_species_name),\n",
        "                  size = font_size,\n",
        "                  max.overlaps = 30,\n",
        "                  fontface=\"italic\") +\n",
        "  scale_x_continuous(transform = scales::log10_trans()) +\n",
        "  scale_y_continuous(transform = scales::log10_trans()) +\n",
        "  annotation_logticks() +\n",
        "  labs(x = \"No. of Samples (log<sub>10</sub>-scale)\",\n",
        "       y = \"No. of Reads (log<sub>10</sub>-scale)\",\n",
        "       subtitle = \"Number of reads as a function of number of samples\") +\n",
        "  theme_classic(base_size = 10) +\n",
        "  theme(axis.title = element_markdown(),\n",
        "        panel.background = element_rect(colour = 'black'))\n",
        "\n",
        "plot_nzotus_nreads <- joined_zotu_data %>%\n",
        "  summarise(n_samples = n_distinct(sample_id),\n",
        "            n_zotus = n_distinct(zotu),\n",
        "            n_reads = sum(n_reads),\n",
        "            .by = c(predator_species_name)) %>%\n",
        "  ggplot(aes(x = n_reads,\n",
        "             y= n_zotus)) +\n",
        "  geom_point() +\n",
        "  geom_text_repel(aes(label = predator_species_name),\n",
        "                  size = font_size,\n",
        "                  max.overlaps = 30,\n",
        "                  fontface=\"italic\") +\n",
        "  scale_x_continuous(transform = scales::log10_trans()) +\n",
        "  scale_y_continuous(transform = scales::log10_trans()) +\n",
        "  annotation_logticks() +\n",
        "  labs(x = \"No. of Reads (log<sub>10</sub>-scale)\",\n",
        "       y = \"No. of zOTUs (log<sub>10</sub>-scale)\",\n",
        "       subtitle = \"Number of zOTUs as a function of number of reads\") +\n",
        "  theme_classic(base_size = 10) +\n",
        "  theme(axis.title = element_markdown(),\n",
        "        panel.background = element_rect(colour = 'black'))\n",
        "\n",
        "plot_nzotu_nsamples + plot_nzotus_nreads + plot_nreads_nsamples + plot_spacer() +\n",
        "  plot_layout(nrow = 2, guides = 'collect', axes = 'collect')"
      ],
      "metadata": {
        "id": "mbkIgLo9Bn_x",
        "outputId": "0c6b7720-a985-4bd2-9700-fdd6df6b5833",
        "colab": {
          "base_uri": "https://localhost:8080/",
          "height": 142
        }
      },
      "id": "mbkIgLo9Bn_x",
      "execution_count": 8,
      "outputs": [
        {
          "output_type": "stream",
          "name": "stderr",
          "text": [
            "WARNING:rpy2.rinterface_lib.callbacks:R[write to console]: In addition: \n",
            "WARNING:rpy2.rinterface_lib.callbacks:R[write to console]: Warning message:\n",
            "\n",
            "WARNING:rpy2.rinterface_lib.callbacks:R[write to console]: ggrepel: 1 unlabeled data points (too many overlaps). Consider increasing max.overlaps \n",
            "\n"
          ]
        },
        {
          "output_type": "display_data",
          "data": {
            "image/png": "[encoded data removed]",
            "text/plain": [
              "<IPython.core.display.Image object>"
            ]
          },
          "metadata": {}
        }
      ]
    },
    {
      "cell_type": "markdown",
      "source": [
        "---\n",
        "## Data Cleaning\n",
        "Remove samples/zotus which don't meet prespecified criteria:\n",
        "\n",
        "\n",
        "1.   zOTU sequence must be 313 bp length\n",
        "2.   Remove zOTUs identified as the predator species\n",
        "3. Remove Predator species with less than 1,000 reads across all samples/zOTUs"
      ],
      "metadata": {
        "id": "gZy0xj0BBoU9"
      },
      "id": "gZy0xj0BBoU9"
    },
    {
      "cell_type": "code",
      "source": [
        "%%R\n",
        "msgs <- c()\n",
        "\n",
        "filter_predators <- function(data, min_reads){\n",
        "  out <- data %>%\n",
        "    filter(sum(n_reads) >= min_read_count,\n",
        "           .by = c(predator_species_name))\n",
        "\n",
        "  removed_preds <- anti_join(data, out,\n",
        "                             by = colnames(data)) %>%\n",
        "    pull(predator_species_name) %>% n_distinct()\n",
        "\n",
        "  msgs <<- c(msgs, paste0('\\n', 'Number of predator species with fewer than ',\n",
        "          scales::comma(min_reads), ' total reads: ', scales::comma(removed_preds)))\n",
        "  msgs <<- c(msgs, paste0('Predator species remaining: ', scales::comma(n_distinct(out$predator_species_name)), '\\n'))\n",
        "  out\n",
        "}\n",
        "\n",
        "filter_self <- function(data){\n",
        "  out <- data %>%\n",
        "    filter(species != predator_species_name)\n",
        "\n",
        "  removed_zotus <- anti_join(data, out,\n",
        "                             by = colnames(data)) %>%\n",
        "    pull(zotu) %>% n_distinct()\n",
        "\n",
        "  msgs <<- c(msgs, paste0('\\n', 'Number of zOTUs matching predator species: ', scales::comma(removed_zotus)))\n",
        "  msgs <<- c(msgs, paste0('zOTUs remaining: ', scales::comma(n_distinct(out$zotu)), '\\n'))\n",
        "\n",
        "  out\n",
        "}\n",
        "\n",
        "# Identify zotus with a non-standard length sequence\n",
        "zotus_to_keep <- names(zotu_sequences)[Biostrings::width(zotu_sequences) == 313] %>%\n",
        "  str_extract('Zotu[0-9]+')\n",
        "\n",
        "msgs <- c(msgs, paste0('\\n', 'Number of zOTUs not 313 bp long: ',\n",
        "                       scales::comma(length(zotu_sequences) - length(zotus_to_keep))))\n",
        "msgs <- c(msgs, paste0('zOTUs remaining: ', scales::comma(length(zotus_to_keep)), '\\n'))\n",
        "\n",
        "# Main processing\n",
        "predator_gut_contents <- joined_zotu_data %>%\n",
        "  filter(zotu %in% zotus_to_keep) %>%\n",
        "  filter_self() %>%\n",
        "  select(-species) %>%\n",
        "  filter_predators(min_read_count)\n",
        "\n",
        "# Finally, print all collected messages\n",
        "cat(paste(msgs, collapse = \"\\n\"))"
      ],
      "metadata": {
        "id": "L8BnKvU9BwG9",
        "outputId": "6e6d3c4a-62d4-4925-c8c5-d0c3c7421c50",
        "colab": {
          "base_uri": "https://localhost:8080/"
        }
      },
      "id": "L8BnKvU9BwG9",
      "execution_count": 9,
      "outputs": [
        {
          "output_type": "stream",
          "name": "stdout",
          "text": [
            "\n",
            "Number of zOTUs not 313 bp long: 76\n",
            "zOTUs remaining: 460\n",
            "\n",
            "\n",
            "Number of zOTUs matching predator species: 27\n",
            "zOTUs remaining: 459\n",
            "\n",
            "\n",
            "Number of predator species with fewer than 1,000 total reads: 11\n",
            "Predator species remaining: 34\n"
          ]
        }
      ]
    },
    {
      "cell_type": "markdown",
      "source": [
        "---\n",
        "## Post Cleaning Data Summary"
      ],
      "metadata": {
        "id": "9F6-pReOBwav"
      },
      "id": "9F6-pReOBwav"
    },
    {
      "cell_type": "code",
      "source": [
        "%%R\n",
        "font_size <- 2\n",
        "plot_nzotu_nsamples <- predator_gut_contents %>%\n",
        "  summarise(n_samples = n_distinct(sample_id),\n",
        "            n_zotus = n_distinct(zotu),\n",
        "            n_reads = sum(n_reads),\n",
        "            .by = c(predator_species_name)) %>%\n",
        "  ggplot(aes(x = n_samples,\n",
        "             y= n_zotus)) +\n",
        "  geom_point() +\n",
        "  geom_text_repel(aes(label = predator_species_name),\n",
        "                  size = font_size,\n",
        "                  max.overlaps = 30,\n",
        "                  fontface=\"italic\") +\n",
        "  scale_x_continuous(transform = scales::log10_trans()) +\n",
        "  scale_y_continuous(transform = scales::log10_trans()) +\n",
        "  annotation_logticks() +\n",
        "  labs(x = \"No. of Samples (log<sub>10</sub>-scale)\",\n",
        "       y = \"No. of zOTUs (log<sub>10</sub>-scale)\",\n",
        "       subtitle = \"Number of zOTUs as a function of number of samples\") +\n",
        "  theme_classic(base_size = 10) +\n",
        "  theme(axis.title = element_markdown(),\n",
        "        panel.background = element_rect(colour = 'black'))\n",
        "\n",
        "plot_nreads_nsamples <- predator_gut_contents %>%\n",
        "  summarise(n_samples = n_distinct(sample_id),\n",
        "            n_zotus = n_distinct(zotu),\n",
        "            n_reads = sum(n_reads),\n",
        "            .by = c(predator_species_name)) %>%\n",
        "  ggplot(aes(x = n_samples,\n",
        "             y= n_reads)) +\n",
        "  geom_point() +\n",
        "  geom_text_repel(aes(label = predator_species_name),\n",
        "                  size = font_size,\n",
        "                  max.overlaps = 30,\n",
        "                  fontface=\"italic\") +\n",
        "  scale_x_continuous(transform = scales::log10_trans()) +\n",
        "  scale_y_continuous(transform = scales::log10_trans()) +\n",
        "  annotation_logticks() +\n",
        "  labs(x = \"No. of Samples (log<sub>10</sub>-scale)\",\n",
        "       y = \"No. of Reads (log<sub>10</sub>-scale)\",\n",
        "       subtitle = \"Number of reads as a function of number of samples\") +\n",
        "  theme_classic(base_size = 10) +\n",
        "  theme(axis.title = element_markdown(),\n",
        "        panel.background = element_rect(colour = 'black'))\n",
        "\n",
        "plot_nzotus_nreads <- predator_gut_contents %>%\n",
        "  summarise(n_samples = n_distinct(sample_id),\n",
        "            n_zotus = n_distinct(zotu),\n",
        "            n_reads = sum(n_reads),\n",
        "            .by = c(predator_species_name)) %>%\n",
        "  ggplot(aes(x = n_reads,\n",
        "             y= n_zotus)) +\n",
        "  geom_point() +\n",
        "  geom_text_repel(aes(label = predator_species_name),\n",
        "                  size = font_size,\n",
        "                  max.overlaps = 30,\n",
        "                  fontface=\"italic\") +\n",
        "  scale_x_continuous(transform = scales::log10_trans()) +\n",
        "  scale_y_continuous(transform = scales::log10_trans()) +\n",
        "  annotation_logticks() +\n",
        "  labs(x = \"No. of Reads (log<sub>10</sub>-scale)\",\n",
        "       y = \"No. of zOTUs (log<sub>10</sub>-scale)\",\n",
        "       subtitle = \"Number of zOTUs as a function of number of reads\") +\n",
        "  theme_classic(base_size = 10) +\n",
        "  theme(axis.title = element_markdown(),\n",
        "        panel.background = element_rect(colour = 'black'))\n",
        "\n",
        "plot_nzotu_nsamples + plot_nzotus_nreads + plot_nreads_nsamples + plot_spacer() +\n",
        "  plot_layout(nrow = 2, guides = 'collect', axes = 'collect')"
      ],
      "metadata": {
        "id": "zNA5ixE6CD8r",
        "outputId": "0960332c-8375-4105-9c8d-528da04f39f6",
        "colab": {
          "base_uri": "https://localhost:8080/",
          "height": 497
        }
      },
      "id": "zNA5ixE6CD8r",
      "execution_count": 10,
      "outputs": [
        {
          "output_type": "display_data",
          "data": {
            "image/png": "[encoded data removed]",
            "text/plain": [
              "<IPython.core.display.Image object>"
            ]
          },
          "metadata": {}
        }
      ]
    },
    {
      "cell_type": "markdown",
      "source": [
        "---\n",
        "## Get Predator Information"
      ],
      "metadata": {
        "id": "34bLwx1sCEfC"
      },
      "id": "34bLwx1sCEfC"
    },
    {
      "cell_type": "code",
      "source": [
        "%%R\n",
        "get_fishbase_data <- function(species_df, species_col = 'species',\n",
        "                              datasets = c('species', 'ecology', 'estimate',\n",
        "                                           'morphology', 'reproduction', 'morphometrics')){\n",
        "  #Datasets: the rfishbase functions (quoted) to get information from\n",
        "\n",
        "  out <- species_df\n",
        "  for(func_name in datasets){\n",
        "\n",
        "    func <- get(func_name, envir = asNamespace(\"rfishbase\"))\n",
        "    search_result <- func(pull(species_df, species_col)) %>%\n",
        "      janitor::remove_empty(which = 'cols')\n",
        "\n",
        "    join_vec <- join_by(!!sym(species_col) == 'Species',\n",
        "                        !!!syms(intersect(colnames(out),\n",
        "                                          colnames(search_result))))\n",
        "\n",
        "    out <- out %>%\n",
        "      left_join(search_result,\n",
        "                by = join_vec) %>%\n",
        "      nest(!!sym(str_c('fishbase_search_', func_name)) := str_subset(colnames(search_result), '^Species$', negate = TRUE))\n",
        "  }\n",
        "\n",
        "  out\n",
        "}\n",
        "\n",
        "if(!file.exists(str_c(here::here(),\n",
        "                      'intermediate_files/predator_taxonomy.rds',\n",
        "                      sep = '/'))){\n",
        "  fishbase_db <- load_taxa() %>%\n",
        "    clean_names()\n",
        "\n",
        "  predator_taxonomy <- sampling_metadata %>%\n",
        "    mutate(predator_species_name = case_when(predator_species_name == \"Ophidion welshi\" ~ \"Ophidion josephi\",\n",
        "                                             TRUE ~ predator_species_name)) %>%\n",
        "    distinct(predator_species_name) %>%\n",
        "    pull(predator_species_name) %>%\n",
        "    tax_name(get = c(\"kingdom\", \"phylum\", \"class\", \"order\", \"family\", \"genus\", \"species\"),\n",
        "             db = \"ncbi\") %>%\n",
        "    as_tibble() %>%\n",
        "    left_join(fishbase_db %>% select(species, order_fishbase = order), by = \"species\") %>%\n",
        "    mutate(order = coalesce(order, order_fishbase),\n",
        "           .keep = 'unused') %>%\n",
        "    select(-db, -query) %>%\n",
        "    get_fishbase_data()\n",
        "}\n",
        "\n",
        "if(nzchar(Sys.getenv(\"COLAB\"))){\n",
        "    predator_taxonomy <- read_rds(str_c(here::here(),\n",
        "                                        'intermediate_files/predator_taxonomy.rds',\n",
        "                                        sep = '/'))\n",
        "}"
      ],
      "metadata": {
        "id": "LyKg_u7ECIgV",
        "collapsed": true
      },
      "id": "LyKg_u7ECIgV",
      "execution_count": 20,
      "outputs": []
    },
    {
      "cell_type": "code",
      "source": [],
      "metadata": {
        "id": "3LZScjnQwtWr"
      },
      "id": "3LZScjnQwtWr",
      "execution_count": null,
      "outputs": []
    },
    {
      "cell_type": "markdown",
      "source": [
        "---\n",
        "## Write Cleaned files for future use"
      ],
      "metadata": {
        "id": "wzahE76LCI46"
      },
      "id": "wzahE76LCI46"
    },
    {
      "cell_type": "code",
      "source": [
        "%%R\n",
        "storage_dir <- if_else(nzchar(Sys.getenv(\"COLAB\")), drive_lib, here::here())\n",
        "dir.create(str_c(storage_dir, 'intermediate_files', sep = '/'), showWarnings = FALSE)\n",
        "\n",
        "predator_gut_contents %>%\n",
        "  pivot_wider(names_from = 'zotu',\n",
        "              values_from = n_reads,\n",
        "              values_fill = 0L) %>%\n",
        "  write_csv(str_c(storage_dir,\n",
        "                  'intermediate_files/filtered_zotu_counts.csv',\n",
        "                  sep = '/'))\n",
        "\n",
        "write_csv(zotu_taxonomy,\n",
        "          str_c(storage_dir,\n",
        "                  'intermediate_files/zotu_taxonomy.csv',\n",
        "                  sep = '/'))\n",
        "\n",
        "write_rds(predator_taxonomy,\n",
        "          str_c(storage_dir,\n",
        "                'intermediate_files/predator_taxonomy.rds',\n",
        "                sep = '/'))"
      ],
      "metadata": {
        "id": "m52-GmHBCOJA"
      },
      "id": "m52-GmHBCOJA",
      "execution_count": 25,
      "outputs": []
    },
    {
      "cell_type": "code",
      "source": [
        "#Cleanly unmount Google Drive\n",
        "drive.flush_and_unmount()"
      ],
      "metadata": {
        "id": "p2IQPEo_I_Pk"
      },
      "id": "p2IQPEo_I_Pk",
      "execution_count": null,
      "outputs": []
    }
  ],
  "metadata": {
    "colab": {
      "provenance": [],
      "include_colab_link": true
    },
    "kernelspec": {
      "display_name": "Python 3",
      "name": "python3"
    },
    "language_info": {
      "name": "python"
    }
  },
  "nbformat": 4,
  "nbformat_minor": 5
}