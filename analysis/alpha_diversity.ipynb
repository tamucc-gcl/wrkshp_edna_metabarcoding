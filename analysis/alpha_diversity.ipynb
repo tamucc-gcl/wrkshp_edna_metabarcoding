{
  "cells": [
    {
      "cell_type": "markdown",
      "metadata": {
        "id": "view-in-github",
        "colab_type": "text"
      },
      "source": [
        "<a href=\"https://colab.research.google.com/github/tamucc-gcl/wrkshp_edna_metabarcoding/blob/main/analysis/alpha_diversity.ipynb\" target=\"_parent\"><img src=\"https://colab.research.google.com/assets/colab-badge.svg\" alt=\"Open In Colab\"/></a>"
      ]
    },
    {
      "cell_type": "markdown",
      "id": "B8JlmtFMBjs9",
      "metadata": {
        "id": "B8JlmtFMBjs9"
      },
      "source": [
        "# Alpha Diversity Analysis\n",
        "\n",
        "\n"
      ]
    },
    {
      "cell_type": "markdown",
      "source": [
        "---\n",
        "## Initialize Environment"
      ],
      "metadata": {
        "id": "EzT35XQDxNji"
      },
      "id": "EzT35XQDxNji"
    },
    {
      "cell_type": "code",
      "source": [
        "#Set-up Computing Environment - Python\n",
        "\n",
        "## Mount Google Drive\n",
        "from google.colab import drive\n",
        "import os\n",
        "drive.mount('/content/drive')\n",
        "os.environ['COLAB'] = 'TRUE'\n",
        "\n",
        "## Install Linux programs needed\n",
        "!apt install libfribidi-dev libglpk-dev libharfbuzz-dev pandoc\n",
        "\n",
        "## Clone GitHub Repo and move into that repo\n",
        "local_path = '/content/edna_workshop'\n",
        "repo  = \"tamucc-gcl/wrkshp_edna_metabarcoding\"\n",
        "url = f\"https://github.com/{repo}.git\"\n",
        "!git clone {url} {local_path}\n",
        "\n",
        "## Setup R and move to local directory\n",
        "os.chdir(local_path)\n",
        "%reload_ext rpy2.ipython"
      ],
      "metadata": {
        "id": "G0FnmIJ3G-7P",
        "colab": {
          "base_uri": "https://localhost:8080/"
        },
        "outputId": "423ff005-34c7-4d86-f912-0684d61867df",
        "collapsed": true
      },
      "id": "G0FnmIJ3G-7P",
      "execution_count": 2,
      "outputs": [
        {
          "output_type": "stream",
          "name": "stdout",
          "text": [
            "Mounted at /content/drive\n",
            "Reading package lists... Done\n",
            "Building dependency tree... Done\n",
            "Reading state information... Done\n",
            "The following additional packages will be installed:\n",
            "  libamd2 libbtf1 libcamd2 libccolamd2 libcholmod3\n",
            "  libcmark-gfm-extensions0.29.0.gfm.3 libcmark-gfm0.29.0.gfm.3 libcolamd2\n",
            "  libcxsparse3 libglpk40 libgmp-dev libgmpxx4ldbl libgraphblas-dev\n",
            "  libgraphblas6 libgraphite2-dev libharfbuzz-gobject0 libharfbuzz-icu0 libklu1\n",
            "  libldl2 libmetis5 libmongoose2 librbio2 libsliplu1 libspqr2\n",
            "  libsuitesparse-dev libsuitesparseconfig5 libumfpack5 pandoc-data\n",
            "Suggested packages:\n",
            "  libiodbc2-dev gmp-doc libgmp10-doc libmpfr-dev libgraphite2-utils\n",
            "  texlive-latex-recommended texlive-xetex texlive-luatex pandoc-citeproc\n",
            "  texlive-latex-extra context wkhtmltopdf librsvg2-bin groff ghc nodejs php\n",
            "  python ruby libjs-mathjax libjs-katex citation-style-language-styles\n",
            "The following NEW packages will be installed:\n",
            "  libamd2 libbtf1 libcamd2 libccolamd2 libcholmod3\n",
            "  libcmark-gfm-extensions0.29.0.gfm.3 libcmark-gfm0.29.0.gfm.3 libcolamd2\n",
            "  libcxsparse3 libfribidi-dev libglpk-dev libglpk40 libgmp-dev libgmpxx4ldbl\n",
            "  libgraphblas-dev libgraphblas6 libgraphite2-dev libharfbuzz-dev\n",
            "  libharfbuzz-gobject0 libharfbuzz-icu0 libklu1 libldl2 libmetis5 libmongoose2\n",
            "  librbio2 libsliplu1 libspqr2 libsuitesparse-dev libsuitesparseconfig5\n",
            "  libumfpack5 pandoc pandoc-data\n",
            "0 upgraded, 32 newly installed, 0 to remove and 34 not upgraded.\n",
            "Need to get 44.7 MB of archives.\n",
            "After this operation, 334 MB of additional disk space will be used.\n",
            "Get:1 http://archive.ubuntu.com/ubuntu jammy/main amd64 libsuitesparseconfig5 amd64 1:5.10.1+dfsg-4build1 [10.4 kB]\n",
            "Get:2 http://archive.ubuntu.com/ubuntu jammy/universe amd64 libamd2 amd64 1:5.10.1+dfsg-4build1 [21.6 kB]\n",
            "Get:3 http://archive.ubuntu.com/ubuntu jammy/universe amd64 libbtf1 amd64 1:5.10.1+dfsg-4build1 [12.1 kB]\n",
            "Get:4 http://archive.ubuntu.com/ubuntu jammy/universe amd64 libcamd2 amd64 1:5.10.1+dfsg-4build1 [23.3 kB]\n",
            "Get:5 http://archive.ubuntu.com/ubuntu jammy/universe amd64 libccolamd2 amd64 1:5.10.1+dfsg-4build1 [25.2 kB]\n",
            "Get:6 http://archive.ubuntu.com/ubuntu jammy/main amd64 libcolamd2 amd64 1:5.10.1+dfsg-4build1 [18.0 kB]\n",
            "Get:7 http://archive.ubuntu.com/ubuntu jammy/universe amd64 libmetis5 amd64 5.1.0.dfsg-7build2 [181 kB]\n",
            "Get:8 http://archive.ubuntu.com/ubuntu jammy/universe amd64 libcholmod3 amd64 1:5.10.1+dfsg-4build1 [346 kB]\n",
            "Get:9 http://archive.ubuntu.com/ubuntu jammy/universe amd64 libcmark-gfm0.29.0.gfm.3 amd64 0.29.0.gfm.3-3 [115 kB]\n",
            "Get:10 http://archive.ubuntu.com/ubuntu jammy/universe amd64 libcmark-gfm-extensions0.29.0.gfm.3 amd64 0.29.0.gfm.3-3 [25.1 kB]\n",
            "Get:11 http://archive.ubuntu.com/ubuntu jammy/universe amd64 libcxsparse3 amd64 1:5.10.1+dfsg-4build1 [70.8 kB]\n",
            "Get:12 http://archive.ubuntu.com/ubuntu jammy-updates/main amd64 libfribidi-dev amd64 1.0.8-2ubuntu3.1 [64.8 kB]\n",
            "Get:13 http://archive.ubuntu.com/ubuntu jammy/universe amd64 libglpk40 amd64 5.0-1 [361 kB]\n",
            "Get:14 http://archive.ubuntu.com/ubuntu jammy/main amd64 libgmpxx4ldbl amd64 2:6.2.1+dfsg-3ubuntu1 [9,580 B]\n",
            "Get:15 http://archive.ubuntu.com/ubuntu jammy/main amd64 libgmp-dev amd64 2:6.2.1+dfsg-3ubuntu1 [337 kB]\n",
            "Get:16 http://archive.ubuntu.com/ubuntu jammy/universe amd64 libklu1 amd64 1:5.10.1+dfsg-4build1 [77.6 kB]\n",
            "Get:17 http://archive.ubuntu.com/ubuntu jammy/universe amd64 libldl2 amd64 1:5.10.1+dfsg-4build1 [11.7 kB]\n",
            "Get:18 http://archive.ubuntu.com/ubuntu jammy/universe amd64 libmongoose2 amd64 1:5.10.1+dfsg-4build1 [33.5 kB]\n",
            "Get:19 http://archive.ubuntu.com/ubuntu jammy/universe amd64 libumfpack5 amd64 1:5.10.1+dfsg-4build1 [250 kB]\n",
            "Get:20 http://archive.ubuntu.com/ubuntu jammy/universe amd64 librbio2 amd64 1:5.10.1+dfsg-4build1 [26.6 kB]\n",
            "Get:21 http://archive.ubuntu.com/ubuntu jammy/universe amd64 libspqr2 amd64 1:5.10.1+dfsg-4build1 [71.6 kB]\n",
            "Get:22 http://archive.ubuntu.com/ubuntu jammy/universe amd64 libsliplu1 amd64 1:5.10.1+dfsg-4build1 [37.1 kB]\n",
            "Get:23 http://archive.ubuntu.com/ubuntu jammy/universe amd64 libsuitesparse-dev amd64 1:5.10.1+dfsg-4build1 [1,058 kB]\n",
            "Get:24 http://archive.ubuntu.com/ubuntu jammy/universe amd64 libglpk-dev amd64 5.0-1 [430 kB]\n",
            "Get:25 http://archive.ubuntu.com/ubuntu jammy/universe amd64 libgraphblas6 amd64 6.1.4+dfsg-2 [20.1 MB]\n",
            "Get:26 http://archive.ubuntu.com/ubuntu jammy/universe amd64 libgraphblas-dev amd64 6.1.4+dfsg-2 [54.4 kB]\n",
            "Get:27 http://archive.ubuntu.com/ubuntu jammy/main amd64 libgraphite2-dev amd64 1.3.14-1build2 [14.7 kB]\n",
            "Get:28 http://archive.ubuntu.com/ubuntu jammy-updates/main amd64 libharfbuzz-icu0 amd64 2.7.4-1ubuntu3.2 [5,890 B]\n",
            "Get:29 http://archive.ubuntu.com/ubuntu jammy-updates/main amd64 libharfbuzz-gobject0 amd64 2.7.4-1ubuntu3.2 [26.0 kB]\n",
            "Get:30 http://archive.ubuntu.com/ubuntu jammy-updates/main amd64 libharfbuzz-dev amd64 2.7.4-1ubuntu3.2 [554 kB]\n",
            "Get:31 http://archive.ubuntu.com/ubuntu jammy/universe amd64 pandoc-data all 2.9.2.1-3ubuntu2 [81.8 kB]\n",
            "Get:32 http://archive.ubuntu.com/ubuntu jammy/universe amd64 pandoc amd64 2.9.2.1-3ubuntu2 [20.3 MB]\n",
            "Fetched 44.7 MB in 2s (27.1 MB/s)\n",
            "Extracting templates from packages: 100%\n",
            "Selecting previously unselected package libsuitesparseconfig5:amd64.\n",
            "(Reading database ... 126101 files and directories currently installed.)\n",
            "Preparing to unpack .../00-libsuitesparseconfig5_1%3a5.10.1+dfsg-4build1_amd64.deb ...\n",
            "Unpacking libsuitesparseconfig5:amd64 (1:5.10.1+dfsg-4build1) ...\n",
            "Selecting previously unselected package libamd2:amd64.\n",
            "Preparing to unpack .../01-libamd2_1%3a5.10.1+dfsg-4build1_amd64.deb ...\n",
            "Unpacking libamd2:amd64 (1:5.10.1+dfsg-4build1) ...\n",
            "Selecting previously unselected package libbtf1:amd64.\n",
            "Preparing to unpack .../02-libbtf1_1%3a5.10.1+dfsg-4build1_amd64.deb ...\n",
            "Unpacking libbtf1:amd64 (1:5.10.1+dfsg-4build1) ...\n",
            "Selecting previously unselected package libcamd2:amd64.\n",
            "Preparing to unpack .../03-libcamd2_1%3a5.10.1+dfsg-4build1_amd64.deb ...\n",
            "Unpacking libcamd2:amd64 (1:5.10.1+dfsg-4build1) ...\n",
            "Selecting previously unselected package libccolamd2:amd64.\n",
            "Preparing to unpack .../04-libccolamd2_1%3a5.10.1+dfsg-4build1_amd64.deb ...\n",
            "Unpacking libccolamd2:amd64 (1:5.10.1+dfsg-4build1) ...\n",
            "Selecting previously unselected package libcolamd2:amd64.\n",
            "Preparing to unpack .../05-libcolamd2_1%3a5.10.1+dfsg-4build1_amd64.deb ...\n",
            "Unpacking libcolamd2:amd64 (1:5.10.1+dfsg-4build1) ...\n",
            "Selecting previously unselected package libmetis5:amd64.\n",
            "Preparing to unpack .../06-libmetis5_5.1.0.dfsg-7build2_amd64.deb ...\n",
            "Unpacking libmetis5:amd64 (5.1.0.dfsg-7build2) ...\n",
            "Selecting previously unselected package libcholmod3:amd64.\n",
            "Preparing to unpack .../07-libcholmod3_1%3a5.10.1+dfsg-4build1_amd64.deb ...\n",
            "Unpacking libcholmod3:amd64 (1:5.10.1+dfsg-4build1) ...\n",
            "Selecting previously unselected package libcmark-gfm0.29.0.gfm.3:amd64.\n",
            "Preparing to unpack .../08-libcmark-gfm0.29.0.gfm.3_0.29.0.gfm.3-3_amd64.deb ...\n",
            "Unpacking libcmark-gfm0.29.0.gfm.3:amd64 (0.29.0.gfm.3-3) ...\n",
            "Selecting previously unselected package libcmark-gfm-extensions0.29.0.gfm.3:amd64.\n",
            "Preparing to unpack .../09-libcmark-gfm-extensions0.29.0.gfm.3_0.29.0.gfm.3-3_amd64.deb ...\n",
            "Unpacking libcmark-gfm-extensions0.29.0.gfm.3:amd64 (0.29.0.gfm.3-3) ...\n",
            "Selecting previously unselected package libcxsparse3:amd64.\n",
            "Preparing to unpack .../10-libcxsparse3_1%3a5.10.1+dfsg-4build1_amd64.deb ...\n",
            "Unpacking libcxsparse3:amd64 (1:5.10.1+dfsg-4build1) ...\n",
            "Selecting previously unselected package libfribidi-dev:amd64.\n",
            "Preparing to unpack .../11-libfribidi-dev_1.0.8-2ubuntu3.1_amd64.deb ...\n",
            "Unpacking libfribidi-dev:amd64 (1.0.8-2ubuntu3.1) ...\n",
            "Selecting previously unselected package libglpk40:amd64.\n",
            "Preparing to unpack .../12-libglpk40_5.0-1_amd64.deb ...\n",
            "Unpacking libglpk40:amd64 (5.0-1) ...\n",
            "Selecting previously unselected package libgmpxx4ldbl:amd64.\n",
            "Preparing to unpack .../13-libgmpxx4ldbl_2%3a6.2.1+dfsg-3ubuntu1_amd64.deb ...\n",
            "Unpacking libgmpxx4ldbl:amd64 (2:6.2.1+dfsg-3ubuntu1) ...\n",
            "Selecting previously unselected package libgmp-dev:amd64.\n",
            "Preparing to unpack .../14-libgmp-dev_2%3a6.2.1+dfsg-3ubuntu1_amd64.deb ...\n",
            "Unpacking libgmp-dev:amd64 (2:6.2.1+dfsg-3ubuntu1) ...\n",
            "Selecting previously unselected package libklu1:amd64.\n",
            "Preparing to unpack .../15-libklu1_1%3a5.10.1+dfsg-4build1_amd64.deb ...\n",
            "Unpacking libklu1:amd64 (1:5.10.1+dfsg-4build1) ...\n",
            "Selecting previously unselected package libldl2:amd64.\n",
            "Preparing to unpack .../16-libldl2_1%3a5.10.1+dfsg-4build1_amd64.deb ...\n",
            "Unpacking libldl2:amd64 (1:5.10.1+dfsg-4build1) ...\n",
            "Selecting previously unselected package libmongoose2:amd64.\n",
            "Preparing to unpack .../17-libmongoose2_1%3a5.10.1+dfsg-4build1_amd64.deb ...\n",
            "Unpacking libmongoose2:amd64 (1:5.10.1+dfsg-4build1) ...\n",
            "Selecting previously unselected package libumfpack5:amd64.\n",
            "Preparing to unpack .../18-libumfpack5_1%3a5.10.1+dfsg-4build1_amd64.deb ...\n",
            "Unpacking libumfpack5:amd64 (1:5.10.1+dfsg-4build1) ...\n",
            "Selecting previously unselected package librbio2:amd64.\n",
            "Preparing to unpack .../19-librbio2_1%3a5.10.1+dfsg-4build1_amd64.deb ...\n",
            "Unpacking librbio2:amd64 (1:5.10.1+dfsg-4build1) ...\n",
            "Selecting previously unselected package libspqr2:amd64.\n",
            "Preparing to unpack .../20-libspqr2_1%3a5.10.1+dfsg-4build1_amd64.deb ...\n",
            "Unpacking libspqr2:amd64 (1:5.10.1+dfsg-4build1) ...\n",
            "Selecting previously unselected package libsliplu1:amd64.\n",
            "Preparing to unpack .../21-libsliplu1_1%3a5.10.1+dfsg-4build1_amd64.deb ...\n",
            "Unpacking libsliplu1:amd64 (1:5.10.1+dfsg-4build1) ...\n",
            "Selecting previously unselected package libsuitesparse-dev:amd64.\n",
            "Preparing to unpack .../22-libsuitesparse-dev_1%3a5.10.1+dfsg-4build1_amd64.deb ...\n",
            "Unpacking libsuitesparse-dev:amd64 (1:5.10.1+dfsg-4build1) ...\n",
            "Selecting previously unselected package libglpk-dev:amd64.\n",
            "Preparing to unpack .../23-libglpk-dev_5.0-1_amd64.deb ...\n",
            "Unpacking libglpk-dev:amd64 (5.0-1) ...\n",
            "Selecting previously unselected package libgraphblas6:amd64.\n",
            "Preparing to unpack .../24-libgraphblas6_6.1.4+dfsg-2_amd64.deb ...\n",
            "Unpacking libgraphblas6:amd64 (6.1.4+dfsg-2) ...\n",
            "Selecting previously unselected package libgraphblas-dev:amd64.\n",
            "Preparing to unpack .../25-libgraphblas-dev_6.1.4+dfsg-2_amd64.deb ...\n",
            "Unpacking libgraphblas-dev:amd64 (6.1.4+dfsg-2) ...\n",
            "Selecting previously unselected package libgraphite2-dev:amd64.\n",
            "Preparing to unpack .../26-libgraphite2-dev_1.3.14-1build2_amd64.deb ...\n",
            "Unpacking libgraphite2-dev:amd64 (1.3.14-1build2) ...\n",
            "Selecting previously unselected package libharfbuzz-icu0:amd64.\n",
            "Preparing to unpack .../27-libharfbuzz-icu0_2.7.4-1ubuntu3.2_amd64.deb ...\n",
            "Unpacking libharfbuzz-icu0:amd64 (2.7.4-1ubuntu3.2) ...\n",
            "Selecting previously unselected package libharfbuzz-gobject0:amd64.\n",
            "Preparing to unpack .../28-libharfbuzz-gobject0_2.7.4-1ubuntu3.2_amd64.deb ...\n",
            "Unpacking libharfbuzz-gobject0:amd64 (2.7.4-1ubuntu3.2) ...\n",
            "Selecting previously unselected package libharfbuzz-dev:amd64.\n",
            "Preparing to unpack .../29-libharfbuzz-dev_2.7.4-1ubuntu3.2_amd64.deb ...\n",
            "Unpacking libharfbuzz-dev:amd64 (2.7.4-1ubuntu3.2) ...\n",
            "Selecting previously unselected package pandoc-data.\n",
            "Preparing to unpack .../30-pandoc-data_2.9.2.1-3ubuntu2_all.deb ...\n",
            "Unpacking pandoc-data (2.9.2.1-3ubuntu2) ...\n",
            "Selecting previously unselected package pandoc.\n",
            "Preparing to unpack .../31-pandoc_2.9.2.1-3ubuntu2_amd64.deb ...\n",
            "Unpacking pandoc (2.9.2.1-3ubuntu2) ...\n",
            "Setting up libharfbuzz-icu0:amd64 (2.7.4-1ubuntu3.2) ...\n",
            "Setting up libfribidi-dev:amd64 (1.0.8-2ubuntu3.1) ...\n",
            "Setting up libgraphblas6:amd64 (6.1.4+dfsg-2) ...\n",
            "Setting up libldl2:amd64 (1:5.10.1+dfsg-4build1) ...\n",
            "Setting up libmetis5:amd64 (5.1.0.dfsg-7build2) ...\n",
            "Setting up libharfbuzz-gobject0:amd64 (2.7.4-1ubuntu3.2) ...\n",
            "Setting up libbtf1:amd64 (1:5.10.1+dfsg-4build1) ...\n",
            "Setting up libgraphblas-dev:amd64 (6.1.4+dfsg-2) ...\n",
            "Setting up libgraphite2-dev:amd64 (1.3.14-1build2) ...\n",
            "Setting up libgmpxx4ldbl:amd64 (2:6.2.1+dfsg-3ubuntu1) ...\n",
            "Setting up libcmark-gfm0.29.0.gfm.3:amd64 (0.29.0.gfm.3-3) ...\n",
            "Setting up libcmark-gfm-extensions0.29.0.gfm.3:amd64 (0.29.0.gfm.3-3) ...\n",
            "Setting up libcxsparse3:amd64 (1:5.10.1+dfsg-4build1) ...\n",
            "Setting up pandoc-data (2.9.2.1-3ubuntu2) ...\n",
            "Setting up libsuitesparseconfig5:amd64 (1:5.10.1+dfsg-4build1) ...\n",
            "Setting up librbio2:amd64 (1:5.10.1+dfsg-4build1) ...\n",
            "Setting up libamd2:amd64 (1:5.10.1+dfsg-4build1) ...\n",
            "Setting up libharfbuzz-dev:amd64 (2.7.4-1ubuntu3.2) ...\n",
            "Setting up libgmp-dev:amd64 (2:6.2.1+dfsg-3ubuntu1) ...\n",
            "Setting up libcolamd2:amd64 (1:5.10.1+dfsg-4build1) ...\n",
            "Setting up libsliplu1:amd64 (1:5.10.1+dfsg-4build1) ...\n",
            "Setting up libcamd2:amd64 (1:5.10.1+dfsg-4build1) ...\n",
            "Setting up libmongoose2:amd64 (1:5.10.1+dfsg-4build1) ...\n",
            "Setting up pandoc (2.9.2.1-3ubuntu2) ...\n",
            "Setting up libglpk40:amd64 (5.0-1) ...\n",
            "Setting up libklu1:amd64 (1:5.10.1+dfsg-4build1) ...\n",
            "Setting up libccolamd2:amd64 (1:5.10.1+dfsg-4build1) ...\n",
            "Setting up libcholmod3:amd64 (1:5.10.1+dfsg-4build1) ...\n",
            "Setting up libspqr2:amd64 (1:5.10.1+dfsg-4build1) ...\n",
            "Setting up libumfpack5:amd64 (1:5.10.1+dfsg-4build1) ...\n",
            "Setting up libsuitesparse-dev:amd64 (1:5.10.1+dfsg-4build1) ...\n",
            "Setting up libglpk-dev:amd64 (5.0-1) ...\n",
            "Processing triggers for man-db (2.10.2-1) ...\n",
            "Processing triggers for libc-bin (2.35-0ubuntu3.8) ...\n",
            "/sbin/ldconfig.real: /usr/local/lib/libtbbbind_2_0.so.3 is not a symbolic link\n",
            "\n",
            "/sbin/ldconfig.real: /usr/local/lib/libtcm_debug.so.1 is not a symbolic link\n",
            "\n",
            "/sbin/ldconfig.real: /usr/local/lib/libur_adapter_level_zero.so.0 is not a symbolic link\n",
            "\n",
            "/sbin/ldconfig.real: /usr/local/lib/libtbbmalloc.so.2 is not a symbolic link\n",
            "\n",
            "/sbin/ldconfig.real: /usr/local/lib/libumf.so.0 is not a symbolic link\n",
            "\n",
            "/sbin/ldconfig.real: /usr/local/lib/libtbbmalloc_proxy.so.2 is not a symbolic link\n",
            "\n",
            "/sbin/ldconfig.real: /usr/local/lib/libhwloc.so.15 is not a symbolic link\n",
            "\n",
            "/sbin/ldconfig.real: /usr/local/lib/libtbb.so.12 is not a symbolic link\n",
            "\n",
            "/sbin/ldconfig.real: /usr/local/lib/libtcm.so.1 is not a symbolic link\n",
            "\n",
            "/sbin/ldconfig.real: /usr/local/lib/libur_loader.so.0 is not a symbolic link\n",
            "\n",
            "/sbin/ldconfig.real: /usr/local/lib/libtbbbind.so.3 is not a symbolic link\n",
            "\n",
            "/sbin/ldconfig.real: /usr/local/lib/libur_adapter_opencl.so.0 is not a symbolic link\n",
            "\n",
            "/sbin/ldconfig.real: /usr/local/lib/libtbbbind_2_5.so.3 is not a symbolic link\n",
            "\n",
            "Cloning into '/content/edna_workshop'...\n",
            "remote: Enumerating objects: 377, done.\u001b[K\n",
            "remote: Counting objects: 100% (73/73), done.\u001b[K\n",
            "remote: Compressing objects: 100% (56/56), done.\u001b[K\n",
            "remote: Total 377 (delta 36), reused 37 (delta 14), pack-reused 304 (from 1)\u001b[K\n",
            "Receiving objects: 100% (377/377), 16.36 MiB | 25.82 MiB/s, done.\n",
            "Resolving deltas: 100% (164/164), done.\n"
          ]
        }
      ]
    },
    {
      "cell_type": "code",
      "source": [
        "#Set-up Computing Environment - R\n",
        "%%R -i local_path\n",
        "# Point R at your Drive-backed library\n",
        "drive_lib <- \"/content/drive/MyDrive/edna_libraries\"\n",
        "dir.create(drive_lib, recursive = TRUE, showWarnings = FALSE)\n",
        ".libPaths(c(drive_lib, .libPaths()))\n",
        "\n",
        "#Install renv if it isn't already\n",
        "if (!require(\"renv\", lib.loc = drive_lib, quietly = TRUE, warn.conflicts = FALSE)) {\n",
        "  install.packages(\"renv\", lib = drive_lib,\n",
        "                   quietly = TRUE, warn.conflicts = FALSE)\n",
        "}\n",
        "\n",
        "#Install required libraries into google drive if they aren't already\n",
        "renv::restore(library = drive_lib,\n",
        "              lockfile = paste0(local_path, '/renv.lock'),\n",
        "              prompt = FALSE)"
      ],
      "metadata": {
        "id": "N3uZ6R1lHhaB",
        "colab": {
          "base_uri": "https://localhost:8080/",
          "height": 280
        },
        "outputId": "caf29ed2-69b0-4753-c863-4e6665043e1e",
        "collapsed": true
      },
      "id": "N3uZ6R1lHhaB",
      "execution_count": 27,
      "outputs": [
        {
          "output_type": "stream",
          "name": "stdout",
          "text": [
            "- The library is already synchronized with the lockfile.\n",
            "[1] \"/content/drive/MyDrive/edna_libraries\"\n"
          ]
        },
        {
          "output_type": "display_data",
          "data": {
            "text/plain": [
              "In addition: Warning messages:\n",
              "1: In file(file, \"rt\") :\n",
              "  cannot open file '/usr/lib/R/doc/CRAN_mirrors.csv': No such file or directory\n",
              "2: In file(file, \"rt\") :\n",
              "  cannot open file '/usr/lib/R/doc/CRAN_mirrors.csv': No such file or directory\n",
              "3: In file(file, \"rt\") :\n",
              "  cannot open file '/usr/lib/R/doc/CRAN_mirrors.csv': No such file or directory\n",
              "4: In file(file, \"rt\") :\n",
              "  cannot open file '/usr/lib/R/doc/CRAN_mirrors.csv': No such file or directory\n",
              "5: In file(file, \"rt\") :\n",
              "  cannot open file '/usr/lib/R/doc/CRAN_mirrors.csv': No such file or directory\n",
              "6: In file(file, \"rt\") :\n",
              "  cannot open file '/usr/lib/R/doc/CRAN_mirrors.csv': No such file or directory\n"
            ]
          },
          "metadata": {}
        }
      ]
    },
    {
      "cell_type": "markdown",
      "source": [
        "---\n",
        "## User Settings"
      ],
      "metadata": {
        "id": "PeugC4Jfz_1L"
      },
      "id": "PeugC4Jfz_1L"
    },
    {
      "cell_type": "code",
      "source": [
        "%%R\n",
        "min_samples_predator <- 5 #Minimum number of samples of a given predator species to keep it\n",
        "MIN_NUMBER_PREDATORS_IN <- 20 #How many predators does a genus need to be in to be plotted in the stomach composition plot\n",
        "inext_predator_subsample <- 5\n",
        "inext_bootstraps <- 10\n",
        "tree_bootstraps <- 100\n",
        "tree_evolutionary_model <- 'all'"
      ],
      "metadata": {
        "id": "n1s59EMK0AHp"
      },
      "id": "n1s59EMK0AHp",
      "execution_count": 10,
      "outputs": []
    },
    {
      "cell_type": "markdown",
      "source": [
        "---\n",
        "## Libraries & Data"
      ],
      "metadata": {
        "id": "hnzA0GDqxRNo"
      },
      "id": "hnzA0GDqxRNo"
    },
    {
      "cell_type": "code",
      "source": [
        "%%R\n",
        "library(Biostrings)\n",
        "library(tidyverse)\n",
        "library(iNEXT)\n",
        "library(phangorn)\n",
        "library(picante)\n",
        "library(HierDpart)\n",
        "library(ade4)\n",
        "library(ggnested)\n",
        "library(ggtext)\n",
        "library(patchwork)\n",
        "\n",
        "source('https://raw.githubusercontent.com/tamucc-gcl/iDIP.phylo/refs/heads/main/iDIP.phylo.R')\n",
        "source(str_c(here::here(), 'r_functions/fasta2tree.R', sep = '/'))"
      ],
      "metadata": {
        "id": "LbVO_STR-3J1"
      },
      "id": "LbVO_STR-3J1",
      "execution_count": 5,
      "outputs": []
    },
    {
      "cell_type": "code",
      "source": [
        "%%R\n",
        "storage_dir <- if_else(nzchar(Sys.getenv(\"COLAB\")), drive_lib, here::here())\n",
        "dir.create(str_c(storage_dir, 'intermediate_files', sep = '/'), showWarnings = FALSE)\n",
        "\n",
        "predator_gut_contents <- read_csv(str_c(storage_dir,\n",
        "                                        'intermediate_files/filtered_zotu_counts.csv',\n",
        "                                        sep = '/'),\n",
        "                                  show_col_types = FALSE)\n",
        "\n",
        "zotu_taxonomy <- read_csv(str_c(storage_dir,\n",
        "                                'intermediate_files/zotu_taxonomy.csv',\n",
        "                                sep = '/'),\n",
        "                          show_col_types = FALSE)\n",
        "\n",
        "predator_taxonomy <- read_rds(str_c(storage_dir,\n",
        "                                    'intermediate_files/predator_taxonomy.rds',\n",
        "                                    sep = '/'))\n",
        "\n",
        "\n",
        "zotu_sequences <- readDNAStringSet(str_c(here::here(),\n",
        "                                         'output/rainbow_bridge/zotu_sequences.fasta',\n",
        "                                         sep = '/'))\n",
        "names(zotu_sequences) <- str_extract(names(zotu_sequences), 'Zotu[0-9]+')\n",
        "zotu_sequences <- zotu_sequences[names(zotu_sequences) %in% colnames(predator_gut_contents)]"
      ],
      "metadata": {
        "id": "8oVzSS_n0PN0"
      },
      "id": "8oVzSS_n0PN0",
      "execution_count": 8,
      "outputs": []
    },
    {
      "cell_type": "markdown",
      "source": [
        "---\n",
        "## Stomach Contents Composition"
      ],
      "metadata": {
        "id": "aeLh649bz1Et"
      },
      "id": "aeLh649bz1Et"
    },
    {
      "cell_type": "code",
      "source": [
        "%%R\n",
        "sample_composition <- predator_gut_contents %>%\n",
        "  pivot_longer(cols = starts_with('Zotu'),\n",
        "               names_to = 'zotu',\n",
        "               values_to = 'n_reads') %>%\n",
        "  filter(n_reads > 0) %>%\n",
        "  left_join(zotu_taxonomy,\n",
        "            by = 'zotu') %>%\n",
        "  mutate(across(where(is.character),\n",
        "                ~if_else(. == 'LCA_dropped', NA_character_, .))) %>%\n",
        "\n",
        "  #Skip genus & species for the sake of the legend\n",
        "  mutate(lowest_level = case_when(#!is.na(species) ~ str_c('s_', species),\n",
        "                                  !is.na(genus) ~ str_c('g_', genus, ' sp.'),\n",
        "                                  !is.na(family) ~ str_c('f_', family),\n",
        "                                  !is.na(order) ~ str_c('o_', order),\n",
        "                                  !is.na(class) ~ str_c('c_', class),\n",
        "                                  !is.na(phylum) ~ str_c('p_', phylum),\n",
        "                                  !is.na(kingdom) ~ str_c('k_', kingdom),\n",
        "                                  !is.na(domain) ~ str_c('d_', domain),\n",
        "                                  TRUE ~ 'Unknown'),\n",
        "         upper_level = case_when(phylum == 'Chordata' & !taxid_rank %in% c('domain', 'kingdom', 'phylum') ~ str_c('c_', class),\n",
        "                                 TRUE ~ str_c('p_', phylum)),\n",
        "         .after = species) %>%\n",
        "\n",
        "  summarise(n_reads = sum(n_reads),\n",
        "            zotu = unique(zotu) %>% str_c(collapse = '; '),\n",
        "            .by = c(predator_species_name, upper_level, lowest_level)) %>%\n",
        "\n",
        "  #Lump together for the sake of the legend/interpretabilitu\n",
        "  mutate(lowest_level = fct_lump_min(lowest_level, min = MIN_NUMBER_PREDATORS_IN),\n",
        "         lowest_level = if_else(lowest_level == 'Other',\n",
        "                                str_c(lowest_level, str_remove(upper_level, '._'), sep = '_'),\n",
        "                                lowest_level)) %>%\n",
        "  select(-zotu) %>%\n",
        "  summarise(n_reads = sum(n_reads),\n",
        "            .by = where(is.character))\n",
        "\n",
        "sample_composition %>%\n",
        "  left_join(predator_taxonomy,\n",
        "            by = c('predator_species_name' = 'species')) %>%\n",
        "  ggnested(aes(y = predator_species_name, x = n_reads,\n",
        "               main_group = upper_level, sub_group = lowest_level),\n",
        "           legend_labeling = 'sub', legend_title = 'Lowest Taxonomic\\nClassification',\n",
        "           main_keys = TRUE, nested_aes = c(\"fill\"),\n",
        "           gradient_type = 'both') +\n",
        "  geom_col(position = 'fill') +\n",
        "  scale_x_continuous(labels = scales::percent_format()) +\n",
        "  guides(fill = guide_legend(ncol = 2)) + #ncol = 5\n",
        "  facet_grid(order ~ ., scales = 'free_y', space = 'free_y', switch = 'y') +\n",
        "  labs(y = NULL,\n",
        "       x = 'Relative Number of Reads (%)') +\n",
        "  theme_classic(base_size = 12) +\n",
        "  theme(axis.title.x = element_markdown(),\n",
        "        axis.title.y = element_markdown(),\n",
        "        panel.background = element_rect(colour = 'black'),\n",
        "        legend.position = 'right',\n",
        "        legend.text = element_markdown(size = 4),\n",
        "        legend.key = element_blank(),\n",
        "        legend.key.size = unit(0.5, \"line\"),\n",
        "        strip.text.y.left = element_text(angle = 0),\n",
        "        strip.background = element_blank(),\n",
        "        strip.placement = \"outside\")"
      ],
      "metadata": {
        "id": "ggTnXKtZiQbs",
        "colab": {
          "base_uri": "https://localhost:8080/",
          "height": 727
        },
        "outputId": "255cad67-2b29-4e26-f8bc-053b273d305e"
      },
      "id": "ggTnXKtZiQbs",
      "execution_count": 7,
      "outputs": [
        {
          "output_type": "stream",
          "name": "stdout",
          "text": [
            "Error in (function (expr, envir = parent.frame(), enclos = if (is.list(envir) ||  : \n",
            "  object 'predator_gut_contents' not found\n"
          ]
        },
        {
          "output_type": "error",
          "ename": "RInterpreterError",
          "evalue": "Failed to parse and evaluate line 'sample_composition <- predator_gut_contents %>%\\n  pivot_longer(cols = starts_with(\\'Zotu\\'),\\n               names_to = \\'zotu\\',\\n               values_to = \\'n_reads\\') %>%\\n  filter(n_reads > 0) %>%\\n  left_join(zotu_taxonomy,\\n            by = \\'zotu\\') %>%\\n  mutate(across(where(is.character), \\n                ~if_else(. == \\'LCA_dropped\\', NA_character_, .))) %>%\\n  \\n  #Skip genus & species for the sake of the legend\\n  mutate(lowest_level = case_when(#!is.na(species) ~ str_c(\\'s_\\', species),\\n                                  !is.na(genus) ~ str_c(\\'g_\\', genus, \\' sp.\\'),\\n                                  !is.na(family) ~ str_c(\\'f_\\', family),\\n                                  !is.na(order) ~ str_c(\\'o_\\', order),\\n                                  !is.na(class) ~ str_c(\\'c_\\', class),\\n                                  !is.na(phylum) ~ str_c(\\'p_\\', phylum),\\n                                  !is.na(kingdom) ~ str_c(\\'k_\\', kingdom),\\n                                  !is.na(domain) ~ str_c(\\'d_\\', domain),\\n                                  TRUE ~ \\'Unknown\\'),\\n         upper_level = case_when(phylum == \\'Chordata\\' & !taxid_rank %in% c(\\'domain\\', \\'kingdom\\', \\'phylum\\') ~ str_c(\\'c_\\', class),\\n                                 TRUE ~ str_c(\\'p_\\', phylum)),\\n         .after = species) %>%\\n  \\n  summarise(n_reads = sum(n_reads),\\n            zotu = unique(zotu) %>% str_c(collapse = \\'; \\'),\\n            .by = c(predator_species_name, upper_level, lowest_level)) %>%\\n  \\n  #Lump together for the sake of the legend/interpretabilitu\\n  mutate(lowest_level = fct_lump_min(lowest_level, min = MIN_NUMBER_PREDATORS_IN),\\n         lowest_level = if_else(lowest_level == \\'Other\\', \\n                                str_c(lowest_level, str_remove(upper_level, \\'._\\'), sep = \\'_\\'),\\n                                lowest_level)) %>%\\n  select(-zotu) %>%\\n  summarise(n_reads = sum(n_reads),\\n            .by = where(is.character))\\n\\nsample_composition %>%\\n  left_join(predator_taxonomy,\\n            by = c(\\'predator_species_name\\' = \\'species\\')) %>%\\n  ggnested(aes(y = predator_species_name, x = n_reads, \\n               main_group = upper_level, sub_group = lowest_level),\\n           legend_labeling = \\'sub\\', legend_title = \\'Lowest Taxonomic\\\\nClassification\\',\\n           main_keys = TRUE, nested_aes = c(\"fill\"), \\n           gradient_type = \\'both\\') +\\n  geom_col(position = \\'fill\\') +\\n  scale_x_continuous(labels = scales::percent_format()) +\\n  guides(fill = guide_legend(ncol = 2)) + #ncol = 5\\n  facet_grid(order ~ ., scales = \\'free_y\\', space = \\'free_y\\', switch = \\'y\\') +\\n  labs(y = NULL, \\n       x = \\'Relative Number of Reads (%)\\') +\\n  theme_classic(base_size = 12) +\\n  theme(axis.title.x = element_markdown(),\\n        axis.title.y = element_markdown(),\\n        panel.background = element_rect(colour = \\'black\\'),\\n        legend.position = \\'right\\',\\n        legend.text = element_markdown(size = 4),\\n        legend.key = element_blank(),\\n        legend.key.size = unit(0.5, \"line\"),\\n        strip.text.y.left = element_text(angle = 0), \\n        strip.background = element_blank(),\\n        strip.placement = \"outside\")\\n'.\nR error message: \"Error in (function (expr, envir = parent.frame(), enclos = if (is.list(envir) ||  : \\n  object 'predator_gut_contents' not found\"",
          "traceback": [
            "\u001b[0;31m---------------------------------------------------------------------------\u001b[0m",
            "\u001b[0;31mRRuntimeError\u001b[0m                             Traceback (most recent call last)",
            "\u001b[0;32m/usr/local/lib/python3.11/dist-packages/rpy2/ipython/rmagic.py\u001b[0m in \u001b[0;36meval\u001b[0;34m(self, code)\u001b[0m\n\u001b[1;32m    406\u001b[0m                 \u001b[0mr_expr\u001b[0m \u001b[0;34m=\u001b[0m \u001b[0mri\u001b[0m\u001b[0;34m.\u001b[0m\u001b[0mparse\u001b[0m\u001b[0;34m(\u001b[0m\u001b[0mcode\u001b[0m\u001b[0;34m)\u001b[0m\u001b[0;34m\u001b[0m\u001b[0;34m\u001b[0m\u001b[0m\n\u001b[0;32m--> 407\u001b[0;31m                 value, visible = ri.evalr_expr_with_visible(\n\u001b[0m\u001b[1;32m    408\u001b[0m                     \u001b[0mr_expr\u001b[0m\u001b[0;34m\u001b[0m\u001b[0;34m\u001b[0m\u001b[0m\n",
            "\u001b[0;32m/usr/local/lib/python3.11/dist-packages/rpy2/rinterface.py\u001b[0m in \u001b[0;36mevalr_expr_with_visible\u001b[0;34m(expr, envir)\u001b[0m\n\u001b[1;32m    193\u001b[0m         \u001b[0;32mif\u001b[0m \u001b[0merror_occured\u001b[0m\u001b[0;34m[\u001b[0m\u001b[0;36m0\u001b[0m\u001b[0;34m]\u001b[0m\u001b[0;34m:\u001b[0m\u001b[0;34m\u001b[0m\u001b[0;34m\u001b[0m\u001b[0m\n\u001b[0;32m--> 194\u001b[0;31m             \u001b[0;32mraise\u001b[0m \u001b[0membedded\u001b[0m\u001b[0;34m.\u001b[0m\u001b[0mRRuntimeError\u001b[0m\u001b[0;34m(\u001b[0m\u001b[0m_rinterface\u001b[0m\u001b[0;34m.\u001b[0m\u001b[0m_geterrmessage\u001b[0m\u001b[0;34m(\u001b[0m\u001b[0;34m)\u001b[0m\u001b[0;34m)\u001b[0m\u001b[0;34m\u001b[0m\u001b[0;34m\u001b[0m\u001b[0m\n\u001b[0m\u001b[1;32m    195\u001b[0m         \u001b[0mres\u001b[0m \u001b[0;34m=\u001b[0m \u001b[0mconversion\u001b[0m\u001b[0;34m.\u001b[0m\u001b[0m_cdata_to_rinterface\u001b[0m\u001b[0;34m(\u001b[0m\u001b[0mr_res\u001b[0m\u001b[0;34m)\u001b[0m\u001b[0;34m\u001b[0m\u001b[0;34m\u001b[0m\u001b[0m\n",
            "\u001b[0;31mRRuntimeError\u001b[0m: Error in (function (expr, envir = parent.frame(), enclos = if (is.list(envir) ||  : \n  object 'predator_gut_contents' not found\n",
            "\nDuring handling of the above exception, another exception occurred:\n",
            "\u001b[0;31mRInterpreterError\u001b[0m                         Traceback (most recent call last)",
            "\u001b[0;32m<ipython-input-7-83cbb5a96847>\u001b[0m in \u001b[0;36m<cell line: 0>\u001b[0;34m()\u001b[0m\n\u001b[0;32m----> 1\u001b[0;31m \u001b[0mget_ipython\u001b[0m\u001b[0;34m(\u001b[0m\u001b[0;34m)\u001b[0m\u001b[0;34m.\u001b[0m\u001b[0mrun_cell_magic\u001b[0m\u001b[0;34m(\u001b[0m\u001b[0;34m'R'\u001b[0m\u001b[0;34m,\u001b[0m \u001b[0;34m''\u001b[0m\u001b[0;34m,\u001b[0m \u001b[0;34m'sample_composition <- predator_gut_contents %>%\\n  pivot_longer(cols = starts_with(\\'Zotu\\'),\\n               names_to = \\'zotu\\',\\n               values_to = \\'n_reads\\') %>%\\n  filter(n_reads > 0) %>%\\n  left_join(zotu_taxonomy,\\n            by = \\'zotu\\') %>%\\n  mutate(across(where(is.character), \\n                ~if_else(. == \\'LCA_dropped\\', NA_character_, .))) %>%\\n  \\n  #Skip genus & species for the sake of the legend\\n  mutate(lowest_level = case_when(#!is.na(species) ~ str_c(\\'s_\\', species),\\n                                  !is.na(genus) ~ str_c(\\'g_\\', genus, \\' sp.\\'),\\n                                  !is.na(family) ~ str_c(\\'f_\\', family),\\n                                  !is.na(order) ~ str_c(\\'o_\\', order),\\n                                  !is.na(class) ~ str_c(\\'c_\\', class),\\n                                  !is.na(phylum) ~ str_c(\\'p_\\', phylum),\\n                                  !is.na(kingdom) ~ str_c(\\'k_\\', kingdom),\\n                                  !is.na(domain) ~ str_c(\\'d_\\', domain),\\n                                  TRUE ~ \\'Unknown\\'),\\n         upper_level = case_when(phylum == \\'Chordata\\' & !taxid_rank %in% c(\\'domain\\', \\'kingdom\\', \\'phylum\\') ~ str_c(\\'c_\\', class),\\n                                 TRUE ~ str_c(\\'p_\\', phylum)),\\n         .after = species...\n\u001b[0m",
            "\u001b[0;32m/usr/local/lib/python3.11/dist-packages/google/colab/_shell.py\u001b[0m in \u001b[0;36mrun_cell_magic\u001b[0;34m(self, magic_name, line, cell)\u001b[0m\n\u001b[1;32m    356\u001b[0m     \u001b[0;32mif\u001b[0m \u001b[0mline\u001b[0m \u001b[0;32mand\u001b[0m \u001b[0;32mnot\u001b[0m \u001b[0mcell\u001b[0m\u001b[0;34m:\u001b[0m\u001b[0;34m\u001b[0m\u001b[0;34m\u001b[0m\u001b[0m\n\u001b[1;32m    357\u001b[0m       \u001b[0mcell\u001b[0m \u001b[0;34m=\u001b[0m \u001b[0;34m' '\u001b[0m\u001b[0;34m\u001b[0m\u001b[0;34m\u001b[0m\u001b[0m\n\u001b[0;32m--> 358\u001b[0;31m     \u001b[0;32mreturn\u001b[0m \u001b[0msuper\u001b[0m\u001b[0;34m(\u001b[0m\u001b[0;34m)\u001b[0m\u001b[0;34m.\u001b[0m\u001b[0mrun_cell_magic\u001b[0m\u001b[0;34m(\u001b[0m\u001b[0mmagic_name\u001b[0m\u001b[0;34m,\u001b[0m \u001b[0mline\u001b[0m\u001b[0;34m,\u001b[0m \u001b[0mcell\u001b[0m\u001b[0;34m)\u001b[0m\u001b[0;34m\u001b[0m\u001b[0;34m\u001b[0m\u001b[0m\n\u001b[0m\u001b[1;32m    359\u001b[0m \u001b[0;34m\u001b[0m\u001b[0m\n\u001b[1;32m    360\u001b[0m \u001b[0;34m\u001b[0m\u001b[0m\n",
            "\u001b[0;32m/usr/local/lib/python3.11/dist-packages/IPython/core/interactiveshell.py\u001b[0m in \u001b[0;36mrun_cell_magic\u001b[0;34m(self, magic_name, line, cell)\u001b[0m\n\u001b[1;32m   2471\u001b[0m             \u001b[0;32mwith\u001b[0m \u001b[0mself\u001b[0m\u001b[0;34m.\u001b[0m\u001b[0mbuiltin_trap\u001b[0m\u001b[0;34m:\u001b[0m\u001b[0;34m\u001b[0m\u001b[0;34m\u001b[0m\u001b[0m\n\u001b[1;32m   2472\u001b[0m                 \u001b[0margs\u001b[0m \u001b[0;34m=\u001b[0m \u001b[0;34m(\u001b[0m\u001b[0mmagic_arg_s\u001b[0m\u001b[0;34m,\u001b[0m \u001b[0mcell\u001b[0m\u001b[0;34m)\u001b[0m\u001b[0;34m\u001b[0m\u001b[0;34m\u001b[0m\u001b[0m\n\u001b[0;32m-> 2473\u001b[0;31m                 \u001b[0mresult\u001b[0m \u001b[0;34m=\u001b[0m \u001b[0mfn\u001b[0m\u001b[0;34m(\u001b[0m\u001b[0;34m*\u001b[0m\u001b[0margs\u001b[0m\u001b[0;34m,\u001b[0m \u001b[0;34m**\u001b[0m\u001b[0mkwargs\u001b[0m\u001b[0;34m)\u001b[0m\u001b[0;34m\u001b[0m\u001b[0;34m\u001b[0m\u001b[0m\n\u001b[0m\u001b[1;32m   2474\u001b[0m             \u001b[0;32mreturn\u001b[0m \u001b[0mresult\u001b[0m\u001b[0;34m\u001b[0m\u001b[0;34m\u001b[0m\u001b[0m\n\u001b[1;32m   2475\u001b[0m \u001b[0;34m\u001b[0m\u001b[0m\n",
            "\u001b[0;32m<decorator-gen-123>\u001b[0m in \u001b[0;36mR\u001b[0;34m(self, line, cell, local_ns)\u001b[0m\n",
            "\u001b[0;32m/usr/local/lib/python3.11/dist-packages/IPython/core/magic.py\u001b[0m in \u001b[0;36m<lambda>\u001b[0;34m(f, *a, **k)\u001b[0m\n\u001b[1;32m    185\u001b[0m     \u001b[0;31m# but it's overkill for just that one bit of state.\u001b[0m\u001b[0;34m\u001b[0m\u001b[0;34m\u001b[0m\u001b[0m\n\u001b[1;32m    186\u001b[0m     \u001b[0;32mdef\u001b[0m \u001b[0mmagic_deco\u001b[0m\u001b[0;34m(\u001b[0m\u001b[0marg\u001b[0m\u001b[0;34m)\u001b[0m\u001b[0;34m:\u001b[0m\u001b[0;34m\u001b[0m\u001b[0;34m\u001b[0m\u001b[0m\n\u001b[0;32m--> 187\u001b[0;31m         \u001b[0mcall\u001b[0m \u001b[0;34m=\u001b[0m \u001b[0;32mlambda\u001b[0m \u001b[0mf\u001b[0m\u001b[0;34m,\u001b[0m \u001b[0;34m*\u001b[0m\u001b[0ma\u001b[0m\u001b[0;34m,\u001b[0m \u001b[0;34m**\u001b[0m\u001b[0mk\u001b[0m\u001b[0;34m:\u001b[0m \u001b[0mf\u001b[0m\u001b[0;34m(\u001b[0m\u001b[0;34m*\u001b[0m\u001b[0ma\u001b[0m\u001b[0;34m,\u001b[0m \u001b[0;34m**\u001b[0m\u001b[0mk\u001b[0m\u001b[0;34m)\u001b[0m\u001b[0;34m\u001b[0m\u001b[0;34m\u001b[0m\u001b[0m\n\u001b[0m\u001b[1;32m    188\u001b[0m \u001b[0;34m\u001b[0m\u001b[0m\n\u001b[1;32m    189\u001b[0m         \u001b[0;32mif\u001b[0m \u001b[0mcallable\u001b[0m\u001b[0;34m(\u001b[0m\u001b[0marg\u001b[0m\u001b[0;34m)\u001b[0m\u001b[0;34m:\u001b[0m\u001b[0;34m\u001b[0m\u001b[0;34m\u001b[0m\u001b[0m\n",
            "\u001b[0;32m/usr/local/lib/python3.11/dist-packages/rpy2/ipython/rmagic.py\u001b[0m in \u001b[0;36mR\u001b[0;34m(self, line, cell, local_ns)\u001b[0m\n\u001b[1;32m    982\u001b[0m             \u001b[0;32mif\u001b[0m \u001b[0;32mnot\u001b[0m \u001b[0me\u001b[0m\u001b[0;34m.\u001b[0m\u001b[0mstdout\u001b[0m\u001b[0;34m.\u001b[0m\u001b[0mendswith\u001b[0m\u001b[0;34m(\u001b[0m\u001b[0me\u001b[0m\u001b[0;34m.\u001b[0m\u001b[0merr\u001b[0m\u001b[0;34m)\u001b[0m\u001b[0;34m:\u001b[0m\u001b[0;34m\u001b[0m\u001b[0;34m\u001b[0m\u001b[0m\n\u001b[1;32m    983\u001b[0m                 \u001b[0mprint\u001b[0m\u001b[0;34m(\u001b[0m\u001b[0me\u001b[0m\u001b[0;34m.\u001b[0m\u001b[0merr\u001b[0m\u001b[0;34m)\u001b[0m\u001b[0;34m\u001b[0m\u001b[0;34m\u001b[0m\u001b[0m\n\u001b[0;32m--> 984\u001b[0;31m             \u001b[0;32mraise\u001b[0m \u001b[0me\u001b[0m\u001b[0;34m\u001b[0m\u001b[0;34m\u001b[0m\u001b[0m\n\u001b[0m\u001b[1;32m    985\u001b[0m         \u001b[0;32mfinally\u001b[0m\u001b[0;34m:\u001b[0m\u001b[0;34m\u001b[0m\u001b[0;34m\u001b[0m\u001b[0m\n\u001b[1;32m    986\u001b[0m             \u001b[0;32mif\u001b[0m \u001b[0mself\u001b[0m\u001b[0;34m.\u001b[0m\u001b[0mdevice\u001b[0m \u001b[0;32min\u001b[0m \u001b[0mDEVICES_STATIC\u001b[0m\u001b[0;34m:\u001b[0m\u001b[0;34m\u001b[0m\u001b[0;34m\u001b[0m\u001b[0m\n",
            "\u001b[0;32m/usr/local/lib/python3.11/dist-packages/rpy2/ipython/rmagic.py\u001b[0m in \u001b[0;36mR\u001b[0;34m(self, line, cell, local_ns)\u001b[0m\n\u001b[1;32m    947\u001b[0m                     \u001b[0mreturn_output\u001b[0m \u001b[0;34m=\u001b[0m \u001b[0;32mFalse\u001b[0m\u001b[0;34m\u001b[0m\u001b[0;34m\u001b[0m\u001b[0m\n\u001b[1;32m    948\u001b[0m             \u001b[0;32melse\u001b[0m\u001b[0;34m:\u001b[0m\u001b[0;34m\u001b[0m\u001b[0;34m\u001b[0m\u001b[0m\n\u001b[0;32m--> 949\u001b[0;31m                 \u001b[0mtext_result\u001b[0m\u001b[0;34m,\u001b[0m \u001b[0mresult\u001b[0m\u001b[0;34m,\u001b[0m \u001b[0mvisible\u001b[0m \u001b[0;34m=\u001b[0m \u001b[0mself\u001b[0m\u001b[0;34m.\u001b[0m\u001b[0meval\u001b[0m\u001b[0;34m(\u001b[0m\u001b[0mcode\u001b[0m\u001b[0;34m)\u001b[0m\u001b[0;34m\u001b[0m\u001b[0;34m\u001b[0m\u001b[0m\n\u001b[0m\u001b[1;32m    950\u001b[0m                 \u001b[0mtext_output\u001b[0m \u001b[0;34m+=\u001b[0m \u001b[0mtext_result\u001b[0m\u001b[0;34m\u001b[0m\u001b[0;34m\u001b[0m\u001b[0m\n\u001b[1;32m    951\u001b[0m                 \u001b[0;32mif\u001b[0m \u001b[0mvisible\u001b[0m\u001b[0;34m:\u001b[0m\u001b[0;34m\u001b[0m\u001b[0;34m\u001b[0m\u001b[0m\n",
            "\u001b[0;32m/usr/local/lib/python3.11/dist-packages/rpy2/ipython/rmagic.py\u001b[0m in \u001b[0;36meval\u001b[0;34m(self, code)\u001b[0m\n\u001b[1;32m    411\u001b[0m                 \u001b[0;31m# Otherwise next return seems to have copy of error.\u001b[0m\u001b[0;34m\u001b[0m\u001b[0;34m\u001b[0m\u001b[0m\n\u001b[1;32m    412\u001b[0m                 \u001b[0mwarning_or_other_msg\u001b[0m \u001b[0;34m=\u001b[0m \u001b[0mself\u001b[0m\u001b[0;34m.\u001b[0m\u001b[0mflush\u001b[0m\u001b[0;34m(\u001b[0m\u001b[0;34m)\u001b[0m\u001b[0;34m\u001b[0m\u001b[0;34m\u001b[0m\u001b[0m\n\u001b[0;32m--> 413\u001b[0;31m                 raise RInterpreterError(code, str(exception),\n\u001b[0m\u001b[1;32m    414\u001b[0m                                         warning_or_other_msg)\n\u001b[1;32m    415\u001b[0m             \u001b[0;32mfinally\u001b[0m\u001b[0;34m:\u001b[0m\u001b[0;34m\u001b[0m\u001b[0;34m\u001b[0m\u001b[0m\n",
            "\u001b[0;31mRInterpreterError\u001b[0m: Failed to parse and evaluate line 'sample_composition <- predator_gut_contents %>%\\n  pivot_longer(cols = starts_with(\\'Zotu\\'),\\n               names_to = \\'zotu\\',\\n               values_to = \\'n_reads\\') %>%\\n  filter(n_reads > 0) %>%\\n  left_join(zotu_taxonomy,\\n            by = \\'zotu\\') %>%\\n  mutate(across(where(is.character), \\n                ~if_else(. == \\'LCA_dropped\\', NA_character_, .))) %>%\\n  \\n  #Skip genus & species for the sake of the legend\\n  mutate(lowest_level = case_when(#!is.na(species) ~ str_c(\\'s_\\', species),\\n                                  !is.na(genus) ~ str_c(\\'g_\\', genus, \\' sp.\\'),\\n                                  !is.na(family) ~ str_c(\\'f_\\', family),\\n                                  !is.na(order) ~ str_c(\\'o_\\', order),\\n                                  !is.na(class) ~ str_c(\\'c_\\', class),\\n                                  !is.na(phylum) ~ str_c(\\'p_\\', phylum),\\n                                  !is.na(kingdom) ~ str_c(\\'k_\\', kingdom),\\n                                  !is.na(domain) ~ str_c(\\'d_\\', domain),\\n                                  TRUE ~ \\'Unknown\\'),\\n         upper_level = case_when(phylum == \\'Chordata\\' & !taxid_rank %in% c(\\'domain\\', \\'kingdom\\', \\'phylum\\') ~ str_c(\\'c_\\', class),\\n                                 TRUE ~ str_c(\\'p_\\', phylum)),\\n         .after = species) %>%\\n  \\n  summarise(n_reads = sum(n_reads),\\n            zotu = unique(zotu) %>% str_c(collapse = \\'; \\'...\nR error message: \"Error in (function (expr, envir = parent.frame(), enclos = if (is.list(envir) ||  : \\n  object 'predator_gut_contents' not found\""
          ]
        }
      ]
    },
    {
      "cell_type": "markdown",
      "source": [
        "---\n",
        "## Using iNEXT to determine alpha diversity\n",
        "\n",
        "\n",
        "1.   Account for sampling depth\n",
        "2.   Modern improvements to rarifaction ##TODO - In progress\n",
        "\n"
      ],
      "metadata": {
        "id": "Dqn2-nCq1L31"
      },
      "id": "Dqn2-nCq1L31"
    },
    {
      "cell_type": "code",
      "source": [
        "%%R\n",
        "endpoint_reads <- predator_gut_contents %>%\n",
        "  filter(n() >= min_samples_predator,\n",
        "         .by = predator_species_name) %>%\n",
        "  pivot_longer(cols = starts_with('Zotu'),\n",
        "               names_to = 'zotu',\n",
        "               values_to = 'n_reads') %>%\n",
        "  summarise(n_reads = sum(n_reads),\n",
        "            .by = sample_id) %>%\n",
        "  summarise(mean_reads = mean(n_reads),\n",
        "            median_reads = median(n_reads)) %>%\n",
        "  pull(mean_reads) %>%\n",
        "  floor()\n",
        "\n",
        "if(!file.exists(str_c(here::here(),\n",
        "                      'intermediate_files/inext_out.rds',\n",
        "                      sep = '/'))){\n",
        "  inext_out <- predator_gut_contents %>%\n",
        "\n",
        "    filter(n() >= min_samples_predator,\n",
        "           .by = predator_species_name) %>%\n",
        "\n",
        "    nest(data = -c(predator_species_name)) %>%\n",
        "    sample_n(inext_predator_subsample) %>%\n",
        "    unnest(data) %>%\n",
        "\n",
        "    select(-pool) %>%\n",
        "    split(., .$predator_species_name) %>%\n",
        "    map(~select(.x, -predator_species_name) %>%\n",
        "          column_to_rownames('sample_id') %>%\n",
        "          select(where(~sum(.) > 0)) %>%\n",
        "          t) %>%\n",
        "    iNEXT(q = c(0),\n",
        "          datatype = \"abundance\",\n",
        "          nboot = inext_bootstraps,\n",
        "          endpoint = endpoint_reads)\n",
        "}\n",
        "\n",
        "if(nzchar(Sys.getenv(\"COLAB\")) &\n",
        "   file.exists(str_c(here::here(),\n",
        "                                  'intermediate_files/inext_out.rds',\n",
        "                                  sep = '/'))){\n",
        "  inext_out.rds <- read_rds(str_c(here::here(),\n",
        "                                  'intermediate_files/inext_out.rds',\n",
        "                                  sep = '/'))\n",
        "}"
      ],
      "metadata": {
        "id": "WCD4i0fC1MRY"
      },
      "id": "WCD4i0fC1MRY",
      "execution_count": 8,
      "outputs": []
    },
    {
      "cell_type": "code",
      "source": [
        "%%R\n",
        "ggiNEXT(inext_out,\n",
        "        type = 1,\n",
        "        se = T,\n",
        "        facet.var = \"Assemblage\")"
      ],
      "metadata": {
        "colab": {
          "base_uri": "https://localhost:8080/",
          "height": 497
        },
        "id": "1GrFECj81lmk",
        "outputId": "c5a6ad18-b9a3-45f5-8f40-cd86de3063a5"
      },
      "id": "1GrFECj81lmk",
      "execution_count": 9,
      "outputs": [
        {
          "output_type": "display_data",
          "data": {
            "image/png": "[encoded data removed]",
            "text/plain": [
              "<IPython.core.display.Image object>"
            ]
          },
          "metadata": {}
        }
      ]
    },
    {
      "cell_type": "markdown",
      "source": [
        "---\n",
        "## Phylogenetically Informed Alpha Diversity"
      ],
      "metadata": {
        "id": "1dr4GqWT1isR"
      },
      "id": "1dr4GqWT1isR"
    },
    {
      "cell_type": "markdown",
      "source": [
        "### Build the Tree"
      ],
      "metadata": {
        "id": "Xo8qvFME13gN"
      },
      "id": "Xo8qvFME13gN"
    },
    {
      "cell_type": "code",
      "source": [
        "%%R\n",
        "if(!file.exists(str_c(here::here(),\n",
        "                      'intermediate_files/zotu_tree.rds',\n",
        "                      sep = '/'))){\n",
        "  zotu_tree <- DNAMultipleAlignment(zotu_sequences) %>%\n",
        "    msa::msaConvert(\"phangorn::phyDat\") %>%\n",
        "    fasta2tree(n_bootstraps = tree_bootstraps,\n",
        "               threshold_bootstraps = floor(tree_bootstraps / 2),\n",
        "               model_ml = tree_evolutionary_model,\n",
        "               n_cpu = if_else(nzchar(Sys.getenv(\"COLAB\")), 1, parallel::detectCores()))\n",
        "}\n",
        "\n",
        "if(nzchar(Sys.getenv(\"COLAB\")) &\n",
        "   file.exists(str_c(here::here(),\n",
        "                              'intermediate_files/zotu_tree.rds',\n",
        "                              sep = '/'))){\n",
        "  zotu_tree <- read_rds(str_c(here::here(),\n",
        "                              'intermediate_files/zotu_tree.rds',\n",
        "                              sep = '/'))\n",
        "}"
      ],
      "metadata": {
        "colab": {
          "base_uri": "https://localhost:8080/",
          "height": 1000
        },
        "id": "Fse9dk9-1jKA",
        "outputId": "0a9770fb-25dc-499d-ea75-bd2ee0432bcd"
      },
      "id": "Fse9dk9-1jKA",
      "execution_count": 11,
      "outputs": [
        {
          "output_type": "stream",
          "name": "stdout",
          "text": [
            "Model        df  logLik   AIC      BIC\n",
            "          JC 915 -45605.89 93041.77 96469.55 \n",
            "        JC+I 916 -44480.05 90792.11 94223.63 \n",
            "     JC+G(4) 916 -39157.45 80146.9 83578.43 \n",
            "   JC+G(4)+I 917 -39110.1 80054.2 83489.47 \n",
            "[1] \"The best version of the  JC  evolutionary model is: JC+G(4)+I\"\n",
            "Optimized evolutionary model parameters:\n",
            " optBf = TRUE \n",
            " optQ = TRUE \n",
            " optInv = TRUE \n",
            " optGamma = TRUE \n",
            "optimize edge weights:  -35935.67 --> -34950.21 \n",
            "optimize edge weights:  -34950.21 --> -34950.17 \n",
            "optimize topology:  -34950.17 --> -34833.83  NNI moves:  54 \n",
            "optimize edge weights:  -34833.83 --> -34833.81 \n",
            "optimize topology:  -34833.81 --> -34833.8  NNI moves:  0 \n",
            "optimize edge weights:  -34833.8 --> -34833.8 \n",
            "optimize edge weights:  -34833.8 --> -34833.8 \n",
            "optimize edge weights:  -39070.3 --> -38295.03 \n",
            "optimize edge weights:  -38295.03 --> -38294.81 \n",
            "optimize topology:  -38294.81 --> -38140.37  NNI moves:  59 \n",
            "optimize edge weights:  -38140.37 --> -38140.32 \n",
            "optimize topology:  -38140.32 --> -38136.35  NNI moves:  5 \n",
            "optimize edge weights:  -38136.35 --> -38136.35 \n",
            "optimize topology:  -38136.35 --> -38136.35  NNI moves:  0 \n",
            "optimize edge weights:  -37179.35 --> -36308.04 \n",
            "optimize edge weights:  -36308.04 --> -36307.9 \n",
            "optimize topology:  -36307.9 --> -36164.93  NNI moves:  57 \n",
            "optimize edge weights:  -36164.93 --> -36164.93 \n",
            "optimize topology:  -36164.93 --> -36145.9  NNI moves:  6 \n",
            "optimize edge weights:  -36145.9 --> -36145.9 \n",
            "optimize topology:  -36145.9 --> -36145.9  NNI moves:  0 \n",
            "optimize edge weights:  -35967.56 --> -35211.03 \n",
            "optimize edge weights:  -35211.03 --> -35209.68 \n",
            "optimize topology:  -35209.68 --> -35064.36  NNI moves:  47 \n",
            "optimize edge weights:  -35064.36 --> -35064.35 \n",
            "optimize topology:  -35064.35 --> -35057.81  NNI moves:  4 \n",
            "optimize edge weights:  -35057.81 --> -35057.81 \n",
            "optimize topology:  -35057.81 --> -35057.81  NNI moves:  0 \n",
            "optimize edge weights:  -39130.41 --> -38420.37 \n",
            "optimize edge weights:  -38420.37 --> -38418.81 \n",
            "optimize topology:  -38418.81 --> -38199.04  NNI moves:  59 \n",
            "optimize edge weights:  -38199.04 --> -38199.02 \n",
            "optimize topology:  -38199.02 --> -38181.96  NNI moves:  7 \n",
            "optimize edge weights:  -38181.96 --> -38181.96 \n",
            "optimize topology:  -38181.96 --> -38181.96  NNI moves:  0 \n",
            "Outgroup not found in the tree. Returning the original tree.\n"
          ]
        },
        {
          "output_type": "display_data",
          "data": {
            "image/png": "[encoded data removed]",
            "text/plain": [
              "<IPython.core.display.Image object>"
            ]
          },
          "metadata": {}
        }
      ]
    },
    {
      "cell_type": "code",
      "source": [
        "%%R\n",
        "#Plot tree TODO\n",
        "zotu_tree"
      ],
      "metadata": {
        "colab": {
          "base_uri": "https://localhost:8080/"
        },
        "id": "8kXd4d2TfAbe",
        "outputId": "c3586045-d7a5-4dfc-cf81-b3795a2e1afd"
      },
      "id": "8kXd4d2TfAbe",
      "execution_count": 12,
      "outputs": [
        {
          "output_type": "stream",
          "name": "stdout",
          "text": [
            "$model_ml\n",
            "model: JC+G(4)+I \n",
            "loglikelihood: -39110.1 \n",
            "unconstrained loglikelihood: -1707.23 \n",
            "Proportion of invariant sites: 0.1066202 \n",
            "Model of rate heterogeneity: Discrete gamma model\n",
            "Number of rate categories: 4 \n",
            "Shape parameter: 0.6758745 \n",
            "       Rate Proportion\n",
            "1 0.0000000  0.1066202\n",
            "2 0.0772844  0.2233449\n",
            "3 0.3939211  0.2233449\n",
            "4 1.0248602  0.2233449\n",
            "5 2.9813136  0.2233449\n",
            "\n",
            "Rate matrix:\n",
            "  a c g t\n",
            "a 0 1 1 1\n",
            "c 1 0 1 1\n",
            "g 1 1 0 1\n",
            "t 1 1 1 0\n",
            "\n",
            "Base frequencies:  \n",
            "   a    c    g    t \n",
            "0.25 0.25 0.25 0.25 \n",
            "\n",
            "$best_model\n",
            "[1] \"JC+G(4)+I\"\n",
            "\n",
            "$model_optim.pml\n",
            "model: JC+G(4)+I \n",
            "loglikelihood: -36760.18 \n",
            "unconstrained loglikelihood: -1707.23 \n",
            "Proportion of invariant sites: 0.1085902 \n",
            "Model of rate heterogeneity: Discrete gamma model\n",
            "Number of rate categories: 4 \n",
            "Shape parameter: 0.5891985 \n",
            "        Rate Proportion\n",
            "1 0.00000000  0.1085902\n",
            "2 0.05708725  0.2228524\n",
            "3 0.34351717  0.2228524\n",
            "4 0.98238391  0.2228524\n",
            "5 3.10428579  0.2228524\n",
            "\n",
            "Rate matrix:\n",
            "         a        c        g        t\n",
            "a 0.000000 1.138614 4.973064 2.074192\n",
            "c 1.138614 0.000000 1.266572 7.024053\n",
            "g 4.973064 1.266572 0.000000 1.000000\n",
            "t 2.074192 7.024053 1.000000 0.000000\n",
            "\n",
            "Base frequencies:  \n",
            "        a         c         g         t \n",
            "0.2483034 0.2446491 0.1609625 0.3460850 \n",
            "\n",
            "$tree\n",
            "\n",
            "Phylogenetic tree with 459 tips and 457 internal nodes.\n",
            "\n",
            "Tip labels:\n",
            "  Zotu1, Zotu2, Zotu3, Zotu4, Zotu5, Zotu6, ...\n",
            "Node labels:\n",
            "  1, 0.4, 1, 0.8, NA, 0.2, ...\n",
            "\n",
            "Unrooted; includes branch length(s).\n",
            "\n",
            "$bootstraps_sig\n",
            "  [1] \"100\" \"40\"  \"100\" \"80\"  \"\"    \"20\"  \"\"    \"\"    \"\"    \"60\"  \"80\"  \"100\"\n",
            " [13] \"\"    \"40\"  \"80\"  \"100\" \"80\"  \"60\"  \"40\"  \"60\"  \"20\"  \"100\" \"\"    \"\"   \n",
            " [25] \"\"    \"\"    \"\"    \"\"    \"\"    \"20\"  \"100\" \"60\"  \"\"    \"\"    \"60\"  \"\"   \n",
            " [37] \"20\"  \"20\"  \"100\" \"40\"  \"\"    \"80\"  \"\"    \"40\"  \"100\" \"100\" \"20\"  \"20\" \n",
            " [49] \"\"    \"60\"  \"80\"  \"100\" \"60\"  \"\"    \"\"    \"\"    \"\"    \"\"    \"\"    \"\"   \n",
            " [61] \"\"    \"\"    \"\"    \"\"    \"\"    \"\"    \"40\"  \"40\"  \"20\"  \"\"    \"\"    \"\"   \n",
            " [73] \"\"    \"100\" \"80\"  \"\"    \"\"    \"100\" \"\"    \"\"    \"100\" \"40\"  \"80\"  \"60\" \n",
            " [85] \"100\" \"80\"  \"80\"  \"20\"  \"\"    \"40\"  \"\"    \"\"    \"60\"  \"100\" \"80\"  \"20\" \n",
            " [97] \"20\"  \"80\"  \"80\"  \"80\"  \"100\" \"\"    \"\"    \"\"    \"\"    \"100\" \"\"    \"\"   \n",
            "[109] \"\"    \"\"    \"20\"  \"40\"  \"100\" \"\"    \"\"    \"\"    \"\"    \"100\" \"\"    \"\"   \n",
            "[121] \"100\" \"100\" \"40\"  \"40\"  \"60\"  \"80\"  \"100\" \"100\" \"60\"  \"60\"  \"100\" \"100\"\n",
            "[133] \"60\"  \"\"    \"80\"  \"100\" \"40\"  \"\"    \"60\"  \"20\"  \"60\"  \"\"    \"\"    \"\"   \n",
            "[145] \"20\"  \"100\" \"\"    \"20\"  \"40\"  \"\"    \"20\"  \"60\"  \"40\"  \"60\"  \"100\" \"20\" \n",
            "[157] \"100\" \"60\"  \"\"    \"\"    \"80\"  \"40\"  \"\"    \"\"    \"\"    \"\"    \"100\" \"\"   \n",
            "[169] \"\"    \"\"    \"\"    \"60\"  \"80\"  \"20\"  \"20\"  \"100\" \"20\"  \"\"    \"\"    \"\"   \n",
            "[181] \"\"    \"80\"  \"\"    \"\"    \"100\" \"60\"  \"80\"  \"\"    \"80\"  \"100\" \"40\"  \"\"   \n",
            "[193] \"\"    \"100\" \"\"    \"\"    \"\"    \"100\" \"80\"  \"80\"  \"100\" \"\"    \"100\" \"40\" \n",
            "[205] \"40\"  \"20\"  \"20\"  \"60\"  \"40\"  \"100\" \"\"    \"60\"  \"100\" \"\"    \"\"    \"\"   \n",
            "[217] \"\"    \"\"    \"\"    \"40\"  \"20\"  \"\"    \"80\"  \"40\"  \"80\"  \"100\" \"60\"  \"40\" \n",
            "[229] \"20\"  \"\"    \"\"    \"40\"  \"\"    \"\"    \"\"    \"\"    \"60\"  \"60\"  \"\"    \"\"   \n",
            "[241] \"\"    \"\"    \"\"    \"40\"  \"100\" \"\"    \"100\" \"\"    \"100\" \"20\"  \"\"    \"\"   \n",
            "[253] \"\"    \"40\"  \"\"    \"\"    \"\"    \"\"    \"20\"  \"20\"  \"100\" \"\"    \"60\"  \"80\" \n",
            "[265] \"60\"  \"100\" \"80\"  \"\"    \"\"    \"40\"  \"100\" \"40\"  \"\"    \"\"    \"80\"  \"60\" \n",
            "[277] \"100\" \"100\" \"60\"  \"100\" \"20\"  \"40\"  \"80\"  \"\"    \"\"    \"\"    \"80\"  \"20\" \n",
            "[289] \"100\" \"40\"  \"\"    \"80\"  \"100\" \"80\"  \"100\" \"40\"  \"100\" \"60\"  \"40\"  \"100\"\n",
            "[301] \"100\" \"\"    \"\"    \"\"    \"40\"  \"100\" \"\"    \"20\"  \"\"    \"\"    \"100\" \"\"   \n",
            "[313] \"\"    \"\"    \"20\"  \"100\" \"\"    \"80\"  \"60\"  \"100\" \"80\"  \"100\" \"\"    \"100\"\n",
            "[325] \"20\"  \"\"    \"100\" \"20\"  \"80\"  \"60\"  \"\"    \"100\" \"20\"  \"80\"  \"100\" \"100\"\n",
            "[337] \"100\" \"20\"  \"40\"  \"100\" \"20\"  \"20\"  \"100\" \"40\"  \"100\" \"\"    \"\"    \"\"   \n",
            "[349] \"\"    \"\"    \"20\"  \"100\" \"\"    \"\"    \"\"    \"\"    \"\"    \"\"    \"40\"  \"40\" \n",
            "[361] \"100\" \"\"    \"100\" \"80\"  \"100\" \"80\"  \"\"    \"100\" \"\"    \"\"    \"\"    \"\"   \n",
            "[373] \"\"    \"20\"  \"100\" \"\"    \"100\" \"\"    \"40\"  \"100\" \"20\"  \"40\"  \"100\" \"\"   \n",
            "[385] \"\"    \"\"    \"\"    \"100\" \"20\"  \"40\"  \"\"    \"\"    \"\"    \"\"    \"100\" \"40\" \n",
            "[397] \"20\"  \"100\" \"\"    \"\"    \"\"    \"\"    \"40\"  \"\"    \"\"    \"\"    \"100\" \"100\"\n",
            "[409] \"100\" \"60\"  \"20\"  \"60\"  \"60\"  \"\"    \"80\"  \"80\"  \"100\" \"\"    \"80\"  \"60\" \n",
            "[421] \"40\"  \"100\" \"60\"  \"100\" \"100\" \"80\"  \"60\"  \"100\" \"\"    \"20\"  \"\"    \"\"   \n",
            "[433] \"100\" \"\"    \"40\"  \"40\"  \"40\"  \"\"    \"\"    \"\"    \"\"    \"\"    \"20\"  \"60\" \n",
            "[445] \"100\" \"\"    \"60\"  \"60\"  \"80\"  \"60\"  \"20\"  \"80\"  \"60\"  \"100\" \"100\" \"\"   \n",
            "[457] \"\"   \n",
            "\n"
          ]
        }
      ]
    },
    {
      "cell_type": "markdown",
      "source": [
        "---\n",
        "### Phylogenetic Diversity"
      ],
      "metadata": {
        "id": "zOOkdTjL1x8C"
      },
      "id": "zOOkdTjL1x8C"
    },
    {
      "cell_type": "code",
      "source": [
        "%%R\n",
        "abundance_phylogeny <- match.phylo.comm(midpoint(zotu_tree$tree),\n",
        "                                        select(predator_gut_contents,\n",
        "                                               sample_id, starts_with('Zotu')) %>%\n",
        "                                          column_to_rownames('sample_id'))\n",
        "\n",
        "faiths_diversity <- pd(abundance_phylogeny$comm,\n",
        "                       abundance_phylogeny$phy,\n",
        "                       include.root = TRUE) %>%\n",
        "  as_tibble(rownames = 'sample_id')\n",
        "\n",
        "sample_pd <- predator_gut_contents %>%\n",
        "  select(-starts_with('Zotu')) %>%\n",
        "  mutate(phylogenetic_distance = mpd(abundance_phylogeny$comm,\n",
        "                                     cophenetic.phylo(abundance_phylogeny$phy),\n",
        "                                     abundance.weighted = FALSE)) %>%\n",
        "  left_join(faiths_diversity,\n",
        "            by = 'sample_id')"
      ],
      "metadata": {
        "id": "zkS5W3o21y4I"
      },
      "id": "zkS5W3o21y4I",
      "execution_count": 13,
      "outputs": []
    },
    {
      "cell_type": "code",
      "source": [
        "%%R\n",
        "rename_metrics <- as_labeller(c(\"PD\" = \"Faith's Diversity\",\n",
        "                                \"phylogenetic_distance\" = \"Phylogenetic Distance\"))\n",
        "sample_pd %>%\n",
        "  select(-SR) %>%\n",
        "  left_join(predator_taxonomy,\n",
        "            by = c('predator_species_name' = 'species')) %>%\n",
        "  pivot_longer(cols = c('phylogenetic_distance', 'PD'),\n",
        "               names_to = 'metric',\n",
        "               values_to = 'value') %>%\n",
        "  filter(!is.na(value)) %>%\n",
        "  ggplot(aes(y = predator_species_name,\n",
        "             x = value)) +\n",
        "  stat_summary(fun.data = mean_se) +\n",
        "  facet_grid(class + order ~ metric,\n",
        "             scales = 'free',\n",
        "             space = 'free_y',\n",
        "             switch = 'both',\n",
        "             labeller = labeller(metric = rename_metrics)) +\n",
        "  labs(x = NULL,\n",
        "       y = 'Predator Species') +\n",
        "  theme_classic() +\n",
        "  theme(strip.background = element_blank(),\n",
        "        strip.text.y.left = element_text(angle = 0),\n",
        "        strip.placement = 'outside',\n",
        "        panel.background = element_rect(colour = 'black'),\n",
        "        axis.text.y = element_text(face = 'italic'))"
      ],
      "metadata": {
        "colab": {
          "base_uri": "https://localhost:8080/",
          "height": 497
        },
        "id": "KrhNSHTE2BTD",
        "outputId": "4f1c9e6f-cb51-4c5d-9a9c-41cd0b3d5027"
      },
      "id": "KrhNSHTE2BTD",
      "execution_count": 15,
      "outputs": [
        {
          "output_type": "display_data",
          "data": {
            "image/png": "[encoded data removed]",
            "text/plain": [
              "<IPython.core.display.Image object>"
            ]
          },
          "metadata": {}
        }
      ]
    },
    {
      "cell_type": "markdown",
      "source": [
        "---\n",
        "## Hierarchical Alpha Diversity - without Phylogenetic Information"
      ],
      "metadata": {
        "id": "7cTCJPGP2D0A"
      },
      "id": "7cTCJPGP2D0A"
    },
    {
      "cell_type": "code",
      "source": [
        "%%R\n",
        "sampling_hierarchy <- predator_gut_contents %>%\n",
        "  select(-starts_with('Zotu')) %>%\n",
        "  mutate(trophic_level = \"predator\",\n",
        "         stomach_id = str_extract(sample_id, \"\\\\d+\")) %>%\n",
        "  distinct(trophic_level, predator_species_name,\n",
        "           stomach_id, pcr_id = sample_id) %>%\n",
        "  t() %>%\n",
        "  as.matrix()\n",
        "\n",
        "idip_abundance <- select(predator_gut_contents,\n",
        "       sample_id, starts_with('Zotu')) %>%\n",
        "  column_to_rownames('sample_id') %>%\n",
        "  t()\n",
        "\n",
        "\n",
        "IDIP(abun = idip_abundance,\n",
        "     struc = sampling_hierarchy)"
      ],
      "metadata": {
        "colab": {
          "base_uri": "https://localhost:8080/"
        },
        "id": "eoRUiqz22HUN",
        "outputId": "7714ef27-5f92-470c-e001-f4b341b54990"
      },
      "id": "eoRUiqz22HUN",
      "execution_count": 16,
      "outputs": [
        {
          "output_type": "stream",
          "name": "stdout",
          "text": [
            "                        [,1]\n",
            "D_gamma           60.9665333\n",
            "D_alpha.3         10.9154207\n",
            "D_alpha.2          2.5586263\n",
            "D_alpha.1          1.7358800\n",
            "D_beta.3           5.5853581\n",
            "D_beta.2           4.2661253\n",
            "D_beta.1           1.4739650\n",
            "Proportion.3       0.4833493\n",
            "Proportion.2       0.4076379\n",
            "Proportion.1       0.1090128\n",
            "Differentiation.3  0.6361152\n",
            "Differentiation.2  0.8183638\n",
            "Differentiation.1  0.7640737\n"
          ]
        }
      ]
    },
    {
      "cell_type": "markdown",
      "source": [
        "---\n",
        "## Hierarchical Alpha Diversity - with Phylogenetic Information"
      ],
      "metadata": {
        "id": "nX8Lbgw_2K2q"
      },
      "id": "nX8Lbgw_2K2q"
    },
    {
      "cell_type": "code",
      "source": [
        "%%R\n",
        "zotu_tree$tree$node.label <- str_c('node', 1:length(zotu_tree$tree$node.label))\n",
        "\n",
        "iDIP.phylo(abun = idip_abundance,\n",
        "           struc = sampling_hierarchy,\n",
        "           tree = write.tree(zotu_tree$tree))"
      ],
      "metadata": {
        "colab": {
          "base_uri": "https://localhost:8080/"
        },
        "id": "fMlIz39L2KmK",
        "outputId": "ebae1c06-94f6-49e1-e58c-89581b6a784a"
      },
      "id": "fMlIz39L2KmK",
      "execution_count": 17,
      "outputs": [
        {
          "output_type": "stream",
          "name": "stdout",
          "text": [
            "                 [,1]\n",
            "Faith's PD 74.7167405\n",
            "mean_T      0.9691178\n",
            "PD_gamma    3.7378977\n",
            "PD_alpha.3  2.2908510\n",
            "PD_alpha.2  1.3700167\n",
            "PD_alpha.1  1.1625929\n",
            "PD_beta.3   1.6316634\n",
            "PD_beta.2   1.6721337\n",
            "PD_beta.1   1.1784148\n",
            "PD_prop.3   0.4192245\n",
            "PD_prop.2   0.4402033\n",
            "PD_prop.1   0.1405722\n",
            "PD_diff.3   0.1810553\n",
            "PD_diff.2   0.2900114\n",
            "PD_diff.1   0.3233306\n"
          ]
        }
      ]
    },
    {
      "cell_type": "markdown",
      "source": [
        "---\n",
        "## Save Results\n"
      ],
      "metadata": {
        "id": "_vz6XDAu2TlR"
      },
      "id": "_vz6XDAu2TlR"
    },
    {
      "cell_type": "code",
      "source": [
        "%%R\n",
        "storage_dir <- if_else(nzchar(Sys.getenv(\"COLAB\")), drive_lib, here::here())\n",
        "dir.create(str_c(storage_dir, 'intermediate_files', sep = '/'), showWarnings = FALSE)\n",
        "\n",
        "write_rds(inext_out,\n",
        "          str_c(storage_dir,\n",
        "                'intermediate_files/inext_out.rds',\n",
        "                sep = '/'))\n",
        "\n",
        "write_rds(zotu_tree,\n",
        "          str_c(storage_dir,\n",
        "                'intermediate_files/zotu_tree.rds',\n",
        "                sep = '/'))\n",
        "\n",
        "write_csv(sample_pd,\n",
        "          str_c(storage_dir,\n",
        "                'intermediate_files/phylogenetic_alpha_diversity.csv',\n",
        "                sep = '/'))"
      ],
      "metadata": {
        "colab": {
          "base_uri": "https://localhost:8080/",
          "height": 605
        },
        "id": "AQqTWoNU2WZj",
        "outputId": "cac07c94-4adb-449d-c9a3-28cedafd60c5"
      },
      "id": "AQqTWoNU2WZj",
      "execution_count": 29,
      "outputs": [
        {
          "output_type": "stream",
          "name": "stdout",
          "text": [
            "Error in (function (expr, envir = parent.frame(), enclos = if (is.list(envir) ||  : \n",
            "  object 'inext_out' not found\n"
          ]
        },
        {
          "output_type": "error",
          "ename": "RInterpreterError",
          "evalue": "Failed to parse and evaluate line 'storage_dir <- if_else(nzchar(Sys.getenv(\"COLAB\")), drive_lib, here::here())\\ndir.create(str_c(storage_dir, \\'intermediate_files\\', sep = \\'/\\'), showWarnings = FALSE)\\n\\nwrite_rds(inext_out,\\n          str_c(storage_dir,\\n                \\'intermediate_files/inext_out.rds\\',\\n                sep = \\'/\\'))\\n\\nwrite_rds(zotu_tree,\\n          str_c(storage_dir,\\n                \\'intermediate_files/zotu_tree.rds\\',\\n                sep = \\'/\\'))\\n\\nwrite_csv(sample_pd,\\n          str_c(storage_dir,\\n                \\'intermediate_files/phylogenetic_alpha_diversity.csv\\',\\n                sep = \\'/\\'))\\n'.\nR error message: \"Error in (function (expr, envir = parent.frame(), enclos = if (is.list(envir) ||  : \\n  object 'inext_out' not found\"",
          "traceback": [
            "\u001b[0;31m---------------------------------------------------------------------------\u001b[0m",
            "\u001b[0;31mRRuntimeError\u001b[0m                             Traceback (most recent call last)",
            "\u001b[0;32m/usr/local/lib/python3.11/dist-packages/rpy2/ipython/rmagic.py\u001b[0m in \u001b[0;36meval\u001b[0;34m(self, code)\u001b[0m\n\u001b[1;32m    406\u001b[0m                 \u001b[0mr_expr\u001b[0m \u001b[0;34m=\u001b[0m \u001b[0mri\u001b[0m\u001b[0;34m.\u001b[0m\u001b[0mparse\u001b[0m\u001b[0;34m(\u001b[0m\u001b[0mcode\u001b[0m\u001b[0;34m)\u001b[0m\u001b[0;34m\u001b[0m\u001b[0;34m\u001b[0m\u001b[0m\n\u001b[0;32m--> 407\u001b[0;31m                 value, visible = ri.evalr_expr_with_visible(\n\u001b[0m\u001b[1;32m    408\u001b[0m                     \u001b[0mr_expr\u001b[0m\u001b[0;34m\u001b[0m\u001b[0;34m\u001b[0m\u001b[0m\n",
            "\u001b[0;32m/usr/local/lib/python3.11/dist-packages/rpy2/rinterface.py\u001b[0m in \u001b[0;36mevalr_expr_with_visible\u001b[0;34m(expr, envir)\u001b[0m\n\u001b[1;32m    193\u001b[0m         \u001b[0;32mif\u001b[0m \u001b[0merror_occured\u001b[0m\u001b[0;34m[\u001b[0m\u001b[0;36m0\u001b[0m\u001b[0;34m]\u001b[0m\u001b[0;34m:\u001b[0m\u001b[0;34m\u001b[0m\u001b[0;34m\u001b[0m\u001b[0m\n\u001b[0;32m--> 194\u001b[0;31m             \u001b[0;32mraise\u001b[0m \u001b[0membedded\u001b[0m\u001b[0;34m.\u001b[0m\u001b[0mRRuntimeError\u001b[0m\u001b[0;34m(\u001b[0m\u001b[0m_rinterface\u001b[0m\u001b[0;34m.\u001b[0m\u001b[0m_geterrmessage\u001b[0m\u001b[0;34m(\u001b[0m\u001b[0;34m)\u001b[0m\u001b[0;34m)\u001b[0m\u001b[0;34m\u001b[0m\u001b[0;34m\u001b[0m\u001b[0m\n\u001b[0m\u001b[1;32m    195\u001b[0m         \u001b[0mres\u001b[0m \u001b[0;34m=\u001b[0m \u001b[0mconversion\u001b[0m\u001b[0;34m.\u001b[0m\u001b[0m_cdata_to_rinterface\u001b[0m\u001b[0;34m(\u001b[0m\u001b[0mr_res\u001b[0m\u001b[0;34m)\u001b[0m\u001b[0;34m\u001b[0m\u001b[0;34m\u001b[0m\u001b[0m\n",
            "\u001b[0;31mRRuntimeError\u001b[0m: Error in (function (expr, envir = parent.frame(), enclos = if (is.list(envir) ||  : \n  object 'inext_out' not found\n",
            "\nDuring handling of the above exception, another exception occurred:\n",
            "\u001b[0;31mRInterpreterError\u001b[0m                         Traceback (most recent call last)",
            "\u001b[0;32m<ipython-input-29-c190f337bdd2>\u001b[0m in \u001b[0;36m<cell line: 0>\u001b[0;34m()\u001b[0m\n\u001b[0;32m----> 1\u001b[0;31m \u001b[0mget_ipython\u001b[0m\u001b[0;34m(\u001b[0m\u001b[0;34m)\u001b[0m\u001b[0;34m.\u001b[0m\u001b[0mrun_cell_magic\u001b[0m\u001b[0;34m(\u001b[0m\u001b[0;34m'R'\u001b[0m\u001b[0;34m,\u001b[0m \u001b[0;34m''\u001b[0m\u001b[0;34m,\u001b[0m \u001b[0;34m'storage_dir <- if_else(nzchar(Sys.getenv(\"COLAB\")), drive_lib, here::here())\\ndir.create(str_c(storage_dir, \\'intermediate_files\\', sep = \\'/\\'), showWarnings = FALSE)\\n\\nwrite_rds(inext_out,\\n          str_c(storage_dir,\\n                \\'intermediate_files/inext_out.rds\\',\\n                sep = \\'/\\'))\\n\\nwrite_rds(zotu_tree,\\n          str_c(storage_dir,\\n                \\'intermediate_files/zotu_tree.rds\\',\\n                sep = \\'/\\'))\\n\\nwrite_csv(sample_pd,\\n          str_c(storage_dir,\\n                \\'intermediate_files/phylogenetic_alpha_diversity.csv\\',\\n                sep = \\'/\\'))\\n'\u001b[0m\u001b[0;34m)\u001b[0m\u001b[0;34m\u001b[0m\u001b[0;34m\u001b[0m\u001b[0m\n\u001b[0m",
            "\u001b[0;32m/usr/local/lib/python3.11/dist-packages/google/colab/_shell.py\u001b[0m in \u001b[0;36mrun_cell_magic\u001b[0;34m(self, magic_name, line, cell)\u001b[0m\n\u001b[1;32m    356\u001b[0m     \u001b[0;32mif\u001b[0m \u001b[0mline\u001b[0m \u001b[0;32mand\u001b[0m \u001b[0;32mnot\u001b[0m \u001b[0mcell\u001b[0m\u001b[0;34m:\u001b[0m\u001b[0;34m\u001b[0m\u001b[0;34m\u001b[0m\u001b[0m\n\u001b[1;32m    357\u001b[0m       \u001b[0mcell\u001b[0m \u001b[0;34m=\u001b[0m \u001b[0;34m' '\u001b[0m\u001b[0;34m\u001b[0m\u001b[0;34m\u001b[0m\u001b[0m\n\u001b[0;32m--> 358\u001b[0;31m     \u001b[0;32mreturn\u001b[0m \u001b[0msuper\u001b[0m\u001b[0;34m(\u001b[0m\u001b[0;34m)\u001b[0m\u001b[0;34m.\u001b[0m\u001b[0mrun_cell_magic\u001b[0m\u001b[0;34m(\u001b[0m\u001b[0mmagic_name\u001b[0m\u001b[0;34m,\u001b[0m \u001b[0mline\u001b[0m\u001b[0;34m,\u001b[0m \u001b[0mcell\u001b[0m\u001b[0;34m)\u001b[0m\u001b[0;34m\u001b[0m\u001b[0;34m\u001b[0m\u001b[0m\n\u001b[0m\u001b[1;32m    359\u001b[0m \u001b[0;34m\u001b[0m\u001b[0m\n\u001b[1;32m    360\u001b[0m \u001b[0;34m\u001b[0m\u001b[0m\n",
            "\u001b[0;32m/usr/local/lib/python3.11/dist-packages/IPython/core/interactiveshell.py\u001b[0m in \u001b[0;36mrun_cell_magic\u001b[0;34m(self, magic_name, line, cell)\u001b[0m\n\u001b[1;32m   2471\u001b[0m             \u001b[0;32mwith\u001b[0m \u001b[0mself\u001b[0m\u001b[0;34m.\u001b[0m\u001b[0mbuiltin_trap\u001b[0m\u001b[0;34m:\u001b[0m\u001b[0;34m\u001b[0m\u001b[0;34m\u001b[0m\u001b[0m\n\u001b[1;32m   2472\u001b[0m                 \u001b[0margs\u001b[0m \u001b[0;34m=\u001b[0m \u001b[0;34m(\u001b[0m\u001b[0mmagic_arg_s\u001b[0m\u001b[0;34m,\u001b[0m \u001b[0mcell\u001b[0m\u001b[0;34m)\u001b[0m\u001b[0;34m\u001b[0m\u001b[0;34m\u001b[0m\u001b[0m\n\u001b[0;32m-> 2473\u001b[0;31m                 \u001b[0mresult\u001b[0m \u001b[0;34m=\u001b[0m \u001b[0mfn\u001b[0m\u001b[0;34m(\u001b[0m\u001b[0;34m*\u001b[0m\u001b[0margs\u001b[0m\u001b[0;34m,\u001b[0m \u001b[0;34m**\u001b[0m\u001b[0mkwargs\u001b[0m\u001b[0;34m)\u001b[0m\u001b[0;34m\u001b[0m\u001b[0;34m\u001b[0m\u001b[0m\n\u001b[0m\u001b[1;32m   2474\u001b[0m             \u001b[0;32mreturn\u001b[0m \u001b[0mresult\u001b[0m\u001b[0;34m\u001b[0m\u001b[0;34m\u001b[0m\u001b[0m\n\u001b[1;32m   2475\u001b[0m \u001b[0;34m\u001b[0m\u001b[0m\n",
            "\u001b[0;32m<decorator-gen-123>\u001b[0m in \u001b[0;36mR\u001b[0;34m(self, line, cell, local_ns)\u001b[0m\n",
            "\u001b[0;32m/usr/local/lib/python3.11/dist-packages/IPython/core/magic.py\u001b[0m in \u001b[0;36m<lambda>\u001b[0;34m(f, *a, **k)\u001b[0m\n\u001b[1;32m    185\u001b[0m     \u001b[0;31m# but it's overkill for just that one bit of state.\u001b[0m\u001b[0;34m\u001b[0m\u001b[0;34m\u001b[0m\u001b[0m\n\u001b[1;32m    186\u001b[0m     \u001b[0;32mdef\u001b[0m \u001b[0mmagic_deco\u001b[0m\u001b[0;34m(\u001b[0m\u001b[0marg\u001b[0m\u001b[0;34m)\u001b[0m\u001b[0;34m:\u001b[0m\u001b[0;34m\u001b[0m\u001b[0;34m\u001b[0m\u001b[0m\n\u001b[0;32m--> 187\u001b[0;31m         \u001b[0mcall\u001b[0m \u001b[0;34m=\u001b[0m \u001b[0;32mlambda\u001b[0m \u001b[0mf\u001b[0m\u001b[0;34m,\u001b[0m \u001b[0;34m*\u001b[0m\u001b[0ma\u001b[0m\u001b[0;34m,\u001b[0m \u001b[0;34m**\u001b[0m\u001b[0mk\u001b[0m\u001b[0;34m:\u001b[0m \u001b[0mf\u001b[0m\u001b[0;34m(\u001b[0m\u001b[0;34m*\u001b[0m\u001b[0ma\u001b[0m\u001b[0;34m,\u001b[0m \u001b[0;34m**\u001b[0m\u001b[0mk\u001b[0m\u001b[0;34m)\u001b[0m\u001b[0;34m\u001b[0m\u001b[0;34m\u001b[0m\u001b[0m\n\u001b[0m\u001b[1;32m    188\u001b[0m \u001b[0;34m\u001b[0m\u001b[0m\n\u001b[1;32m    189\u001b[0m         \u001b[0;32mif\u001b[0m \u001b[0mcallable\u001b[0m\u001b[0;34m(\u001b[0m\u001b[0marg\u001b[0m\u001b[0;34m)\u001b[0m\u001b[0;34m:\u001b[0m\u001b[0;34m\u001b[0m\u001b[0;34m\u001b[0m\u001b[0m\n",
            "\u001b[0;32m/usr/local/lib/python3.11/dist-packages/rpy2/ipython/rmagic.py\u001b[0m in \u001b[0;36mR\u001b[0;34m(self, line, cell, local_ns)\u001b[0m\n\u001b[1;32m    982\u001b[0m             \u001b[0;32mif\u001b[0m \u001b[0;32mnot\u001b[0m \u001b[0me\u001b[0m\u001b[0;34m.\u001b[0m\u001b[0mstdout\u001b[0m\u001b[0;34m.\u001b[0m\u001b[0mendswith\u001b[0m\u001b[0;34m(\u001b[0m\u001b[0me\u001b[0m\u001b[0;34m.\u001b[0m\u001b[0merr\u001b[0m\u001b[0;34m)\u001b[0m\u001b[0;34m:\u001b[0m\u001b[0;34m\u001b[0m\u001b[0;34m\u001b[0m\u001b[0m\n\u001b[1;32m    983\u001b[0m                 \u001b[0mprint\u001b[0m\u001b[0;34m(\u001b[0m\u001b[0me\u001b[0m\u001b[0;34m.\u001b[0m\u001b[0merr\u001b[0m\u001b[0;34m)\u001b[0m\u001b[0;34m\u001b[0m\u001b[0;34m\u001b[0m\u001b[0m\n\u001b[0;32m--> 984\u001b[0;31m             \u001b[0;32mraise\u001b[0m \u001b[0me\u001b[0m\u001b[0;34m\u001b[0m\u001b[0;34m\u001b[0m\u001b[0m\n\u001b[0m\u001b[1;32m    985\u001b[0m         \u001b[0;32mfinally\u001b[0m\u001b[0;34m:\u001b[0m\u001b[0;34m\u001b[0m\u001b[0;34m\u001b[0m\u001b[0m\n\u001b[1;32m    986\u001b[0m             \u001b[0;32mif\u001b[0m \u001b[0mself\u001b[0m\u001b[0;34m.\u001b[0m\u001b[0mdevice\u001b[0m \u001b[0;32min\u001b[0m \u001b[0mDEVICES_STATIC\u001b[0m\u001b[0;34m:\u001b[0m\u001b[0;34m\u001b[0m\u001b[0;34m\u001b[0m\u001b[0m\n",
            "\u001b[0;32m/usr/local/lib/python3.11/dist-packages/rpy2/ipython/rmagic.py\u001b[0m in \u001b[0;36mR\u001b[0;34m(self, line, cell, local_ns)\u001b[0m\n\u001b[1;32m    947\u001b[0m                     \u001b[0mreturn_output\u001b[0m \u001b[0;34m=\u001b[0m \u001b[0;32mFalse\u001b[0m\u001b[0;34m\u001b[0m\u001b[0;34m\u001b[0m\u001b[0m\n\u001b[1;32m    948\u001b[0m             \u001b[0;32melse\u001b[0m\u001b[0;34m:\u001b[0m\u001b[0;34m\u001b[0m\u001b[0;34m\u001b[0m\u001b[0m\n\u001b[0;32m--> 949\u001b[0;31m                 \u001b[0mtext_result\u001b[0m\u001b[0;34m,\u001b[0m \u001b[0mresult\u001b[0m\u001b[0;34m,\u001b[0m \u001b[0mvisible\u001b[0m \u001b[0;34m=\u001b[0m \u001b[0mself\u001b[0m\u001b[0;34m.\u001b[0m\u001b[0meval\u001b[0m\u001b[0;34m(\u001b[0m\u001b[0mcode\u001b[0m\u001b[0;34m)\u001b[0m\u001b[0;34m\u001b[0m\u001b[0;34m\u001b[0m\u001b[0m\n\u001b[0m\u001b[1;32m    950\u001b[0m                 \u001b[0mtext_output\u001b[0m \u001b[0;34m+=\u001b[0m \u001b[0mtext_result\u001b[0m\u001b[0;34m\u001b[0m\u001b[0;34m\u001b[0m\u001b[0m\n\u001b[1;32m    951\u001b[0m                 \u001b[0;32mif\u001b[0m \u001b[0mvisible\u001b[0m\u001b[0;34m:\u001b[0m\u001b[0;34m\u001b[0m\u001b[0;34m\u001b[0m\u001b[0m\n",
            "\u001b[0;32m/usr/local/lib/python3.11/dist-packages/rpy2/ipython/rmagic.py\u001b[0m in \u001b[0;36meval\u001b[0;34m(self, code)\u001b[0m\n\u001b[1;32m    411\u001b[0m                 \u001b[0;31m# Otherwise next return seems to have copy of error.\u001b[0m\u001b[0;34m\u001b[0m\u001b[0;34m\u001b[0m\u001b[0m\n\u001b[1;32m    412\u001b[0m                 \u001b[0mwarning_or_other_msg\u001b[0m \u001b[0;34m=\u001b[0m \u001b[0mself\u001b[0m\u001b[0;34m.\u001b[0m\u001b[0mflush\u001b[0m\u001b[0;34m(\u001b[0m\u001b[0;34m)\u001b[0m\u001b[0;34m\u001b[0m\u001b[0;34m\u001b[0m\u001b[0m\n\u001b[0;32m--> 413\u001b[0;31m                 raise RInterpreterError(code, str(exception),\n\u001b[0m\u001b[1;32m    414\u001b[0m                                         warning_or_other_msg)\n\u001b[1;32m    415\u001b[0m             \u001b[0;32mfinally\u001b[0m\u001b[0;34m:\u001b[0m\u001b[0;34m\u001b[0m\u001b[0;34m\u001b[0m\u001b[0m\n",
            "\u001b[0;31mRInterpreterError\u001b[0m: Failed to parse and evaluate line 'storage_dir <- if_else(nzchar(Sys.getenv(\"COLAB\")), drive_lib, here::here())\\ndir.create(str_c(storage_dir, \\'intermediate_files\\', sep = \\'/\\'), showWarnings = FALSE)\\n\\nwrite_rds(inext_out,\\n          str_c(storage_dir,\\n                \\'intermediate_files/inext_out.rds\\',\\n                sep = \\'/\\'))\\n\\nwrite_rds(zotu_tree,\\n          str_c(storage_dir,\\n                \\'intermediate_files/zotu_tree.rds\\',\\n                sep = \\'/\\'))\\n\\nwrite_csv(sample_pd,\\n          str_c(storage_dir,\\n                \\'intermediate_files/phylogenetic_alpha_diversity.csv\\',\\n                sep = \\'/\\'))\\n'.\nR error message: \"Error in (function (expr, envir = parent.frame(), enclos = if (is.list(envir) ||  : \\n  object 'inext_out' not found\""
          ]
        }
      ]
    },
    {
      "cell_type": "code",
      "source": [
        "#Cleanly unmount Google Drive\n",
        "drive.flush_and_unmount()"
      ],
      "metadata": {
        "id": "p2IQPEo_I_Pk"
      },
      "id": "p2IQPEo_I_Pk",
      "execution_count": null,
      "outputs": []
    }
  ],
  "metadata": {
    "colab": {
      "provenance": [],
      "include_colab_link": true
    },
    "kernelspec": {
      "display_name": "Python 3",
      "name": "python3"
    },
    "language_info": {
      "name": "python"
    }
  },
  "nbformat": 4,
  "nbformat_minor": 5
}