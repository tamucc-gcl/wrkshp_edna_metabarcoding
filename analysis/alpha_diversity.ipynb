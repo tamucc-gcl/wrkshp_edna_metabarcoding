{
  "cells": [
    {
      "cell_type": "markdown",
      "metadata": {
        "id": "view-in-github",
        "colab_type": "text"
      },
      "source": [
        "<a href=\"https://colab.research.google.com/github/tamucc-gcl/wrkshp_edna_metabarcoding/blob/main/analysis/alpha_diversity.ipynb\" target=\"_parent\"><img src=\"https://colab.research.google.com/assets/colab-badge.svg\" alt=\"Open In Colab\"/></a>"
      ]
    },
    {
      "cell_type": "markdown",
      "id": "B8JlmtFMBjs9",
      "metadata": {
        "id": "B8JlmtFMBjs9"
      },
      "source": [
        "# Alpha Diversity Analysis\n",
        "\n",
        "\n"
      ]
    },
    {
      "cell_type": "markdown",
      "source": [
        "---\n",
        "## Initialize Environment"
      ],
      "metadata": {
        "id": "EzT35XQDxNji"
      },
      "id": "EzT35XQDxNji"
    },
    {
      "cell_type": "code",
      "source": [
        "#Set-up Computing Environment - Python\n",
        "\n",
        "## Mount Google Drive\n",
        "from google.colab import drive\n",
        "import os\n",
        "drive.mount('/content/drive')\n",
        "os.environ['COLAB'] = 'TRUE'\n",
        "\n",
        "## Install Linux programs needed\n",
        "!apt install libfribidi-dev libglpk-dev libharfbuzz-dev pandoc\n",
        "\n",
        "## Clone GitHub Repo and move into that repo\n",
        "local_path = '/content/edna_workshop'\n",
        "repo  = \"tamucc-gcl/wrkshp_edna_metabarcoding\"\n",
        "url = f\"https://github.com/{repo}.git\"\n",
        "!git clone {url} {local_path}\n",
        "\n",
        "## Setup R and move to local directory\n",
        "os.chdir(local_path)\n",
        "%reload_ext rpy2.ipython"
      ],
      "metadata": {
        "id": "G0FnmIJ3G-7P",
        "colab": {
          "base_uri": "https://localhost:8080/"
        },
        "outputId": "81be24f9-0f22-4bff-f299-2cb26364e6b5",
        "collapsed": true
      },
      "id": "G0FnmIJ3G-7P",
      "execution_count": 2,
      "outputs": [
        {
          "output_type": "stream",
          "name": "stdout",
          "text": [
            "Mounted at /content/drive\n",
            "Reading package lists... Done\n",
            "Building dependency tree... Done\n",
            "Reading state information... Done\n",
            "The following additional packages will be installed:\n",
            "  libamd2 libbtf1 libcamd2 libccolamd2 libcholmod3\n",
            "  libcmark-gfm-extensions0.29.0.gfm.3 libcmark-gfm0.29.0.gfm.3 libcolamd2\n",
            "  libcxsparse3 libglpk40 libgmp-dev libgmpxx4ldbl libgraphblas-dev\n",
            "  libgraphblas6 libgraphite2-dev libharfbuzz-gobject0 libharfbuzz-icu0 libklu1\n",
            "  libldl2 libmetis5 libmongoose2 librbio2 libsliplu1 libspqr2\n",
            "  libsuitesparse-dev libsuitesparseconfig5 libumfpack5 pandoc-data\n",
            "Suggested packages:\n",
            "  libiodbc2-dev gmp-doc libgmp10-doc libmpfr-dev libgraphite2-utils\n",
            "  texlive-latex-recommended texlive-xetex texlive-luatex pandoc-citeproc\n",
            "  texlive-latex-extra context wkhtmltopdf librsvg2-bin groff ghc nodejs php\n",
            "  python ruby libjs-mathjax libjs-katex citation-style-language-styles\n",
            "The following NEW packages will be installed:\n",
            "  libamd2 libbtf1 libcamd2 libccolamd2 libcholmod3\n",
            "  libcmark-gfm-extensions0.29.0.gfm.3 libcmark-gfm0.29.0.gfm.3 libcolamd2\n",
            "  libcxsparse3 libfribidi-dev libglpk-dev libglpk40 libgmp-dev libgmpxx4ldbl\n",
            "  libgraphblas-dev libgraphblas6 libgraphite2-dev libharfbuzz-dev\n",
            "  libharfbuzz-gobject0 libharfbuzz-icu0 libklu1 libldl2 libmetis5 libmongoose2\n",
            "  librbio2 libsliplu1 libspqr2 libsuitesparse-dev libsuitesparseconfig5\n",
            "  libumfpack5 pandoc pandoc-data\n",
            "0 upgraded, 32 newly installed, 0 to remove and 34 not upgraded.\n",
            "Need to get 44.7 MB of archives.\n",
            "After this operation, 334 MB of additional disk space will be used.\n",
            "Get:1 http://archive.ubuntu.com/ubuntu jammy/main amd64 libsuitesparseconfig5 amd64 1:5.10.1+dfsg-4build1 [10.4 kB]\n",
            "Get:2 http://archive.ubuntu.com/ubuntu jammy/universe amd64 libamd2 amd64 1:5.10.1+dfsg-4build1 [21.6 kB]\n",
            "Get:3 http://archive.ubuntu.com/ubuntu jammy/universe amd64 libbtf1 amd64 1:5.10.1+dfsg-4build1 [12.1 kB]\n",
            "Get:4 http://archive.ubuntu.com/ubuntu jammy/universe amd64 libcamd2 amd64 1:5.10.1+dfsg-4build1 [23.3 kB]\n",
            "Get:5 http://archive.ubuntu.com/ubuntu jammy/universe amd64 libccolamd2 amd64 1:5.10.1+dfsg-4build1 [25.2 kB]\n",
            "Get:6 http://archive.ubuntu.com/ubuntu jammy/main amd64 libcolamd2 amd64 1:5.10.1+dfsg-4build1 [18.0 kB]\n",
            "Get:7 http://archive.ubuntu.com/ubuntu jammy/universe amd64 libmetis5 amd64 5.1.0.dfsg-7build2 [181 kB]\n",
            "Get:8 http://archive.ubuntu.com/ubuntu jammy/universe amd64 libcholmod3 amd64 1:5.10.1+dfsg-4build1 [346 kB]\n",
            "Get:9 http://archive.ubuntu.com/ubuntu jammy/universe amd64 libcmark-gfm0.29.0.gfm.3 amd64 0.29.0.gfm.3-3 [115 kB]\n",
            "Get:10 http://archive.ubuntu.com/ubuntu jammy/universe amd64 libcmark-gfm-extensions0.29.0.gfm.3 amd64 0.29.0.gfm.3-3 [25.1 kB]\n",
            "Get:11 http://archive.ubuntu.com/ubuntu jammy/universe amd64 libcxsparse3 amd64 1:5.10.1+dfsg-4build1 [70.8 kB]\n",
            "Get:12 http://archive.ubuntu.com/ubuntu jammy-updates/main amd64 libfribidi-dev amd64 1.0.8-2ubuntu3.1 [64.8 kB]\n",
            "Get:13 http://archive.ubuntu.com/ubuntu jammy/universe amd64 libglpk40 amd64 5.0-1 [361 kB]\n",
            "Get:14 http://archive.ubuntu.com/ubuntu jammy/main amd64 libgmpxx4ldbl amd64 2:6.2.1+dfsg-3ubuntu1 [9,580 B]\n",
            "Get:15 http://archive.ubuntu.com/ubuntu jammy/main amd64 libgmp-dev amd64 2:6.2.1+dfsg-3ubuntu1 [337 kB]\n",
            "Get:16 http://archive.ubuntu.com/ubuntu jammy/universe amd64 libklu1 amd64 1:5.10.1+dfsg-4build1 [77.6 kB]\n",
            "Get:17 http://archive.ubuntu.com/ubuntu jammy/universe amd64 libldl2 amd64 1:5.10.1+dfsg-4build1 [11.7 kB]\n",
            "Get:18 http://archive.ubuntu.com/ubuntu jammy/universe amd64 libmongoose2 amd64 1:5.10.1+dfsg-4build1 [33.5 kB]\n",
            "Get:19 http://archive.ubuntu.com/ubuntu jammy/universe amd64 libumfpack5 amd64 1:5.10.1+dfsg-4build1 [250 kB]\n",
            "Get:20 http://archive.ubuntu.com/ubuntu jammy/universe amd64 librbio2 amd64 1:5.10.1+dfsg-4build1 [26.6 kB]\n",
            "Get:21 http://archive.ubuntu.com/ubuntu jammy/universe amd64 libspqr2 amd64 1:5.10.1+dfsg-4build1 [71.6 kB]\n",
            "Get:22 http://archive.ubuntu.com/ubuntu jammy/universe amd64 libsliplu1 amd64 1:5.10.1+dfsg-4build1 [37.1 kB]\n",
            "Get:23 http://archive.ubuntu.com/ubuntu jammy/universe amd64 libsuitesparse-dev amd64 1:5.10.1+dfsg-4build1 [1,058 kB]\n",
            "Get:24 http://archive.ubuntu.com/ubuntu jammy/universe amd64 libglpk-dev amd64 5.0-1 [430 kB]\n",
            "Get:25 http://archive.ubuntu.com/ubuntu jammy/universe amd64 libgraphblas6 amd64 6.1.4+dfsg-2 [20.1 MB]\n",
            "Get:26 http://archive.ubuntu.com/ubuntu jammy/universe amd64 libgraphblas-dev amd64 6.1.4+dfsg-2 [54.4 kB]\n",
            "Get:27 http://archive.ubuntu.com/ubuntu jammy/main amd64 libgraphite2-dev amd64 1.3.14-1build2 [14.7 kB]\n",
            "Get:28 http://archive.ubuntu.com/ubuntu jammy-updates/main amd64 libharfbuzz-icu0 amd64 2.7.4-1ubuntu3.2 [5,890 B]\n",
            "Get:29 http://archive.ubuntu.com/ubuntu jammy-updates/main amd64 libharfbuzz-gobject0 amd64 2.7.4-1ubuntu3.2 [26.0 kB]\n",
            "Get:30 http://archive.ubuntu.com/ubuntu jammy-updates/main amd64 libharfbuzz-dev amd64 2.7.4-1ubuntu3.2 [554 kB]\n",
            "Get:31 http://archive.ubuntu.com/ubuntu jammy/universe amd64 pandoc-data all 2.9.2.1-3ubuntu2 [81.8 kB]\n",
            "Get:32 http://archive.ubuntu.com/ubuntu jammy/universe amd64 pandoc amd64 2.9.2.1-3ubuntu2 [20.3 MB]\n",
            "Fetched 44.7 MB in 4s (10.3 MB/s)\n",
            "Extracting templates from packages: 100%\n",
            "Selecting previously unselected package libsuitesparseconfig5:amd64.\n",
            "(Reading database ... 126101 files and directories currently installed.)\n",
            "Preparing to unpack .../00-libsuitesparseconfig5_1%3a5.10.1+dfsg-4build1_amd64.deb ...\n",
            "Unpacking libsuitesparseconfig5:amd64 (1:5.10.1+dfsg-4build1) ...\n",
            "Selecting previously unselected package libamd2:amd64.\n",
            "Preparing to unpack .../01-libamd2_1%3a5.10.1+dfsg-4build1_amd64.deb ...\n",
            "Unpacking libamd2:amd64 (1:5.10.1+dfsg-4build1) ...\n",
            "Selecting previously unselected package libbtf1:amd64.\n",
            "Preparing to unpack .../02-libbtf1_1%3a5.10.1+dfsg-4build1_amd64.deb ...\n",
            "Unpacking libbtf1:amd64 (1:5.10.1+dfsg-4build1) ...\n",
            "Selecting previously unselected package libcamd2:amd64.\n",
            "Preparing to unpack .../03-libcamd2_1%3a5.10.1+dfsg-4build1_amd64.deb ...\n",
            "Unpacking libcamd2:amd64 (1:5.10.1+dfsg-4build1) ...\n",
            "Selecting previously unselected package libccolamd2:amd64.\n",
            "Preparing to unpack .../04-libccolamd2_1%3a5.10.1+dfsg-4build1_amd64.deb ...\n",
            "Unpacking libccolamd2:amd64 (1:5.10.1+dfsg-4build1) ...\n",
            "Selecting previously unselected package libcolamd2:amd64.\n",
            "Preparing to unpack .../05-libcolamd2_1%3a5.10.1+dfsg-4build1_amd64.deb ...\n",
            "Unpacking libcolamd2:amd64 (1:5.10.1+dfsg-4build1) ...\n",
            "Selecting previously unselected package libmetis5:amd64.\n",
            "Preparing to unpack .../06-libmetis5_5.1.0.dfsg-7build2_amd64.deb ...\n",
            "Unpacking libmetis5:amd64 (5.1.0.dfsg-7build2) ...\n",
            "Selecting previously unselected package libcholmod3:amd64.\n",
            "Preparing to unpack .../07-libcholmod3_1%3a5.10.1+dfsg-4build1_amd64.deb ...\n",
            "Unpacking libcholmod3:amd64 (1:5.10.1+dfsg-4build1) ...\n",
            "Selecting previously unselected package libcmark-gfm0.29.0.gfm.3:amd64.\n",
            "Preparing to unpack .../08-libcmark-gfm0.29.0.gfm.3_0.29.0.gfm.3-3_amd64.deb ...\n",
            "Unpacking libcmark-gfm0.29.0.gfm.3:amd64 (0.29.0.gfm.3-3) ...\n",
            "Selecting previously unselected package libcmark-gfm-extensions0.29.0.gfm.3:amd64.\n",
            "Preparing to unpack .../09-libcmark-gfm-extensions0.29.0.gfm.3_0.29.0.gfm.3-3_amd64.deb ...\n",
            "Unpacking libcmark-gfm-extensions0.29.0.gfm.3:amd64 (0.29.0.gfm.3-3) ...\n",
            "Selecting previously unselected package libcxsparse3:amd64.\n",
            "Preparing to unpack .../10-libcxsparse3_1%3a5.10.1+dfsg-4build1_amd64.deb ...\n",
            "Unpacking libcxsparse3:amd64 (1:5.10.1+dfsg-4build1) ...\n",
            "Selecting previously unselected package libfribidi-dev:amd64.\n",
            "Preparing to unpack .../11-libfribidi-dev_1.0.8-2ubuntu3.1_amd64.deb ...\n",
            "Unpacking libfribidi-dev:amd64 (1.0.8-2ubuntu3.1) ...\n",
            "Selecting previously unselected package libglpk40:amd64.\n",
            "Preparing to unpack .../12-libglpk40_5.0-1_amd64.deb ...\n",
            "Unpacking libglpk40:amd64 (5.0-1) ...\n",
            "Selecting previously unselected package libgmpxx4ldbl:amd64.\n",
            "Preparing to unpack .../13-libgmpxx4ldbl_2%3a6.2.1+dfsg-3ubuntu1_amd64.deb ...\n",
            "Unpacking libgmpxx4ldbl:amd64 (2:6.2.1+dfsg-3ubuntu1) ...\n",
            "Selecting previously unselected package libgmp-dev:amd64.\n",
            "Preparing to unpack .../14-libgmp-dev_2%3a6.2.1+dfsg-3ubuntu1_amd64.deb ...\n",
            "Unpacking libgmp-dev:amd64 (2:6.2.1+dfsg-3ubuntu1) ...\n",
            "Selecting previously unselected package libklu1:amd64.\n",
            "Preparing to unpack .../15-libklu1_1%3a5.10.1+dfsg-4build1_amd64.deb ...\n",
            "Unpacking libklu1:amd64 (1:5.10.1+dfsg-4build1) ...\n",
            "Selecting previously unselected package libldl2:amd64.\n",
            "Preparing to unpack .../16-libldl2_1%3a5.10.1+dfsg-4build1_amd64.deb ...\n",
            "Unpacking libldl2:amd64 (1:5.10.1+dfsg-4build1) ...\n",
            "Selecting previously unselected package libmongoose2:amd64.\n",
            "Preparing to unpack .../17-libmongoose2_1%3a5.10.1+dfsg-4build1_amd64.deb ...\n",
            "Unpacking libmongoose2:amd64 (1:5.10.1+dfsg-4build1) ...\n",
            "Selecting previously unselected package libumfpack5:amd64.\n",
            "Preparing to unpack .../18-libumfpack5_1%3a5.10.1+dfsg-4build1_amd64.deb ...\n",
            "Unpacking libumfpack5:amd64 (1:5.10.1+dfsg-4build1) ...\n",
            "Selecting previously unselected package librbio2:amd64.\n",
            "Preparing to unpack .../19-librbio2_1%3a5.10.1+dfsg-4build1_amd64.deb ...\n",
            "Unpacking librbio2:amd64 (1:5.10.1+dfsg-4build1) ...\n",
            "Selecting previously unselected package libspqr2:amd64.\n",
            "Preparing to unpack .../20-libspqr2_1%3a5.10.1+dfsg-4build1_amd64.deb ...\n",
            "Unpacking libspqr2:amd64 (1:5.10.1+dfsg-4build1) ...\n",
            "Selecting previously unselected package libsliplu1:amd64.\n",
            "Preparing to unpack .../21-libsliplu1_1%3a5.10.1+dfsg-4build1_amd64.deb ...\n",
            "Unpacking libsliplu1:amd64 (1:5.10.1+dfsg-4build1) ...\n",
            "Selecting previously unselected package libsuitesparse-dev:amd64.\n",
            "Preparing to unpack .../22-libsuitesparse-dev_1%3a5.10.1+dfsg-4build1_amd64.deb ...\n",
            "Unpacking libsuitesparse-dev:amd64 (1:5.10.1+dfsg-4build1) ...\n",
            "Selecting previously unselected package libglpk-dev:amd64.\n",
            "Preparing to unpack .../23-libglpk-dev_5.0-1_amd64.deb ...\n",
            "Unpacking libglpk-dev:amd64 (5.0-1) ...\n",
            "Selecting previously unselected package libgraphblas6:amd64.\n",
            "Preparing to unpack .../24-libgraphblas6_6.1.4+dfsg-2_amd64.deb ...\n",
            "Unpacking libgraphblas6:amd64 (6.1.4+dfsg-2) ...\n",
            "Selecting previously unselected package libgraphblas-dev:amd64.\n",
            "Preparing to unpack .../25-libgraphblas-dev_6.1.4+dfsg-2_amd64.deb ...\n",
            "Unpacking libgraphblas-dev:amd64 (6.1.4+dfsg-2) ...\n",
            "Selecting previously unselected package libgraphite2-dev:amd64.\n",
            "Preparing to unpack .../26-libgraphite2-dev_1.3.14-1build2_amd64.deb ...\n",
            "Unpacking libgraphite2-dev:amd64 (1.3.14-1build2) ...\n",
            "Selecting previously unselected package libharfbuzz-icu0:amd64.\n",
            "Preparing to unpack .../27-libharfbuzz-icu0_2.7.4-1ubuntu3.2_amd64.deb ...\n",
            "Unpacking libharfbuzz-icu0:amd64 (2.7.4-1ubuntu3.2) ...\n",
            "Selecting previously unselected package libharfbuzz-gobject0:amd64.\n",
            "Preparing to unpack .../28-libharfbuzz-gobject0_2.7.4-1ubuntu3.2_amd64.deb ...\n",
            "Unpacking libharfbuzz-gobject0:amd64 (2.7.4-1ubuntu3.2) ...\n",
            "Selecting previously unselected package libharfbuzz-dev:amd64.\n",
            "Preparing to unpack .../29-libharfbuzz-dev_2.7.4-1ubuntu3.2_amd64.deb ...\n",
            "Unpacking libharfbuzz-dev:amd64 (2.7.4-1ubuntu3.2) ...\n",
            "Selecting previously unselected package pandoc-data.\n",
            "Preparing to unpack .../30-pandoc-data_2.9.2.1-3ubuntu2_all.deb ...\n",
            "Unpacking pandoc-data (2.9.2.1-3ubuntu2) ...\n",
            "Selecting previously unselected package pandoc.\n",
            "Preparing to unpack .../31-pandoc_2.9.2.1-3ubuntu2_amd64.deb ...\n",
            "Unpacking pandoc (2.9.2.1-3ubuntu2) ...\n",
            "Setting up libharfbuzz-icu0:amd64 (2.7.4-1ubuntu3.2) ...\n",
            "Setting up libfribidi-dev:amd64 (1.0.8-2ubuntu3.1) ...\n",
            "Setting up libgraphblas6:amd64 (6.1.4+dfsg-2) ...\n",
            "Setting up libldl2:amd64 (1:5.10.1+dfsg-4build1) ...\n",
            "Setting up libmetis5:amd64 (5.1.0.dfsg-7build2) ...\n",
            "Setting up libharfbuzz-gobject0:amd64 (2.7.4-1ubuntu3.2) ...\n",
            "Setting up libbtf1:amd64 (1:5.10.1+dfsg-4build1) ...\n",
            "Setting up libgraphblas-dev:amd64 (6.1.4+dfsg-2) ...\n",
            "Setting up libgraphite2-dev:amd64 (1.3.14-1build2) ...\n",
            "Setting up libgmpxx4ldbl:amd64 (2:6.2.1+dfsg-3ubuntu1) ...\n",
            "Setting up libcmark-gfm0.29.0.gfm.3:amd64 (0.29.0.gfm.3-3) ...\n",
            "Setting up libcmark-gfm-extensions0.29.0.gfm.3:amd64 (0.29.0.gfm.3-3) ...\n",
            "Setting up libcxsparse3:amd64 (1:5.10.1+dfsg-4build1) ...\n",
            "Setting up pandoc-data (2.9.2.1-3ubuntu2) ...\n",
            "Setting up libsuitesparseconfig5:amd64 (1:5.10.1+dfsg-4build1) ...\n",
            "Setting up librbio2:amd64 (1:5.10.1+dfsg-4build1) ...\n",
            "Setting up libamd2:amd64 (1:5.10.1+dfsg-4build1) ...\n",
            "Setting up libharfbuzz-dev:amd64 (2.7.4-1ubuntu3.2) ...\n",
            "Setting up libgmp-dev:amd64 (2:6.2.1+dfsg-3ubuntu1) ...\n",
            "Setting up libcolamd2:amd64 (1:5.10.1+dfsg-4build1) ...\n",
            "Setting up libsliplu1:amd64 (1:5.10.1+dfsg-4build1) ...\n",
            "Setting up libcamd2:amd64 (1:5.10.1+dfsg-4build1) ...\n",
            "Setting up libmongoose2:amd64 (1:5.10.1+dfsg-4build1) ...\n",
            "Setting up pandoc (2.9.2.1-3ubuntu2) ...\n",
            "Setting up libglpk40:amd64 (5.0-1) ...\n",
            "Setting up libklu1:amd64 (1:5.10.1+dfsg-4build1) ...\n",
            "Setting up libccolamd2:amd64 (1:5.10.1+dfsg-4build1) ...\n",
            "Setting up libcholmod3:amd64 (1:5.10.1+dfsg-4build1) ...\n",
            "Setting up libspqr2:amd64 (1:5.10.1+dfsg-4build1) ...\n",
            "Setting up libumfpack5:amd64 (1:5.10.1+dfsg-4build1) ...\n",
            "Setting up libsuitesparse-dev:amd64 (1:5.10.1+dfsg-4build1) ...\n",
            "Setting up libglpk-dev:amd64 (5.0-1) ...\n",
            "Processing triggers for man-db (2.10.2-1) ...\n",
            "Processing triggers for libc-bin (2.35-0ubuntu3.8) ...\n",
            "/sbin/ldconfig.real: /usr/local/lib/libtcm_debug.so.1 is not a symbolic link\n",
            "\n",
            "/sbin/ldconfig.real: /usr/local/lib/libtbbmalloc_proxy.so.2 is not a symbolic link\n",
            "\n",
            "/sbin/ldconfig.real: /usr/local/lib/libtbb.so.12 is not a symbolic link\n",
            "\n",
            "/sbin/ldconfig.real: /usr/local/lib/libumf.so.0 is not a symbolic link\n",
            "\n",
            "/sbin/ldconfig.real: /usr/local/lib/libur_adapter_opencl.so.0 is not a symbolic link\n",
            "\n",
            "/sbin/ldconfig.real: /usr/local/lib/libtbbbind.so.3 is not a symbolic link\n",
            "\n",
            "/sbin/ldconfig.real: /usr/local/lib/libur_loader.so.0 is not a symbolic link\n",
            "\n",
            "/sbin/ldconfig.real: /usr/local/lib/libtbbbind_2_0.so.3 is not a symbolic link\n",
            "\n",
            "/sbin/ldconfig.real: /usr/local/lib/libtcm.so.1 is not a symbolic link\n",
            "\n",
            "/sbin/ldconfig.real: /usr/local/lib/libtbbbind_2_5.so.3 is not a symbolic link\n",
            "\n",
            "/sbin/ldconfig.real: /usr/local/lib/libtbbmalloc.so.2 is not a symbolic link\n",
            "\n",
            "/sbin/ldconfig.real: /usr/local/lib/libhwloc.so.15 is not a symbolic link\n",
            "\n",
            "/sbin/ldconfig.real: /usr/local/lib/libur_adapter_level_zero.so.0 is not a symbolic link\n",
            "\n",
            "Cloning into '/content/edna_workshop'...\n",
            "remote: Enumerating objects: 373, done.\u001b[K\n",
            "remote: Counting objects: 100% (69/69), done.\u001b[K\n",
            "remote: Compressing objects: 100% (52/52), done.\u001b[K\n",
            "remote: Total 373 (delta 33), reused 39 (delta 14), pack-reused 304 (from 1)\u001b[K\n",
            "Receiving objects: 100% (373/373), 16.27 MiB | 18.93 MiB/s, done.\n",
            "Resolving deltas: 100% (161/161), done.\n"
          ]
        }
      ]
    },
    {
      "cell_type": "code",
      "source": [
        "#Set-up Computing Environment - R\n",
        "%%R -i local_path\n",
        "# Point R at your Drive-backed library\n",
        "drive_lib <- \"/content/drive/MyDrive/edna_libraries\"\n",
        "dir.create(drive_lib, recursive = TRUE, showWarnings = FALSE)\n",
        ".libPaths(c(drive_lib, .libPaths()))\n",
        "\n",
        "#Install renv if it isn't already\n",
        "if (!require(\"renv\", lib.loc = drive_lib, quietly = TRUE, warn.conflicts = FALSE)) {\n",
        "  install.packages(\"renv\", lib = drive_lib,\n",
        "                   quietly = TRUE, warn.conflicts = FALSE)\n",
        "}\n",
        "\n",
        "#Install required libraries into google drive if they aren't already\n",
        "renv::restore(library = drive_lib,\n",
        "              lockfile = paste0(local_path, '/renv.lock'),\n",
        "              prompt = FALSE)"
      ],
      "metadata": {
        "id": "N3uZ6R1lHhaB",
        "colab": {
          "base_uri": "https://localhost:8080/",
          "height": 262
        },
        "outputId": "137b9c39-cf06-4dcb-f23a-f8e511bee8b7",
        "collapsed": true
      },
      "id": "N3uZ6R1lHhaB",
      "execution_count": 3,
      "outputs": [
        {
          "output_type": "stream",
          "name": "stdout",
          "text": [
            "- The library is already synchronized with the lockfile.\n"
          ]
        },
        {
          "output_type": "display_data",
          "data": {
            "text/plain": [
              "In addition: Warning messages:\n",
              "1: In file(file, \"rt\") :\n",
              "  cannot open file '/usr/lib/R/doc/CRAN_mirrors.csv': No such file or directory\n",
              "2: In file(file, \"rt\") :\n",
              "  cannot open file '/usr/lib/R/doc/CRAN_mirrors.csv': No such file or directory\n",
              "3: In file(file, \"rt\") :\n",
              "  cannot open file '/usr/lib/R/doc/CRAN_mirrors.csv': No such file or directory\n",
              "4: In file(file, \"rt\") :\n",
              "  cannot open file '/usr/lib/R/doc/CRAN_mirrors.csv': No such file or directory\n",
              "5: In file(file, \"rt\") :\n",
              "  cannot open file '/usr/lib/R/doc/CRAN_mirrors.csv': No such file or directory\n",
              "6: In file(file, \"rt\") :\n",
              "  cannot open file '/usr/lib/R/doc/CRAN_mirrors.csv': No such file or directory\n"
            ]
          },
          "metadata": {}
        }
      ]
    },
    {
      "cell_type": "markdown",
      "source": [
        "---\n",
        "## User Settings"
      ],
      "metadata": {
        "id": "PeugC4Jfz_1L"
      },
      "id": "PeugC4Jfz_1L"
    },
    {
      "cell_type": "code",
      "source": [
        "%%R\n",
        "min_samples_predator <- 5 #Minimum number of samples of a given predator species to keep it\n",
        "MIN_NUMBER_PREDATORS_IN <- 20 #How many predators does a genus need to be in to be plotted in the stomach composition plot\n",
        "inext_predator_subsample <- 5\n",
        "inext_bootstraps <- 10\n",
        "tree_bootstraps <- 5\n",
        "tree_evolutionary_model <- 'JC'"
      ],
      "metadata": {
        "id": "n1s59EMK0AHp"
      },
      "id": "n1s59EMK0AHp",
      "execution_count": 4,
      "outputs": []
    },
    {
      "cell_type": "markdown",
      "source": [
        "---\n",
        "## Libraries & Data"
      ],
      "metadata": {
        "id": "hnzA0GDqxRNo"
      },
      "id": "hnzA0GDqxRNo"
    },
    {
      "cell_type": "code",
      "source": [
        "%%R\n",
        "library(Biostrings)\n",
        "library(tidyverse)\n",
        "library(iNEXT)\n",
        "library(phangorn)\n",
        "library(picante)\n",
        "library(HierDpart)\n",
        "library(ade4)\n",
        "library(ggnested)\n",
        "library(ggtext)\n",
        "library(patchwork)\n",
        "\n",
        "source('https://raw.githubusercontent.com/tamucc-gcl/iDIP.phylo/refs/heads/main/iDIP.phylo.R')\n",
        "source(str_c(here::here(), 'r_functions/fasta2tree.R', sep = '/'))"
      ],
      "metadata": {
        "id": "LbVO_STR-3J1",
        "outputId": "baf0fda6-5ad6-4e0a-ec25-cd3cbfcb6ec7",
        "colab": {
          "base_uri": "https://localhost:8080/",
          "height": 1000
        }
      },
      "id": "LbVO_STR-3J1",
      "execution_count": 5,
      "outputs": [
        {
          "output_type": "stream",
          "name": "stdout",
          "text": [
            "── Attaching core tidyverse packages ──────────────────────── tidyverse 2.0.0 ──\n",
            "✔ dplyr     1.1.4     ✔ readr     2.1.5\n",
            "✔ forcats   1.0.0     ✔ stringr   1.5.1\n",
            "✔ ggplot2   3.5.2     ✔ tibble    3.2.1\n",
            "✔ lubridate 1.9.4     ✔ tidyr     1.3.1\n",
            "✔ purrr     1.0.4     \n",
            "── Conflicts ────────────────────────────────────────── tidyverse_conflicts() ──\n",
            "✖ lubridate::%within%() masks IRanges::%within%()\n",
            "✖ dplyr::collapse()     masks Biostrings::collapse(), IRanges::collapse()\n",
            "✖ dplyr::combine()      masks BiocGenerics::combine()\n",
            "✖ purrr::compact()      masks XVector::compact()\n",
            "✖ dplyr::desc()         masks IRanges::desc()\n",
            "✖ tidyr::expand()       masks S4Vectors::expand()\n",
            "✖ dplyr::filter()       masks stats::filter()\n",
            "✖ dplyr::first()        masks S4Vectors::first()\n",
            "✖ dplyr::lag()          masks stats::lag()\n",
            "✖ purrr::modify()       masks renv::modify()\n",
            "✖ ggplot2::Position()   masks BiocGenerics::Position(), base::Position()\n",
            "✖ purrr::reduce()       masks IRanges::reduce()\n",
            "✖ dplyr::rename()       masks S4Vectors::rename()\n",
            "✖ lubridate::second()   masks S4Vectors::second()\n",
            "✖ lubridate::second<-() masks S4Vectors::second<-()\n",
            "✖ dplyr::slice()        masks XVector::slice(), IRanges::slice()\n",
            "ℹ Use the conflicted package (<http://conflicted.r-lib.org/>) to force all conflicts to become errors\n"
          ]
        },
        {
          "output_type": "display_data",
          "data": {
            "text/plain": [
              "Loading required package: BiocGenerics\n",
              "\n",
              "Attaching package: ‘BiocGenerics’\n",
              "\n",
              "The following objects are masked from ‘package:stats’:\n",
              "\n",
              "    IQR, mad, sd, var, xtabs\n",
              "\n",
              "The following objects are masked from ‘package:base’:\n",
              "\n",
              "    anyDuplicated, aperm, append, as.data.frame, basename, cbind,\n",
              "    colnames, dirname, do.call, duplicated, eval, evalq, Filter, Find,\n",
              "    get, grep, grepl, intersect, is.unsorted, lapply, Map, mapply,\n",
              "    match, mget, order, paste, pmax, pmax.int, pmin, pmin.int,\n",
              "    Position, rank, rbind, Reduce, rownames, sapply, saveRDS, setdiff,\n",
              "    table, tapply, union, unique, unsplit, which.max, which.min\n",
              "\n",
              "Loading required package: S4Vectors\n",
              "Loading required package: stats4\n",
              "\n",
              "Attaching package: ‘S4Vectors’\n",
              "\n",
              "The following object is masked from ‘package:utils’:\n",
              "\n",
              "    findMatches\n",
              "\n",
              "The following objects are masked from ‘package:base’:\n",
              "\n",
              "    expand.grid, I, unname\n",
              "\n",
              "Loading required package: IRanges\n",
              "Loading required package: XVector\n",
              "Loading required package: GenomeInfoDb\n",
              "\n",
              "Attaching package: ‘Biostrings’\n",
              "\n",
              "The following object is masked from ‘package:base’:\n",
              "\n",
              "    strsplit\n",
              "\n",
              "Loading required package: ape\n",
              "\n",
              "Attaching package: ‘ape’\n",
              "\n",
              "The following object is masked from ‘package:dplyr’:\n",
              "\n",
              "    where\n",
              "\n",
              "The following object is masked from ‘package:Biostrings’:\n",
              "\n",
              "    complement\n",
              "\n",
              "code for methods in class “Rcpp_Fitch” was not checked for suspicious field assignments (recommended package ‘codetools’ not available?)\n",
              "code for methods in class “Rcpp_Fitch” was not checked for suspicious field assignments (recommended package ‘codetools’ not available?)\n",
              "Loading required package: vegan\n",
              "Loading required package: permute\n",
              "Loading required package: lattice\n",
              "This is vegan 2.6-10\n",
              "\n",
              "Attaching package: ‘vegan’\n",
              "\n",
              "The following objects are masked from ‘package:phangorn’:\n",
              "\n",
              "    diversity, treedist\n",
              "\n",
              "Loading required package: nlme\n",
              "\n",
              "Attaching package: ‘nlme’\n",
              "\n",
              "The following object is masked from ‘package:dplyr’:\n",
              "\n",
              "    collapse\n",
              "\n",
              "The following object is masked from ‘package:Biostrings’:\n",
              "\n",
              "    collapse\n",
              "\n",
              "The following object is masked from ‘package:IRanges’:\n",
              "\n",
              "    collapse\n",
              "\n",
              "Registered S3 method overwritten by 'GGally':\n",
              "  method from   \n",
              "  +.gg   ggplot2\n",
              "Registered S3 method overwritten by 'pegas':\n",
              "  method      from\n",
              "  print.amova ade4\n",
              "\n",
              "Attaching package: ‘ade4’\n",
              "\n",
              "The following object is masked from ‘package:BiocGenerics’:\n",
              "\n",
              "    score\n",
              "\n"
            ]
          },
          "metadata": {}
        }
      ]
    },
    {
      "cell_type": "code",
      "source": [
        "%%R\n",
        "storage_dir <- if_else(nzchar(Sys.getenv(\"COLAB\")), drive_lib, here::here())\n",
        "dir.create(str_c(storage_dir, 'intermediate_files', sep = '/'), showWarnings = FALSE)\n",
        "\n",
        "predator_gut_contents <- read_csv(str_c(storage_dir,\n",
        "                                        'intermediate_files/filtered_zotu_counts.csv',\n",
        "                                        sep = '/'),\n",
        "                                  show_col_types = FALSE)\n",
        "\n",
        "zotu_taxonomy <- read_csv(str_c(storage_dir,\n",
        "                                'intermediate_files/zotu_taxonomy.csv',\n",
        "                                sep = '/'),\n",
        "                          show_col_types = FALSE)\n",
        "\n",
        "predator_taxonomy <- read_rds(str_c(storage_dir,\n",
        "                                    'intermediate_files/predator_taxonomy.rds',\n",
        "                                    sep = '/'))\n",
        "\n",
        "\n",
        "zotu_sequences <- readDNAStringSet(str_c(here::here(),\n",
        "                                         'output/rainbow_bridge/zotu_sequences.fasta',\n",
        "                                         sep = '/'))\n",
        "names(zotu_sequences) <- str_extract(names(zotu_sequences), 'Zotu[0-9]+')\n",
        "zotu_sequences <- zotu_sequences[names(zotu_sequences) %in% colnames(predator_gut_contents)]"
      ],
      "metadata": {
        "id": "8oVzSS_n0PN0"
      },
      "id": "8oVzSS_n0PN0",
      "execution_count": 6,
      "outputs": []
    },
    {
      "cell_type": "markdown",
      "source": [
        "---\n",
        "## Stomach Contents Composition"
      ],
      "metadata": {
        "id": "aeLh649bz1Et"
      },
      "id": "aeLh649bz1Et"
    },
    {
      "cell_type": "code",
      "source": [
        "%%R\n",
        "sample_composition <- predator_gut_contents %>%\n",
        "  pivot_longer(cols = starts_with('Zotu'),\n",
        "               names_to = 'zotu',\n",
        "               values_to = 'n_reads') %>%\n",
        "  filter(n_reads > 0) %>%\n",
        "  left_join(zotu_taxonomy,\n",
        "            by = 'zotu') %>%\n",
        "  mutate(across(where(is.character),\n",
        "                ~if_else(. == 'LCA_dropped', NA_character_, .))) %>%\n",
        "\n",
        "  #Skip genus & species for the sake of the legend\n",
        "  mutate(lowest_level = case_when(#!is.na(species) ~ str_c('s_', species),\n",
        "                                  !is.na(genus) ~ str_c('g_', genus, ' sp.'),\n",
        "                                  !is.na(family) ~ str_c('f_', family),\n",
        "                                  !is.na(order) ~ str_c('o_', order),\n",
        "                                  !is.na(class) ~ str_c('c_', class),\n",
        "                                  !is.na(phylum) ~ str_c('p_', phylum),\n",
        "                                  !is.na(kingdom) ~ str_c('k_', kingdom),\n",
        "                                  !is.na(domain) ~ str_c('d_', domain),\n",
        "                                  TRUE ~ 'Unknown'),\n",
        "         upper_level = case_when(phylum == 'Chordata' & !taxid_rank %in% c('domain', 'kingdom', 'phylum') ~ str_c('c_', class),\n",
        "                                 TRUE ~ str_c('p_', phylum)),\n",
        "         .after = species) %>%\n",
        "\n",
        "  summarise(n_reads = sum(n_reads),\n",
        "            zotu = unique(zotu) %>% str_c(collapse = '; '),\n",
        "            .by = c(predator_species_name, upper_level, lowest_level)) %>%\n",
        "\n",
        "  #Lump together for the sake of the legend/interpretabilitu\n",
        "  mutate(lowest_level = fct_lump_min(lowest_level, min = MIN_NUMBER_PREDATORS_IN),\n",
        "         lowest_level = if_else(lowest_level == 'Other',\n",
        "                                str_c(lowest_level, str_remove(upper_level, '._'), sep = '_'),\n",
        "                                lowest_level)) %>%\n",
        "  select(-zotu) %>%\n",
        "  summarise(n_reads = sum(n_reads),\n",
        "            .by = where(is.character))\n",
        "\n",
        "sample_composition %>%\n",
        "  left_join(predator_taxonomy,\n",
        "            by = c('predator_species_name' = 'species')) %>%\n",
        "  ggnested(aes(y = predator_species_name, x = n_reads,\n",
        "               main_group = upper_level, sub_group = lowest_level),\n",
        "           legend_labeling = 'sub', legend_title = 'Lowest Taxonomic\\nClassification',\n",
        "           main_keys = TRUE, nested_aes = c(\"fill\"),\n",
        "           gradient_type = 'both') +\n",
        "  geom_col(position = 'fill') +\n",
        "  scale_x_continuous(labels = scales::percent_format()) +\n",
        "  guides(fill = guide_legend(ncol = 2)) + #ncol = 5\n",
        "  facet_grid(order ~ ., scales = 'free_y', space = 'free_y', switch = 'y') +\n",
        "  labs(y = NULL,\n",
        "       x = 'Relative Number of Reads (%)') +\n",
        "  theme_classic(base_size = 12) +\n",
        "  theme(axis.title.x = element_markdown(),\n",
        "        axis.title.y = element_markdown(),\n",
        "        panel.background = element_rect(colour = 'black'),\n",
        "        legend.position = 'right',\n",
        "        legend.text = element_markdown(size = 4),\n",
        "        legend.key = element_blank(),\n",
        "        legend.key.size = unit(0.5, \"line\"),\n",
        "        strip.text.y.left = element_text(angle = 0),\n",
        "        strip.background = element_blank(),\n",
        "        strip.placement = \"outside\")"
      ],
      "metadata": {
        "id": "ggTnXKtZiQbs",
        "outputId": "aa007ca6-57af-4ca5-b61a-a26f07ba9805",
        "colab": {
          "base_uri": "https://localhost:8080/",
          "height": 497
        }
      },
      "id": "ggTnXKtZiQbs",
      "execution_count": 7,
      "outputs": [
        {
          "output_type": "display_data",
          "data": {
            "image/png": "[encoded data removed]",
            "text/plain": [
              "<IPython.core.display.Image object>"
            ]
          },
          "metadata": {}
        }
      ]
    },
    {
      "cell_type": "markdown",
      "source": [
        "---\n",
        "## Using iNEXT to determine alpha diversity\n",
        "\n",
        "\n",
        "1.   Account for sampling depth\n",
        "2.   Modern improvements to rarifaction ##TODO - In progress\n",
        "\n"
      ],
      "metadata": {
        "id": "Dqn2-nCq1L31"
      },
      "id": "Dqn2-nCq1L31"
    },
    {
      "cell_type": "code",
      "source": [
        "%%R\n",
        "endpoint_reads <- predator_gut_contents %>%\n",
        "  filter(n() >= min_samples_predator,\n",
        "         .by = predator_species_name) %>%\n",
        "  pivot_longer(cols = starts_with('Zotu'),\n",
        "               names_to = 'zotu',\n",
        "               values_to = 'n_reads') %>%\n",
        "  summarise(n_reads = sum(n_reads),\n",
        "            .by = sample_id) %>%\n",
        "  summarise(mean_reads = mean(n_reads),\n",
        "            median_reads = median(n_reads)) %>%\n",
        "  pull(mean_reads) %>%\n",
        "  floor()\n",
        "\n",
        "if(!file.exists(str_c(here::here(),\n",
        "                      'intermediate_files/inext_out.rds',\n",
        "                      sep = '/'))){\n",
        "  inext_out <- predator_gut_contents %>%\n",
        "\n",
        "    filter(n() >= min_samples_predator,\n",
        "           .by = predator_species_name) %>%\n",
        "\n",
        "    nest(data = -c(predator_species_name)) %>%\n",
        "    sample_n(inext_predator_subsample) %>%\n",
        "    unnest(data) %>%\n",
        "\n",
        "    select(-pool) %>%\n",
        "    split(., .$predator_species_name) %>%\n",
        "    map(~select(.x, -predator_species_name) %>%\n",
        "          column_to_rownames('sample_id') %>%\n",
        "          select(where(~sum(.) > 0)) %>%\n",
        "          t) %>%\n",
        "    iNEXT(q = c(0),\n",
        "          datatype = \"abundance\",\n",
        "          nboot = inext_bootstraps,\n",
        "          endpoint = endpoint_reads)\n",
        "}\n",
        "\n",
        "if(nzchar(Sys.getenv(\"COLAB\")) &\n",
        "   file.exists(str_c(here::here(),\n",
        "                                  'intermediate_files/inext_out.rds',\n",
        "                                  sep = '/'))){\n",
        "  inext_out.rds <- read_rds(str_c(here::here(),\n",
        "                                  'intermediate_files/inext_out.rds',\n",
        "                                  sep = '/'))\n",
        "}"
      ],
      "metadata": {
        "id": "WCD4i0fC1MRY"
      },
      "id": "WCD4i0fC1MRY",
      "execution_count": 8,
      "outputs": []
    },
    {
      "cell_type": "code",
      "source": [
        "%%R\n",
        "ggiNEXT(inext_out,\n",
        "        type = 1,\n",
        "        se = T,\n",
        "        facet.var = \"Assemblage\")"
      ],
      "metadata": {
        "id": "1GrFECj81lmk",
        "outputId": "c5a6ad18-b9a3-45f5-8f40-cd86de3063a5",
        "colab": {
          "base_uri": "https://localhost:8080/",
          "height": 497
        }
      },
      "id": "1GrFECj81lmk",
      "execution_count": 9,
      "outputs": [
        {
          "output_type": "display_data",
          "data": {
            "image/png": "[encoded data removed]",
            "text/plain": [
              "<IPython.core.display.Image object>"
            ]
          },
          "metadata": {}
        }
      ]
    },
    {
      "cell_type": "markdown",
      "source": [
        "---\n",
        "## Phylogenetically Informed Alpha Diversity"
      ],
      "metadata": {
        "id": "1dr4GqWT1isR"
      },
      "id": "1dr4GqWT1isR"
    },
    {
      "cell_type": "markdown",
      "source": [
        "### Build the Tree"
      ],
      "metadata": {
        "id": "Xo8qvFME13gN"
      },
      "id": "Xo8qvFME13gN"
    },
    {
      "cell_type": "code",
      "source": [
        "%%R\n",
        "if(!file.exists(str_c(here::here(),\n",
        "                      'intermediate_files/zotu_tree.rds',\n",
        "                      sep = '/'))){\n",
        "  zotu_tree <- DNAMultipleAlignment(zotu_sequences) %>%\n",
        "    msa::msaConvert(\"phangorn::phyDat\") %>%\n",
        "    fasta2tree(n_bootstraps = tree_bootstraps,\n",
        "               threshold_bootstraps = floor(tree_bootstraps / 2),\n",
        "               model_ml = tree_evolutionary_model)\n",
        "}\n",
        "\n",
        "if(nzchar(Sys.getenv(\"COLAB\")) &\n",
        "   file.exists(str_c(here::here(),\n",
        "                              'intermediate_files/zotu_tree.rds',\n",
        "                              sep = '/'))){\n",
        "  zotu_tree <- read_rds(str_c(here::here(),\n",
        "                              'intermediate_files/zotu_tree.rds',\n",
        "                              sep = '/'))\n",
        "}"
      ],
      "metadata": {
        "id": "Fse9dk9-1jKA",
        "outputId": "71d40ca1-56e9-4261-f9d1-049223b1e583",
        "colab": {
          "base_uri": "https://localhost:8080/"
        }
      },
      "id": "Fse9dk9-1jKA",
      "execution_count": null,
      "outputs": [
        {
          "output_type": "stream",
          "name": "stdout",
          "text": [
            "          JC 915 -45652.17 93134.33 96562.11 \n",
            "        JC+I 916 -44525.71 90883.42 94314.94 \n",
            "     JC+G(4) 916 -39259.46 80350.92 83782.44 \n",
            "   JC+G(4)+I 917 -39210.46 80254.92 83690.18 \n",
            "[1] \"The best version of the  JC  evolutionary model is: JC+G(4)+I\"\n",
            "Optimized evolutionary model parameters:\n",
            " optBf = TRUE \n",
            " optQ = TRUE \n",
            " optInv = TRUE \n",
            " optGamma = TRUE \n"
          ]
        }
      ]
    },
    {
      "cell_type": "code",
      "source": [
        "%%R\n",
        "#Plot tree TODO"
      ],
      "metadata": {
        "id": "8kXd4d2TfAbe"
      },
      "id": "8kXd4d2TfAbe",
      "execution_count": null,
      "outputs": []
    },
    {
      "cell_type": "markdown",
      "source": [
        "---\n",
        "### Phylogenetic Diversity"
      ],
      "metadata": {
        "id": "zOOkdTjL1x8C"
      },
      "id": "zOOkdTjL1x8C"
    },
    {
      "cell_type": "code",
      "source": [
        "%%R\n",
        "abundance_phylogeny <- match.phylo.comm(midpoint(zotu_tree$tree),\n",
        "                                        select(predator_gut_contents,\n",
        "                                               sample_id, starts_with('Zotu')) %>%\n",
        "                                          column_to_rownames('sample_id'))\n",
        "\n",
        "faiths_diversity <- pd(abundance_phylogeny$comm,\n",
        "                       abundance_phylogeny$phy,\n",
        "                       include.root = TRUE) %>%\n",
        "  as_tibble(rownames = 'sample_id')\n",
        "\n",
        "sample_pd <- predator_gut_contents %>%\n",
        "  select(-starts_with('Zotu')) %>%\n",
        "  mutate(phylogenetic_distance = mpd(abundance_phylogeny$comm,\n",
        "                                     cophenetic.phylo(abundance_phylogeny$phy),\n",
        "                                     abundance.weighted = FALSE)) %>%\n",
        "  left_join(faiths_diversity,\n",
        "            by = 'sample_id')"
      ],
      "metadata": {
        "id": "zkS5W3o21y4I"
      },
      "id": "zkS5W3o21y4I",
      "execution_count": null,
      "outputs": []
    },
    {
      "cell_type": "code",
      "source": [
        "rename_metrics <- as_labeller(c(\"PD\" = \"Faith's Diversity\",\n",
        "                                \"phylogenetic_distance\" = \"Phylogenetic Distance\"))\n",
        "sample_pd %>%\n",
        "  select(-SR) %>%\n",
        "  left_join(predator_taxonomy,\n",
        "            by = c('predator_species_name' = 'species')) %>%\n",
        "  pivot_longer(cols = c('phylogenetic_distance', 'PD'),\n",
        "               names_to = 'metric',\n",
        "               values_to = 'value') %>%\n",
        "  filter(!is.na(value)) %>%\n",
        "  ggplot(aes(y = predator_species_name,\n",
        "             x = value)) +\n",
        "  stat_summary(fun.data = mean_se) +\n",
        "  facet_grid(class + order ~ metric,\n",
        "             scales = 'free',\n",
        "             space = 'free_y',\n",
        "             switch = 'both',\n",
        "             labeller = labeller(metric = rename_metrics)) +\n",
        "  labs(x = NULL,\n",
        "       y = 'Predator Species') +\n",
        "  theme_classic() +\n",
        "  theme(strip.background = element_blank(),\n",
        "        strip.text.y.left = element_text(angle = 0),\n",
        "        strip.placement = 'outside',\n",
        "        panel.background = element_rect(colour = 'black'),\n",
        "        axis.text.y = element_text(face = 'italic'))"
      ],
      "metadata": {
        "id": "KrhNSHTE2BTD"
      },
      "id": "KrhNSHTE2BTD",
      "execution_count": null,
      "outputs": []
    },
    {
      "cell_type": "markdown",
      "source": [
        "---\n",
        "## Hierarchical Alpha Diversity - without Phylogenetic Information"
      ],
      "metadata": {
        "id": "7cTCJPGP2D0A"
      },
      "id": "7cTCJPGP2D0A"
    },
    {
      "cell_type": "code",
      "source": [
        "%%R\n",
        "sampling_hierarchy <- predator_gut_contents %>%\n",
        "  select(-starts_with('Zotu')) %>%\n",
        "  mutate(trophic_level = \"predator\",\n",
        "         stomach_id = str_extract(sample_id, \"\\\\d+\")) %>%\n",
        "  distinct(trophic_level, predator_species_name,\n",
        "           stomach_id, pcr_id = sample_id) %>%\n",
        "  t() %>%\n",
        "  as.matrix()\n",
        "\n",
        "idip_abundance <- select(predator_gut_contents,\n",
        "       sample_id, starts_with('Zotu')) %>%\n",
        "  column_to_rownames('sample_id') %>%\n",
        "  t()\n",
        "\n",
        "\n",
        "IDIP(abun = idip_abundance,\n",
        "     struc = sampling_hierarchy)"
      ],
      "metadata": {
        "id": "eoRUiqz22HUN"
      },
      "id": "eoRUiqz22HUN",
      "execution_count": null,
      "outputs": []
    },
    {
      "cell_type": "markdown",
      "source": [
        "---\n",
        "## Hierarchical Alpha Diversity - with Phylogenetic Information"
      ],
      "metadata": {
        "id": "nX8Lbgw_2K2q"
      },
      "id": "nX8Lbgw_2K2q"
    },
    {
      "cell_type": "code",
      "source": [
        "%%R\n",
        "zotu_tree$tree$node.label <- str_c('node', 1:length(zotu_tree$tree$node.label))\n",
        "\n",
        "iDIP.phylo(abun = idip_abundance,\n",
        "           struc = sampling_hierarchy,\n",
        "           tree = write.tree(zotu_tree$tree))"
      ],
      "metadata": {
        "id": "fMlIz39L2KmK"
      },
      "id": "fMlIz39L2KmK",
      "execution_count": null,
      "outputs": []
    },
    {
      "cell_type": "markdown",
      "source": [
        "---\n",
        "## Save Results\n"
      ],
      "metadata": {
        "id": "_vz6XDAu2TlR"
      },
      "id": "_vz6XDAu2TlR"
    },
    {
      "cell_type": "code",
      "source": [
        "%%R\n",
        "storage_dir <- if_else(nzchar(Sys.getenv(\"COLAB\")), persistent_directory, here::here())\n",
        "dir.create(str_c(storage_dir, 'intermediate_files', sep = '/'), showWarnings = FALSE)\n",
        "\n",
        "write_rds(inext_out,\n",
        "          str_c(storage_dir,\n",
        "                'intermediate_files/inext_out.rds',\n",
        "                sep = '/'))\n",
        "\n",
        "write_rds(zotu_tree,\n",
        "          str_c(storage_dir,\n",
        "                'intermediate_files/zotu_tree.rds',\n",
        "                sep = '/'))\n",
        "\n",
        "write_csv(sample_pd,\n",
        "          str_c(storage_dir,\n",
        "                'intermediate_files/phylogenetic_alpha_diversity.csv',\n",
        "                sep = '/'))"
      ],
      "metadata": {
        "id": "AQqTWoNU2WZj"
      },
      "id": "AQqTWoNU2WZj",
      "execution_count": null,
      "outputs": []
    },
    {
      "cell_type": "code",
      "source": [
        "#Cleanly unmount Google Drive\n",
        "drive.flush_and_unmount()"
      ],
      "metadata": {
        "id": "p2IQPEo_I_Pk"
      },
      "id": "p2IQPEo_I_Pk",
      "execution_count": null,
      "outputs": []
    }
  ],
  "metadata": {
    "colab": {
      "provenance": [],
      "include_colab_link": true
    },
    "kernelspec": {
      "display_name": "Python 3",
      "name": "python3"
    },
    "language_info": {
      "name": "python"
    }
  },
  "nbformat": 4,
  "nbformat_minor": 5
}