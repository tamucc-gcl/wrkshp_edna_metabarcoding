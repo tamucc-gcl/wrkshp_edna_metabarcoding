{
  "cells": [
    {
      "cell_type": "markdown",
      "metadata": {
        "id": "view-in-github",
        "colab_type": "text"
      },
      "source": [
        "<a href=\"https://colab.research.google.com/github/tamucc-gcl/wrkshp_edna_metabarcoding/blob/main/analysis/initialize_environment_tmp.ipynb\" target=\"_parent\"><img src=\"https://colab.research.google.com/assets/colab-badge.svg\" alt=\"Open In Colab\"/></a>"
      ]
    },
    {
      "cell_type": "markdown",
      "id": "B8JlmtFMBjs9",
      "metadata": {
        "id": "B8JlmtFMBjs9"
      },
      "source": [
        "# R in Colab with renv Persisted on Google Drive\n",
        "\n",
        "This notebook will:\n",
        "1. Mount Google Drive and clone your GitHub project.\n",
        "2. Restore your `renv` environment into a Drive-backed library so package installs persist across Colab sessions.\n",
        "3. Run example R code to verify setup.\n"
      ]
    },
    {
      "cell_type": "code",
      "source": [
        "#Set-up Computing Environment - Python\n",
        "\n",
        "## Mount Google Drive\n",
        "from google.colab import drive\n",
        "import os\n",
        "drive.mount('/content/drive')\n",
        "os.environ['COLAB'] = 'TRUE'\n",
        "\n",
        "## Install Linux programs needed\n",
        "!apt install libfribidi-dev libglpk-dev libharfbuzz-dev pandoc\n",
        "\n",
        "## Clone GitHub Repo and move into that repo\n",
        "local_path = '/content/edna_workshop'\n",
        "repo  = \"tamucc-gcl/wrkshp_edna_metabarcoding\"\n",
        "url = f\"https://github.com/{repo}.git\"\n",
        "!git clone {url} {local_path}\n",
        "\n",
        "## Setup R and move to local directory\n",
        "os.chdir(local_path)\n",
        "%reload_ext rpy2.ipython"
      ],
      "metadata": {
        "id": "G0FnmIJ3G-7P",
        "colab": {
          "base_uri": "https://localhost:8080/"
        },
        "outputId": "6022df6f-b9f7-4379-f055-7765bbb71c2c",
        "collapsed": true
      },
      "id": "G0FnmIJ3G-7P",
      "execution_count": null,
      "outputs": [
        {
          "output_type": "stream",
          "name": "stdout",
          "text": [
            "Mounted at /content/drive\n",
            "Cloning into '/content/edna_workshop'...\n",
            "remote: Enumerating objects: 259, done.\u001b[K\n",
            "remote: Counting objects: 100% (259/259), done.\u001b[K\n",
            "remote: Compressing objects: 100% (216/216), done.\u001b[K\n",
            "remote: Total 259 (delta 95), reused 176 (delta 34), pack-reused 0 (from 0)\u001b[K\n",
            "Receiving objects: 100% (259/259), 15.91 MiB | 27.38 MiB/s, done.\n",
            "Resolving deltas: 100% (95/95), done.\n"
          ]
        }
      ]
    },
    {
      "cell_type": "code",
      "source": [
        "#Set-up Computing Environment - R\n",
        "%%R -i local_path\n",
        "# Point R at your Drive-backed library\n",
        "drive_lib <- \"/content/drive/MyDrive/edna_libraries\"\n",
        "dir.create(drive_lib, recursive = TRUE, showWarnings = FALSE)\n",
        ".libPaths(c(drive_lib, .libPaths()))\n",
        "\n",
        "#Install renv if it isn't already\n",
        "if (!require(\"renv\", lib.loc = drive_lib, quietly = TRUE, warn.conflicts = FALSE)) {\n",
        "  install.packages(\"renv\", lib = drive_lib,\n",
        "                   quietly = TRUE, warn.conflicts = FALSE)\n",
        "}\n",
        "\n",
        "#Install required libraries into google drive if they aren't already\n",
        "renv::restore(library = drive_lib,\n",
        "              lockfile = paste0(local_path, '/renv.lock'),\n",
        "              prompt = FALSE)\n",
        "\n",
        "#Create a persistent storage temporary file directory\n",
        "persistent_directory <- \"/content/drive/MyDrive/edna_libraries/intermediate_files\"\n",
        "dir.create(persistent_directory, recursive = TRUE, showWarnings = FALSE)"
      ],
      "metadata": {
        "id": "N3uZ6R1lHhaB",
        "colab": {
          "base_uri": "https://localhost:8080/"
        },
        "outputId": "4777c706-026e-4c8a-a0d6-b2140e9c9060",
        "collapsed": true
      },
      "id": "N3uZ6R1lHhaB",
      "execution_count": null,
      "outputs": [
        {
          "output_type": "stream",
          "name": "stdout",
          "text": [
            "- The library is already synchronized with the lockfile.\n"
          ]
        }
      ]
    },
    {
      "cell_type": "code",
      "source": [],
      "metadata": {
        "id": "LbVO_STR-3J1"
      },
      "id": "LbVO_STR-3J1",
      "execution_count": null,
      "outputs": []
    },
    {
      "cell_type": "code",
      "source": [],
      "metadata": {
        "id": "ggTnXKtZiQbs"
      },
      "id": "ggTnXKtZiQbs",
      "execution_count": null,
      "outputs": []
    },
    {
      "cell_type": "code",
      "source": [
        "#Cleanly unmount Google Drive\n",
        "drive.flush_and_unmount()"
      ],
      "metadata": {
        "id": "p2IQPEo_I_Pk"
      },
      "id": "p2IQPEo_I_Pk",
      "execution_count": null,
      "outputs": []
    }
  ],
  "metadata": {
    "colab": {
      "provenance": [],
      "include_colab_link": true
    },
    "kernelspec": {
      "display_name": "Python 3",
      "name": "python3"
    },
    "language_info": {
      "name": "python"
    }
  },
  "nbformat": 4,
  "nbformat_minor": 5
}