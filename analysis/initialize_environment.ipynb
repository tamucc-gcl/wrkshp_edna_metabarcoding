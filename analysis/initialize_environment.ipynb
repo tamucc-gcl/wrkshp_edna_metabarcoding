{
  "cells": [
    {
      "cell_type": "markdown",
      "metadata": {
        "id": "view-in-github",
        "colab_type": "text"
      },
      "source": [
        "<a href=\"https://colab.research.google.com/github/tamucc-gcl/wrkshp_edna_metabarcoding/blob/main/analysis/initialize_environment.ipynb\" target=\"_parent\"><img src=\"https://colab.research.google.com/assets/colab-badge.svg\" alt=\"Open In Colab\"/></a>"
      ]
    },
    {
      "cell_type": "markdown",
      "id": "B8JlmtFMBjs9",
      "metadata": {
        "id": "B8JlmtFMBjs9"
      },
      "source": [
        "# R in Colab with renv Persisted on Google Drive\n",
        "\n",
        "This notebook will:\n",
        "1. Mount Google Drive and clone your GitHub project.\n",
        "2. Restore your `renv` environment into a Drive-backed library so package installs persist across Colab sessions.\n",
        "3. Run example R code to verify setup.\n"
      ]
    },
    {
      "cell_type": "code",
      "source": [
        "#Set-up Computing Environment 1\n",
        "\n",
        "## Install Linux programs needed\n",
        "#!apt install libglpk-dev pandoc\n",
        "\n",
        "## Mount Google Drive\n",
        "from google.colab import drive\n",
        "import os\n",
        "drive.mount('/content/drive')\n",
        "os.environ['COLAB'] = 'TRUE'\n",
        "\n",
        "## Clone GitHub Repo and move into that repo\n",
        "local_path = '/content/edna_workshop'\n",
        "repo  = \"tamucc-gcl/wrkshp_edna_metabarcoding\"\n",
        "url = f\"https://github.com/{repo}.git\"\n",
        "!git clone {url} {local_path}\n",
        "\n",
        "## Setup R and move to local directory\n",
        "os.chdir(local_path)\n",
        "%reload_ext rpy2.ipython"
      ],
      "metadata": {
        "id": "G0FnmIJ3G-7P",
        "colab": {
          "base_uri": "https://localhost:8080/"
        },
        "outputId": "58624c51-caf4-44ec-c9a2-c565a20481ee"
      },
      "id": "G0FnmIJ3G-7P",
      "execution_count": 1,
      "outputs": [
        {
          "output_type": "stream",
          "name": "stdout",
          "text": [
            "Mounted at /content/drive\n",
            "Cloning into '/content/edna_workshop'...\n",
            "remote: Enumerating objects: 255, done.\u001b[K\n",
            "remote: Counting objects: 100% (255/255), done.\u001b[K\n",
            "remote: Compressing objects: 100% (212/212), done.\u001b[K\n",
            "remote: Total 255 (delta 93), reused 177 (delta 34), pack-reused 0 (from 0)\u001b[K\n",
            "Receiving objects: 100% (255/255), 15.91 MiB | 16.88 MiB/s, done.\n",
            "Resolving deltas: 100% (93/93), done.\n"
          ]
        }
      ]
    },
    {
      "cell_type": "code",
      "source": [
        "%%R -i local_path\n",
        "# Point R at your Drive-backed library\n",
        "drive_lib <- \"/content/drive/MyDrive/edna_libraries\"\n",
        "dir.create(drive_lib, recursive = TRUE, showWarnings = FALSE)\n",
        ".libPaths(c(drive_lib, .libPaths()))\n",
        "\n",
        "if (!require(\"renv\", lib.loc = drive_lib, quietly = TRUE, warn.conflicts = FALSE)) {\n",
        "  install.packages(\"renv\", lib = drive_lib,\n",
        "                   quietly = TRUE, warn.conflicts = FALSE)\n",
        "}"
      ],
      "metadata": {
        "id": "N3uZ6R1lHhaB"
      },
      "id": "N3uZ6R1lHhaB",
      "execution_count": 2,
      "outputs": []
    },
    {
      "cell_type": "code",
      "source": [
        "%%R -i local_path\n",
        "renv::restore(library = drive_lib,\n",
        "              lockfile = paste0(local_path, '/renv.lock'),\n",
        "              prompt = FALSE)"
      ],
      "metadata": {
        "id": "kssOublA7E8O",
        "outputId": "bce3a5fe-5bdd-4896-eea2-d06b6b8b6a7c",
        "colab": {
          "base_uri": "https://localhost:8080/",
          "height": 267
        }
      },
      "id": "kssOublA7E8O",
      "execution_count": 3,
      "outputs": [
        {
          "output_type": "stream",
          "name": "stdout",
          "text": [
            "- The library is already synchronized with the lockfile.\n"
          ]
        },
        {
          "output_type": "display_data",
          "data": {
            "text/plain": [
              "In addition: Warning messages:\n",
              "1: In file(file, \"rt\") :\n",
              "  cannot open file '/usr/lib/R/doc/CRAN_mirrors.csv': No such file or directory\n",
              "2: In file(file, \"rt\") :\n",
              "  cannot open file '/usr/lib/R/doc/CRAN_mirrors.csv': No such file or directory\n",
              "3: In file(file, \"rt\") :\n",
              "  cannot open file '/usr/lib/R/doc/CRAN_mirrors.csv': No such file or directory\n",
              "4: In file(file, \"rt\") :\n",
              "  cannot open file '/usr/lib/R/doc/CRAN_mirrors.csv': No such file or directory\n",
              "5: In file(file, \"rt\") :\n",
              "  cannot open file '/usr/lib/R/doc/CRAN_mirrors.csv': No such file or directory\n",
              "6: In file(file, \"rt\") :\n",
              "  cannot open file '/usr/lib/R/doc/CRAN_mirrors.csv': No such file or directory\n"
            ]
          },
          "metadata": {}
        }
      ]
    },
    {
      "cell_type": "markdown",
      "source": [
        "Below is extra troubleshooting code"
      ],
      "metadata": {
        "id": "mq5hpAa_2yau"
      },
      "id": "mq5hpAa_2yau"
    },
    {
      "cell_type": "code",
      "source": [
        "#Cleanly unmount Google Drive\n",
        "drive.flush_and_unmount()"
      ],
      "metadata": {
        "id": "p2IQPEo_I_Pk"
      },
      "id": "p2IQPEo_I_Pk",
      "execution_count": null,
      "outputs": []
    }
  ],
  "metadata": {
    "colab": {
      "provenance": [],
      "include_colab_link": true
    },
    "kernelspec": {
      "display_name": "Python 3",
      "name": "python3"
    },
    "language_info": {
      "name": "python"
    }
  },
  "nbformat": 4,
  "nbformat_minor": 5
}